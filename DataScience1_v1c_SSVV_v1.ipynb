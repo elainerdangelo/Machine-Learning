{
  "nbformat": 4,
  "nbformat_minor": 0,
  "metadata": {
    "kernelspec": {
      "display_name": "Python 3",
      "language": "python",
      "name": "python3"
    },
    "language_info": {
      "codemirror_mode": {
        "name": "ipython",
        "version": 3
      },
      "file_extension": ".py",
      "mimetype": "text/x-python",
      "name": "python",
      "nbconvert_exporter": "python",
      "pygments_lexer": "ipython3",
      "version": "3.7.3"
    },
    "colab": {
      "name": "DataScience1_v1c_SSVV_v1.ipynb",
      "provenance": []
    }
  },
  "cells": [
    {
      "cell_type": "markdown",
      "metadata": {
        "id": "4RGk6oHm3fdA",
        "colab_type": "text"
      },
      "source": [
        "# <font color='blue'>Ensino Einstein</font>\n",
        "## <font color='black'>Ciência de Dados e Informática para a Área da Saúde</font>\n",
        "### <font color='gray'>Data Science 1 [ Python ]</font>"
      ]
    },
    {
      "cell_type": "markdown",
      "metadata": {
        "id": "GqhgJ7_U3fdC",
        "colab_type": "text"
      },
      "source": [
        "##### Sinais Vitais (SSVV)\n",
        "\n",
        "Indicadores do estado de saúde, pois revelam a eficácia das funções corporais circulatória, respiratória, renal e endócrina. São definidos como sinais vitais: Temperatura - T, Respiração – R, Pulsação – P, Pressão arterial – PA e atualmente a Dor, que tem sido considerada como o 5º sinal vital, devido à sua importância e por seus parâmetros serem regulados por órgão vitais, revelando, assim, o estado de funcionamento deles (SANTOS e VIANA, 2008; MURTA et al., 2009).\n",
        "\n",
        "A temperatura do corpo humano varia entre 35,8 e 37,2ºC. Em média, consideram-se temperaturas normais: a oral de 37ºC, a axilar de 36,4ºC e a retal de 37,6C. O paciente/cliente que apresenta alterações na temperatura, em relação ao seu aumento ou à sua diminuição, pode indicar ao técnico de enfermagem diversas situações não fisiológicas, como por exemplo: infecções, diversos tipos de choque e outros.\n",
        "\n",
        "A temperatura, assim como o pulso, é essencial na monitorização fisiológica do paciente/cliente.\n",
        "\n",
        "De acordo com Porto e Viana (2010); Silva e Silva (2010) e Murta et al., (2009), o pulso é a contração e dilatação de uma artéria que corresponde aos batimentos cardíacos. Ele indica dados da estabilidade cardíaca do paciente e pode ser controlado com frequência por esse profissional. O técnico de enfermagem deve possuir conhecimentos sobre os limites de normalidade do pulso para cada idade, pois assim saberá intervir em cada procedimento que o paciente/cliente necessitar.\n",
        "\n",
        "Outro sinal vital relevante é a respiração, definida como a troca gasosa (oxigênio e gás carbônico) efetuada entre o organismo e o meio externo, verificada pelos movimentos respiratórios de inspiração e expiração (PORTO e VIANA, 2010; SANTOS e VIANA, 2008). Ao se verificar a respiração de qualquer cliente/paciente, o técnico de enfermagem consegue realizar assistência quando ocorre qualquer alteração, com cuidados simples, como a elevação da cabeceira do paciente em posição de Fowler (posição semi-sentada, 45º), com o objetivo de proporcionar uma melhor ventilação ao paciente, facilitando a realização da troca gasosa.\n",
        "\n",
        "A temperatura, o pulso e a respiração são essenciais, assim como a pressão arterial, para a verificação dos sinais vitais.\n",
        "\n",
        "A pressão arterial é a força exercida pelo sangue circulante sobre as paredes das artérias, que depende da força de contração do coração, da quantidade de sangue circulante e da resistência das paredes dos vasos sanguíneos. Segundo Portela e Correa (2007); Santos e Viana (2008), Porto e Viana (2010) e Silva e Silva (2010), essa pressão é obtida por meio de valores, como a pressão sistólica ou máxima (é o pico máximo da pressão devido à ejeção sanguínea), e pressão diastólica ou mínima (quando os ventrículos relaxam, o sangue permanece nas artérias exercendo uma pressão mínima contra as paredes arteriais em todos os momentos). Ao se realizar a aferição da pressão arterial, podem-se observar alterações fisiológicas correspondentes a cada situação que o individuo apresente. Algumas alterações levam ao aumento da pressão arterial e são comuns conforme o hábito de vida de cada pessoa, como o sedentarismo, o fumo, o uso contínuo do álcool, má alimentação, ansiedade, dor, entre outros. Ocorre com menor frequência, a sua diminuição como, por exemplo, em casos de desnutrição, de jejum prolongado, de calor excessivo, entre outros. Outro dado importante para o técnico de enfermagem, ao se verificar esse parâmetro, é perceber se o paciente/cliente está realizando a autoadministração de anti-hipertensivos, ou se necessita iniciar o tratamento para hipertensão arterial, devendo, assim ser orientado a procurar um médico.\n",
        "\n",
        "A dor, ao lado da temperatura, pulso, respiração e pressão arterial, é considerada como o 5º sinal vital pela Agência Americana de Pesquisa e Qualidade em Saúde Pública e a Sociedade Americana de Dor (APS) (PORTO e VIANA, 2010; BOTTEGA e FONTANA, 2012; SOUZA, 2012). Desde janeiro de 2000, a Joint Commission on Accreditation of Healthcare Organizations (JCAHO) - Comissão de Credenciamento e Classificação das Organizações de Cuidadores de Saúde - publicou norma que descreve a dor como quinto sinal vital. Portanto, ela deve ser sempre avaliada e registrada ao mesmo tempo em que são verificados os outros sinais vitais (PEDROSO e CELICH, 2006; FONTES e JAQUES, 2007; PORTO e VIANA, 2010). Vale ressaltar que a equipe de enfermagem é quem efetivamente convive mais tempo com cliente; dessa forma, faz-se necessário que saiba conhecer os sinais de dor para, assim, buscar intervir corretamente no seu alívio. A queixa de dor deve ser sempre valorizada e respeitada devido ao desconforto que manifesta (PEDROSO e CELICH, 2006). A dor é uma condição extremamente complexa. Não se trata apenas de uma forma de sensação, mas também de reações reflexas, aprendizado, memorização, respostas emocionais e comportamentais frente a uma situação dolorosa (PORTO, 2008; SILVA e SILVA, 2010). É uma das principais causas do sofrimento humano, suscitando incapacidades, comprometimento da qualidade de vida e imensuráveis repercussões psicossociais e econômicas, o que a torna um problema de saúde pública (BOTTEGA e FONTANA, 2010). A dor deve ser sistematicamente avaliada, levando-se em consideração as suas características semiológicas: localização, irradiação, qualidade ou caráter, intensidade, duração, evolução, relação com funções orgânicas, fatores desencadeantes ou agravantes, fatores atenuantes e manifestações concomitantes (PORTO, 2008).\n",
        "\n",
        "No entanto, é importante considerar que temperatura, pulso, respiração e pressão arterial podem ser mensurados objetivamente por meio de instrumentos físicos, distinguindo-se da dor, que é inerentemente subjetiva, portanto, o relato do paciente é o indicador mais seguro da sua intensidade (SOUSA, 2002; FONTES e JAQUES, 2007; PORTO, 2008).\n",
        "\n",
        "Avaliar a dor e empenhar medidas para seu alívio, proporcionando conforto e bem estar ao sujeito, podem ser considerados como dispositivos capazes de promover a saúde durante a internação hospitalar ou em cuidados domiciliares (BOTTEGA e FONTANA, 2010). Mesmo acontecendo iniciativas a partir de vários estudos, citados no trabalho de Fontes e Jaques (2007) e considerando-se a dor como 5º sinal vital nas instituições hospitalares, conceito este elaborado pela Sociedade Americana de Dor que já completou dez anos, a dor ainda não é prioridade para os pacientes internados. Em nosso cotidiano, observa-se o convívio dos profissionais com a dor do outro, resultando em uma negativa identificação e observação para possíveis tratamentos (FONTES e JAQUES, 2007).\n",
        "Cabe à enfermagem o controle ou monitoração dos dados referentes aos sinais vitais, de modo que as alterações sejam comunicadas para realização das intervenções necessárias (PORTO e VIANA, 2010)."
      ]
    },
    {
      "cell_type": "code",
      "metadata": {
        "id": "Lt15lJhE3fdC",
        "colab_type": "code",
        "colab": {}
      },
      "source": [
        "# Carregando arquivo csv usando Pandas\n",
        "import pandas as pd\n",
        "file = 'data/HIAE_Triagem_v03.csv'\n",
        "df_raw = pd.read_csv(file, sep = \";\")"
      ],
      "execution_count": 0,
      "outputs": []
    },
    {
      "cell_type": "code",
      "metadata": {
        "scrolled": false,
        "id": "pBR0KYsi3fdH",
        "colab_type": "code",
        "colab": {}
      },
      "source": [
        "df_raw.head(5)"
      ],
      "execution_count": 0,
      "outputs": []
    },
    {
      "cell_type": "code",
      "metadata": {
        "id": "sHKt7tQx3fdL",
        "colab_type": "code",
        "colab": {}
      },
      "source": [
        "df_raw.columns"
      ],
      "execution_count": 0,
      "outputs": []
    },
    {
      "cell_type": "code",
      "metadata": {
        "id": "GBYdZWO33fdP",
        "colab_type": "code",
        "colab": {}
      },
      "source": [
        "# deleting columns names\n",
        "\n",
        "df_SSVV = df_raw.drop(columns = ['insulina_dependente', 'pac_oncologico', 'int_p_queda', 'prot_UPA_AVC', 'prot_UPA_IAM', \n",
        "                                 'prot_UPA_SEPSE', 'qsofa_av_disf_org', 'qsofa_FR', 'qsofa_NC', 'qsofa_PAS', 'qsofa_Txt', \n",
        "                                 'recursos_ESI', 'resp_sepse_queixa_principal', 'upa_avaliacao_dor', 'avaliacao_dor_PAINAD', \n",
        "                                 'calc_qsofa', 'cardiologia_UPA', 'cma_UPA', 'escala_verbal_numerica', 'esi_level_1', \n",
        "                                 'esi_level_2', 'hematologia_UPA', 'medico_externo_UPA', 'nivel_recomendado_ESI', \n",
        "                                 'oncologia_UPA', 'Interna_num'])"
      ],
      "execution_count": 0,
      "outputs": []
    },
    {
      "cell_type": "code",
      "metadata": {
        "id": "ugJ79ite3fdS",
        "colab_type": "code",
        "colab": {}
      },
      "source": [
        "# View\n",
        "df_SSVV.head(5)"
      ],
      "execution_count": 0,
      "outputs": []
    },
    {
      "cell_type": "code",
      "metadata": {
        "id": "XK73qSiX3fdV",
        "colab_type": "code",
        "colab": {}
      },
      "source": [
        "# renaming columns names\n",
        "df_SSVV.columns = ['T','PAd','PAs','FR','P', 'SpO2']"
      ],
      "execution_count": 0,
      "outputs": []
    },
    {
      "cell_type": "code",
      "metadata": {
        "id": "XIzf1x9T3fdY",
        "colab_type": "code",
        "colab": {}
      },
      "source": [
        "# View\n",
        "df_SSVV.head(5)"
      ],
      "execution_count": 0,
      "outputs": []
    },
    {
      "cell_type": "markdown",
      "metadata": {
        "id": "bCF7lYOT3fdf",
        "colab_type": "text"
      },
      "source": [
        "# <>"
      ]
    },
    {
      "cell_type": "markdown",
      "metadata": {
        "id": "PD1Z4xdq3fdg",
        "colab_type": "text"
      },
      "source": [
        "##### Temperatura (T)\n",
        "\n",
        "    VALOR           NOMENCLATURA\n",
        "    Abaixo < 35,5°C Hipotermia\n",
        "    35,5°C - 37,2°C Normotermia ou Afebril\n",
        "    37,3°C - 37,7°C Estado febril/subfebril ou febrícula\n",
        "    37,8°C - 38,9°C Febre\n",
        "    39,0°C - 40,0°C Pirexia\n",
        "    Acima  > 40,0°C Hiperpirexia\n",
        "\n",
        "    >>> Axilar: 35,5°C - 37,0°C <<<\n",
        "\n",
        "    Padrões de febre:\n",
        "\n",
        "    Sustentada..: persistência da febre geralmente em torno de 38°C\n",
        "    Intermitente: a temperatura volta ao nível normal pelo menos 1 vez em 24h\n",
        "    Remitente...: abaixa, mas não volta ao normal\n",
        "    Recidivante.: a temperatura varia entre faixas normais e febris em intervalos maiores de 24h"
      ]
    },
    {
      "cell_type": "code",
      "metadata": {
        "id": "EL7rOg1O3fdg",
        "colab_type": "code",
        "colab": {}
      },
      "source": [
        "df_SSVV.groupby('T').size()"
      ],
      "execution_count": 0,
      "outputs": []
    },
    {
      "cell_type": "code",
      "metadata": {
        "id": "seRFOFtp3fdk",
        "colab_type": "code",
        "colab": {}
      },
      "source": [
        "# Create a list to store the data\n",
        "T_axilar_str = []\n",
        "T_axilar_num = []\n",
        "\n",
        "# For each row in the column\n",
        "for row in df_SSVV['T']:\n",
        "\n",
        "    if row < 35.5:\n",
        "        # Append a term\n",
        "        T_axilar_str.append('Hipotermia')\n",
        "        T_axilar_num.append(1)\n",
        "\n",
        "    elif row >= 35.5 and row <= 37.2:\n",
        "        # Append a term\n",
        "        T_axilar_str.append('Normotermia')\n",
        "        T_axilar_num.append(2)\n",
        "\n",
        "    elif row > 37.2 and row <= 37.7:\n",
        "        # Append a term\n",
        "        T_axilar_str.append('Febricula')\n",
        "        T_axilar_num.append(3)\n",
        "\n",
        "    elif row > 37.7 and row <= 38.9:\n",
        "        # Append a term\n",
        "        T_axilar_str.append('Febre')\n",
        "        T_axilar_num.append(4)\n",
        "\n",
        "    elif row > 38.9 and row <= 40:\n",
        "        # Append a term\n",
        "        T_axilar_str.append('Pirexia')\n",
        "        T_axilar_num.append(5)\n",
        "\n",
        "    elif row > 40:\n",
        "        # Append a term\n",
        "        T_axilar_str.append('Hiperpirexia')\n",
        "        T_axilar_num.append(6)\n",
        "\n",
        "    else:\n",
        "        # Append a failing term\n",
        "        T_axilar_str.append('Failed')\n",
        "        T_axilar_num.append(0)\n",
        "\n",
        "\n",
        "# Create a column from the list\n",
        "df_SSVV['T_str'] = T_axilar_str\n",
        "df_SSVV['T_num'] = T_axilar_num"
      ],
      "execution_count": 0,
      "outputs": []
    },
    {
      "cell_type": "code",
      "metadata": {
        "id": "EcntvQEd3fdm",
        "colab_type": "code",
        "colab": {}
      },
      "source": [
        "# View\n",
        "df_SSVV.head(5)"
      ],
      "execution_count": 0,
      "outputs": []
    },
    {
      "cell_type": "code",
      "metadata": {
        "id": "ASxuSO8c3fdp",
        "colab_type": "code",
        "colab": {}
      },
      "source": [
        "df_SSVV.groupby('T_str').size()"
      ],
      "execution_count": 0,
      "outputs": []
    },
    {
      "cell_type": "markdown",
      "metadata": {
        "id": "Phpejh2m3fdt",
        "colab_type": "text"
      },
      "source": [
        "# <>"
      ]
    },
    {
      "cell_type": "markdown",
      "metadata": {
        "id": "JfNlOW563fdu",
        "colab_type": "text"
      },
      "source": [
        "##### Pressão Arterial (PA) (Adultos)\n",
        "\n",
        "    NOMENCLATURA          SISTÓLICA    DIASTÓLICA\n",
        "    Hipotenso...........: Abaixo <  90 Abaixo <  60\n",
        "    Normotenso..........:     90 - 130     60 -  85\n",
        "    Normotenso Limítrofe:    130 - 139     85 -  89\n",
        "    Hipertenso Leve.....:    140 - 159     90 -  99\n",
        "    Hipertenso Moderado.:    160 - 179    100 - 109\n",
        "    Hipertenso Grave....: Acima  > 180 Acima  > 110\n",
        "\n",
        "    Fatores que afetam a PA: ansiedade, dor, estresse, ingestão de cafeína, tabagismo, idade, sexo, posição do corpo, substâncias psicoativas, exercícios, doenças e febre\n",
        "\n",
        "    Emergência Clínica: PA > 150/100 mmHg com cefaléia, náusea, vômitos, vertigem\n",
        "                        PA > 170/100 mmHg com ou sem sintomas"
      ]
    },
    {
      "cell_type": "code",
      "metadata": {
        "id": "LE46VIUD3fdu",
        "colab_type": "code",
        "colab": {}
      },
      "source": [
        "df_SSVV.groupby('PAd').size()"
      ],
      "execution_count": 0,
      "outputs": []
    },
    {
      "cell_type": "code",
      "metadata": {
        "id": "hNh05ZSE3fdx",
        "colab_type": "code",
        "colab": {}
      },
      "source": [
        "df_SSVV.groupby('PAs').size()"
      ],
      "execution_count": 0,
      "outputs": []
    },
    {
      "cell_type": "code",
      "metadata": {
        "id": "PRQlCYru3fd0",
        "colab_type": "code",
        "colab": {}
      },
      "source": [
        "# Indexes\n",
        "i = 0\n",
        "ii = len(df_SSVV)\n",
        "\n",
        "# Create a list to store the data\n",
        "PA_str = []\n",
        "PA_num = []\n",
        "\n",
        "# For each row in the column\n",
        "while i < ii:\n",
        "\n",
        "    if ((df_SSVV.loc[i, 'PAd'] < 60)) & ((df_SSVV.loc[i, 'PAs'] < 90)):\n",
        "        # Append a term\n",
        "        PA_str.append('Hipotenso')\n",
        "        PA_num.append(1)\n",
        "\n",
        "    elif ((df_SSVV.loc[i, 'PAd'] >= 60) & (df_SSVV.loc[i, 'PAd'] <= 85)) & ((df_SSVV.loc[i, 'PAs'] >= 90) & (df_SSVV.loc[i, 'PAs'] <= 130)):\n",
        "        # Append a term\n",
        "        PA_str.append('Normotenso')\n",
        "        PA_num.append(2)\n",
        "\n",
        "    elif ((df_SSVV.loc[i, 'PAd'] > 85) & (df_SSVV.loc[i, 'PAd'] <= 89)) & ((df_SSVV.loc[i, 'PAs'] > 130) & (df_SSVV.loc[i, 'PAs'] <= 139)):\n",
        "        # Append a term\n",
        "        PA_str.append('Limitrofe')\n",
        "        PA_num.append(3)\n",
        "\n",
        "    elif ((df_SSVV.loc[i, 'PAd'] > 89) & (df_SSVV.loc[i, 'PAd'] <= 99)) & ((df_SSVV.loc[i, 'PAs'] > 139) & (df_SSVV.loc[i, 'PAs'] <= 159)):\n",
        "        # Append a term\n",
        "        PA_str.append('Hipertenso_Leve')\n",
        "        PA_num.append(4)\n",
        "\n",
        "    elif ((df_SSVV.loc[i, 'PAd'] > 99) & (df_SSVV.loc[i, 'PAd'] <= 109)) & ((df_SSVV.loc[i, 'PAs'] > 159) & (df_SSVV.loc[i, 'PAs'] <= 179)):\n",
        "        # Append a term\n",
        "        PA_str.append('Hipertenso_Moderado')\n",
        "        PA_num.append(5)\n",
        "\n",
        "    elif ((df_SSVV.loc[i, 'PAd'] > 109)) & ((df_SSVV.loc[i, 'PAs'] > 179)):\n",
        "        # Append a term\n",
        "        PA_str.append('Hipertenso_Grave')\n",
        "        PA_num.append(6)\n",
        "\n",
        "    elif ((df_SSVV.loc[i, 'PAd'] < 90)) & ((df_SSVV.loc[i, 'PAs'] >= 140)):\n",
        "        # Append a term\n",
        "        PA_str.append('Hipertenso_Sistolica_Isolada')\n",
        "        PA_num.append(7)\n",
        "\n",
        "    else:\n",
        "        # Append a failing term\n",
        "        PA_str.append('Failed')\n",
        "        PA_num.append(0)\n",
        "\n",
        "    i += 1\n",
        "\n",
        "# Create a column from the list\n",
        "df_SSVV['PA_str'] = PA_str\n",
        "df_SSVV['PA_num'] = PA_num"
      ],
      "execution_count": 0,
      "outputs": []
    },
    {
      "cell_type": "code",
      "metadata": {
        "id": "ffFlwuU53fd3",
        "colab_type": "code",
        "colab": {}
      },
      "source": [
        "# View\n",
        "df_SSVV.head(5)"
      ],
      "execution_count": 0,
      "outputs": []
    },
    {
      "cell_type": "code",
      "metadata": {
        "id": "W8ptHOQF3fd6",
        "colab_type": "code",
        "colab": {}
      },
      "source": [
        "df_SSVV.groupby('PA_str').size()"
      ],
      "execution_count": 0,
      "outputs": []
    },
    {
      "cell_type": "markdown",
      "metadata": {
        "id": "zk6hI9G-3fd9",
        "colab_type": "text"
      },
      "source": [
        "# <>"
      ]
    },
    {
      "cell_type": "markdown",
      "metadata": {
        "id": "jNhSuZ7i3fd-",
        "colab_type": "text"
      },
      "source": [
        "##### Frequência Respiratória (FR) (Adultos)\n",
        "\n",
        "    VALOR            NOMENCLATURA\n",
        "    Abaixo < 14 irpm Bradipnéico\n",
        "        14 – 20 irpm Eupnéico\n",
        "    Acima  > 20 irpm Taquipnéico\n",
        "\n",
        "    ADULTOS..: 14 – 20 irpm\n",
        "    CRIANÇAS.: 20 – 30 irpm\n",
        "    LACTENTES: 30 – 40 irpm"
      ]
    },
    {
      "cell_type": "code",
      "metadata": {
        "id": "UXLRNXzD3fd-",
        "colab_type": "code",
        "colab": {}
      },
      "source": [
        "df_SSVV.groupby('FR').size()"
      ],
      "execution_count": 0,
      "outputs": []
    },
    {
      "cell_type": "code",
      "metadata": {
        "id": "7jCI_xai3feB",
        "colab_type": "code",
        "colab": {}
      },
      "source": [
        "# Desenvolva o código...\n"
      ],
      "execution_count": 0,
      "outputs": []
    },
    {
      "cell_type": "code",
      "metadata": {
        "id": "Y54L8N2d3feE",
        "colab_type": "code",
        "colab": {}
      },
      "source": [
        "# View\n",
        "df_SSVV.head(5)"
      ],
      "execution_count": 0,
      "outputs": []
    },
    {
      "cell_type": "code",
      "metadata": {
        "id": "CKU7IONo3feG",
        "colab_type": "code",
        "colab": {}
      },
      "source": [
        "df_SSVV.groupby('FR_str').size()"
      ],
      "execution_count": 0,
      "outputs": []
    },
    {
      "cell_type": "markdown",
      "metadata": {
        "id": "hBKTS2vo3feI",
        "colab_type": "text"
      },
      "source": [
        "# <>"
      ]
    },
    {
      "cell_type": "markdown",
      "metadata": {
        "id": "3KvkXF5r3feJ",
        "colab_type": "text"
      },
      "source": [
        "##### Frequência Cardíaca (FC) (Adultos)\n",
        "\n",
        "    VALOR            NOMENCLATURA\n",
        "    Abaixo <  60 bpm Bradicárdico\n",
        "        60 – 100 bpm Normocárdico\n",
        "    Acima  > 100 bpm Taquicárdico\n",
        "\n",
        "    ADULTOS..:  60 – 100 bpm\n",
        "    CRIANÇAS.:  80 – 130 bpm\n",
        "    LACTENTES: 120 – 160 bpm (média: 140)\n",
        "\n",
        "    Exame: frequência de pulso (bradisfigmia e taquisfigmia)\n",
        "           ritmo (rítmico, arrítmico e dicrótico)\n",
        "           amplitude (cheio e filiforme)"
      ]
    },
    {
      "cell_type": "code",
      "metadata": {
        "id": "QvHCqeii3feJ",
        "colab_type": "code",
        "colab": {}
      },
      "source": [
        "df_SSVV.groupby('P').size()"
      ],
      "execution_count": 0,
      "outputs": []
    },
    {
      "cell_type": "code",
      "metadata": {
        "id": "-Ux3iZxQ3feM",
        "colab_type": "code",
        "colab": {}
      },
      "source": [
        "# Desenvolva o código...\n"
      ],
      "execution_count": 0,
      "outputs": []
    },
    {
      "cell_type": "code",
      "metadata": {
        "id": "RLu1zLHy3feP",
        "colab_type": "code",
        "colab": {}
      },
      "source": [
        "# View\n",
        "df_SSVV.head(5)"
      ],
      "execution_count": 0,
      "outputs": []
    },
    {
      "cell_type": "code",
      "metadata": {
        "id": "79BSmggY3feU",
        "colab_type": "code",
        "colab": {}
      },
      "source": [
        "df_SSVV.groupby('P_str').size()"
      ],
      "execution_count": 0,
      "outputs": []
    },
    {
      "cell_type": "markdown",
      "metadata": {
        "id": "01AqIKK13feW",
        "colab_type": "text"
      },
      "source": [
        "# <>"
      ]
    },
    {
      "cell_type": "markdown",
      "metadata": {
        "id": "H1IR-Z5p3feX",
        "colab_type": "text"
      },
      "source": [
        "##### SpO2\n",
        "\n",
        "    NOMENCLATURA      VALOR\n",
        "    Baixo...........: Abaixo <  95 (%)\n",
        "    Normal..........:     95 - 100 (%)"
      ]
    },
    {
      "cell_type": "code",
      "metadata": {
        "id": "BuGlJRLq3feX",
        "colab_type": "code",
        "colab": {}
      },
      "source": [
        "df_SSVV.groupby('SpO2').size()"
      ],
      "execution_count": 0,
      "outputs": []
    },
    {
      "cell_type": "code",
      "metadata": {
        "id": "RXdNocXJ3fea",
        "colab_type": "code",
        "colab": {}
      },
      "source": [
        "# Desenvolva o código..."
      ],
      "execution_count": 0,
      "outputs": []
    },
    {
      "cell_type": "code",
      "metadata": {
        "id": "xH5Lmi9I3fec",
        "colab_type": "code",
        "colab": {}
      },
      "source": [
        "# View\n",
        "df_SSVV.head(5)"
      ],
      "execution_count": 0,
      "outputs": []
    },
    {
      "cell_type": "code",
      "metadata": {
        "id": "1ArqLrCm3fef",
        "colab_type": "code",
        "colab": {}
      },
      "source": [
        "df_SSVV.groupby('SpO2_str').size()"
      ],
      "execution_count": 0,
      "outputs": []
    },
    {
      "cell_type": "code",
      "metadata": {
        "id": "o7OUczdC3fei",
        "colab_type": "code",
        "colab": {}
      },
      "source": [
        "df_SSVV[\"Interna_num\"] = df_raw[\"Interna_num\"]"
      ],
      "execution_count": 0,
      "outputs": []
    },
    {
      "cell_type": "code",
      "metadata": {
        "id": "LcAajqdX3fel",
        "colab_type": "code",
        "colab": {}
      },
      "source": [
        "df_SSVV.head(30)"
      ],
      "execution_count": 0,
      "outputs": []
    },
    {
      "cell_type": "code",
      "metadata": {
        "id": "8-MlTDgz3feo",
        "colab_type": "code",
        "colab": {}
      },
      "source": [
        "# Write DataFrame to a comma-separated values (csv) file\n",
        "file = 'data/HIAE_SSVV_v01.csv'\n",
        "df_SSVV.to_csv(file, sep = \";\", index = False)"
      ],
      "execution_count": 0,
      "outputs": []
    },
    {
      "cell_type": "code",
      "metadata": {
        "id": "2767f9JR3feq",
        "colab_type": "code",
        "colab": {}
      },
      "source": [
        ""
      ],
      "execution_count": 0,
      "outputs": []
    }
  ]
}