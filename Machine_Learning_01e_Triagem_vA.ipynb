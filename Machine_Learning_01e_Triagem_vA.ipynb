{
  "nbformat": 4,
  "nbformat_minor": 0,
  "metadata": {
    "anaconda-cloud": {},
    "kernelspec": {
      "display_name": "Python 3",
      "language": "python",
      "name": "python3"
    },
    "language_info": {
      "codemirror_mode": {
        "name": "ipython",
        "version": 3
      },
      "file_extension": ".py",
      "mimetype": "text/x-python",
      "name": "python",
      "nbconvert_exporter": "python",
      "pygments_lexer": "ipython3",
      "version": "3.7.3"
    },
    "colab": {
      "name": "Machine_Learning_01e_Triagem_vA.ipynb",
      "provenance": []
    }
  },
  "cells": [
    {
      "cell_type": "markdown",
      "metadata": {
        "id": "9WmgTLZn2pnI",
        "colab_type": "text"
      },
      "source": [
        "# <font color='blue'>Ensino Einstein</font>\n",
        "## <font color='black'>Ciência de Dados e Informática para a Área da Saúde</font>\n",
        "### <font color='gray'>Data Science 2 [ Python ]</font>"
      ]
    },
    {
      "cell_type": "code",
      "metadata": {
        "id": "wNhKFTPK2pnK",
        "colab_type": "code",
        "colab": {},
        "outputId": "ec507328-796f-4dde-c629-fac512febbbf"
      },
      "source": [
        "from IPython.display import Image\n",
        "Image(url = 'images/processo_DataScience.png')"
      ],
      "execution_count": 0,
      "outputs": [
        {
          "output_type": "execute_result",
          "data": {
            "text/html": [
              "<img src=\"images/processo_DataScience.png\"/>"
            ],
            "text/plain": [
              "<IPython.core.display.Image object>"
            ]
          },
          "metadata": {
            "tags": []
          },
          "execution_count": 1
        }
      ]
    },
    {
      "cell_type": "code",
      "metadata": {
        "id": "bDq8ZTRy2pnQ",
        "colab_type": "code",
        "colab": {}
      },
      "source": [
        "import warnings\n",
        "warnings.filterwarnings(\"ignore\")"
      ],
      "execution_count": 0,
      "outputs": []
    },
    {
      "cell_type": "markdown",
      "metadata": {
        "id": "bc1c6sMO2pnU",
        "colab_type": "text"
      },
      "source": [
        "### Definição do Problema de Negócio"
      ]
    },
    {
      "cell_type": "markdown",
      "metadata": {
        "id": "4FbFrVOC2pnU",
        "colab_type": "text"
      },
      "source": [
        "Criação de um modelo preditivo que seja capaz de prever a chance de uma pessoa ser internada durante o processo de Triagem.\n",
        "\n",
        "Primeiramente apenas os Sinais Vitais, posteriormente os Sinais Vitais em conjunto com as demais variáveis já pré selecionadas."
      ]
    },
    {
      "cell_type": "markdown",
      "metadata": {
        "id": "LAKuIqrx2pnV",
        "colab_type": "text"
      },
      "source": [
        "Dataset: HIAE_SSVV_v01.csv & HIAE_Triagem_v03.csv"
      ]
    },
    {
      "cell_type": "markdown",
      "metadata": {
        "id": "Yx8TiPQC2pnW",
        "colab_type": "text"
      },
      "source": [
        "Este dataset descreve os registros médicos entre pacientes do HIAE após a passagem pela Triagem, onde agora cada registro já possui a informação se o paciente internou ou não, de acordo com pré-processamento já realizado anteriormente."
      ]
    },
    {
      "cell_type": "markdown",
      "metadata": {
        "id": "Xa--kJ4o2pnW",
        "colab_type": "text"
      },
      "source": [
        "### Informações sobre os atributos:\n",
        "\n",
        "1. ..."
      ]
    },
    {
      "cell_type": "markdown",
      "metadata": {
        "id": "Hf7wx6P62pnX",
        "colab_type": "text"
      },
      "source": [
        "### Extraindo e Carregando os Dados"
      ]
    },
    {
      "cell_type": "code",
      "metadata": {
        "id": "Cn_KdY_x2pnY",
        "colab_type": "code",
        "colab": {}
      },
      "source": [
        "# Carregando arquivo .csv\n",
        "import pandas as pd\n",
        "file_1 = 'data/HIAE_SSVV_v01.csv'\n",
        "file_2 = 'data/HIAE_Triagem_v03.csv'\n",
        "df_raw_1 = pd.read_csv(file_1, sep = \";\")\n",
        "df_raw_2 = pd.read_csv(file_2, sep = \";\")"
      ],
      "execution_count": 0,
      "outputs": []
    },
    {
      "cell_type": "markdown",
      "metadata": {
        "id": "sKNfqXFn2pnb",
        "colab_type": "text"
      },
      "source": [
        "### Análise Exploratória de Dados"
      ]
    },
    {
      "cell_type": "markdown",
      "metadata": {
        "id": "zU6d1MRO2pnc",
        "colab_type": "text"
      },
      "source": [
        "#### Estatística Descritiva"
      ]
    },
    {
      "cell_type": "code",
      "metadata": {
        "id": "IuFb4Pf72pnd",
        "colab_type": "code",
        "colab": {},
        "outputId": "de0432d9-869f-46a5-fa25-bb2a7bdf038a"
      },
      "source": [
        "# Visualizando as primeiras 10 linhas\n",
        "df_raw_1.head(10)"
      ],
      "execution_count": 0,
      "outputs": [
        {
          "output_type": "execute_result",
          "data": {
            "text/html": [
              "<div>\n",
              "<style scoped>\n",
              "    .dataframe tbody tr th:only-of-type {\n",
              "        vertical-align: middle;\n",
              "    }\n",
              "\n",
              "    .dataframe tbody tr th {\n",
              "        vertical-align: top;\n",
              "    }\n",
              "\n",
              "    .dataframe thead th {\n",
              "        text-align: right;\n",
              "    }\n",
              "</style>\n",
              "<table border=\"1\" class=\"dataframe\">\n",
              "  <thead>\n",
              "    <tr style=\"text-align: right;\">\n",
              "      <th></th>\n",
              "      <th>T</th>\n",
              "      <th>PAd</th>\n",
              "      <th>PAs</th>\n",
              "      <th>FR</th>\n",
              "      <th>P</th>\n",
              "      <th>SpO2</th>\n",
              "      <th>T_str</th>\n",
              "      <th>T_num</th>\n",
              "      <th>PA_str</th>\n",
              "      <th>PA_num</th>\n",
              "      <th>FR_str</th>\n",
              "      <th>FR_num</th>\n",
              "      <th>P_str</th>\n",
              "      <th>P_num</th>\n",
              "      <th>SpO2_str</th>\n",
              "      <th>SpO2_num</th>\n",
              "      <th>Interna_num</th>\n",
              "    </tr>\n",
              "  </thead>\n",
              "  <tbody>\n",
              "    <tr>\n",
              "      <th>0</th>\n",
              "      <td>36.4</td>\n",
              "      <td>76</td>\n",
              "      <td>113</td>\n",
              "      <td>18</td>\n",
              "      <td>79</td>\n",
              "      <td>96</td>\n",
              "      <td>Normotermia</td>\n",
              "      <td>2</td>\n",
              "      <td>Normotenso</td>\n",
              "      <td>2</td>\n",
              "      <td>Eupneico</td>\n",
              "      <td>2</td>\n",
              "      <td>Normocardico</td>\n",
              "      <td>2</td>\n",
              "      <td>Normal</td>\n",
              "      <td>2</td>\n",
              "      <td>0</td>\n",
              "    </tr>\n",
              "    <tr>\n",
              "      <th>1</th>\n",
              "      <td>36.7</td>\n",
              "      <td>74</td>\n",
              "      <td>118</td>\n",
              "      <td>16</td>\n",
              "      <td>75</td>\n",
              "      <td>98</td>\n",
              "      <td>Normotermia</td>\n",
              "      <td>2</td>\n",
              "      <td>Normotenso</td>\n",
              "      <td>2</td>\n",
              "      <td>Eupneico</td>\n",
              "      <td>2</td>\n",
              "      <td>Normocardico</td>\n",
              "      <td>2</td>\n",
              "      <td>Normal</td>\n",
              "      <td>2</td>\n",
              "      <td>0</td>\n",
              "    </tr>\n",
              "    <tr>\n",
              "      <th>2</th>\n",
              "      <td>36.2</td>\n",
              "      <td>82</td>\n",
              "      <td>114</td>\n",
              "      <td>17</td>\n",
              "      <td>86</td>\n",
              "      <td>97</td>\n",
              "      <td>Normotermia</td>\n",
              "      <td>2</td>\n",
              "      <td>Normotenso</td>\n",
              "      <td>2</td>\n",
              "      <td>Eupneico</td>\n",
              "      <td>2</td>\n",
              "      <td>Normocardico</td>\n",
              "      <td>2</td>\n",
              "      <td>Normal</td>\n",
              "      <td>2</td>\n",
              "      <td>0</td>\n",
              "    </tr>\n",
              "    <tr>\n",
              "      <th>3</th>\n",
              "      <td>36.6</td>\n",
              "      <td>77</td>\n",
              "      <td>133</td>\n",
              "      <td>16</td>\n",
              "      <td>115</td>\n",
              "      <td>94</td>\n",
              "      <td>Normotermia</td>\n",
              "      <td>2</td>\n",
              "      <td>Normotenso</td>\n",
              "      <td>2</td>\n",
              "      <td>Eupneico</td>\n",
              "      <td>2</td>\n",
              "      <td>Taquicardico</td>\n",
              "      <td>3</td>\n",
              "      <td>Normal</td>\n",
              "      <td>2</td>\n",
              "      <td>0</td>\n",
              "    </tr>\n",
              "    <tr>\n",
              "      <th>4</th>\n",
              "      <td>35.9</td>\n",
              "      <td>89</td>\n",
              "      <td>122</td>\n",
              "      <td>18</td>\n",
              "      <td>80</td>\n",
              "      <td>95</td>\n",
              "      <td>Normotermia</td>\n",
              "      <td>2</td>\n",
              "      <td>Normotenso</td>\n",
              "      <td>2</td>\n",
              "      <td>Eupneico</td>\n",
              "      <td>2</td>\n",
              "      <td>Normocardico</td>\n",
              "      <td>2</td>\n",
              "      <td>Normal</td>\n",
              "      <td>2</td>\n",
              "      <td>0</td>\n",
              "    </tr>\n",
              "    <tr>\n",
              "      <th>5</th>\n",
              "      <td>36.6</td>\n",
              "      <td>89</td>\n",
              "      <td>134</td>\n",
              "      <td>11</td>\n",
              "      <td>95</td>\n",
              "      <td>97</td>\n",
              "      <td>Normotermia</td>\n",
              "      <td>2</td>\n",
              "      <td>Normotenso</td>\n",
              "      <td>2</td>\n",
              "      <td>Eupneico</td>\n",
              "      <td>2</td>\n",
              "      <td>Normocardico</td>\n",
              "      <td>2</td>\n",
              "      <td>Normal</td>\n",
              "      <td>2</td>\n",
              "      <td>0</td>\n",
              "    </tr>\n",
              "    <tr>\n",
              "      <th>6</th>\n",
              "      <td>36.1</td>\n",
              "      <td>79</td>\n",
              "      <td>112</td>\n",
              "      <td>16</td>\n",
              "      <td>82</td>\n",
              "      <td>98</td>\n",
              "      <td>Normotermia</td>\n",
              "      <td>2</td>\n",
              "      <td>Normotenso</td>\n",
              "      <td>2</td>\n",
              "      <td>Eupneico</td>\n",
              "      <td>2</td>\n",
              "      <td>Normocardico</td>\n",
              "      <td>2</td>\n",
              "      <td>Normal</td>\n",
              "      <td>2</td>\n",
              "      <td>0</td>\n",
              "    </tr>\n",
              "    <tr>\n",
              "      <th>7</th>\n",
              "      <td>36.1</td>\n",
              "      <td>90</td>\n",
              "      <td>150</td>\n",
              "      <td>17</td>\n",
              "      <td>108</td>\n",
              "      <td>98</td>\n",
              "      <td>Normotermia</td>\n",
              "      <td>2</td>\n",
              "      <td>Hipertenso_Leve/Mod</td>\n",
              "      <td>3</td>\n",
              "      <td>Eupneico</td>\n",
              "      <td>2</td>\n",
              "      <td>Taquicardico</td>\n",
              "      <td>3</td>\n",
              "      <td>Normal</td>\n",
              "      <td>2</td>\n",
              "      <td>0</td>\n",
              "    </tr>\n",
              "    <tr>\n",
              "      <th>8</th>\n",
              "      <td>36.0</td>\n",
              "      <td>67</td>\n",
              "      <td>121</td>\n",
              "      <td>18</td>\n",
              "      <td>65</td>\n",
              "      <td>98</td>\n",
              "      <td>Normotermia</td>\n",
              "      <td>2</td>\n",
              "      <td>Normotenso</td>\n",
              "      <td>2</td>\n",
              "      <td>Eupneico</td>\n",
              "      <td>2</td>\n",
              "      <td>Normocardico</td>\n",
              "      <td>2</td>\n",
              "      <td>Normal</td>\n",
              "      <td>2</td>\n",
              "      <td>0</td>\n",
              "    </tr>\n",
              "    <tr>\n",
              "      <th>9</th>\n",
              "      <td>35.7</td>\n",
              "      <td>82</td>\n",
              "      <td>152</td>\n",
              "      <td>12</td>\n",
              "      <td>61</td>\n",
              "      <td>97</td>\n",
              "      <td>Normotermia</td>\n",
              "      <td>2</td>\n",
              "      <td>Hipertenso_Sistolica_Isolada</td>\n",
              "      <td>5</td>\n",
              "      <td>Eupneico</td>\n",
              "      <td>2</td>\n",
              "      <td>Normocardico</td>\n",
              "      <td>2</td>\n",
              "      <td>Normal</td>\n",
              "      <td>2</td>\n",
              "      <td>0</td>\n",
              "    </tr>\n",
              "  </tbody>\n",
              "</table>\n",
              "</div>"
            ],
            "text/plain": [
              "      T  PAd  PAs  FR    P  SpO2        T_str  T_num  \\\n",
              "0  36.4   76  113  18   79    96  Normotermia      2   \n",
              "1  36.7   74  118  16   75    98  Normotermia      2   \n",
              "2  36.2   82  114  17   86    97  Normotermia      2   \n",
              "3  36.6   77  133  16  115    94  Normotermia      2   \n",
              "4  35.9   89  122  18   80    95  Normotermia      2   \n",
              "5  36.6   89  134  11   95    97  Normotermia      2   \n",
              "6  36.1   79  112  16   82    98  Normotermia      2   \n",
              "7  36.1   90  150  17  108    98  Normotermia      2   \n",
              "8  36.0   67  121  18   65    98  Normotermia      2   \n",
              "9  35.7   82  152  12   61    97  Normotermia      2   \n",
              "\n",
              "                         PA_str  PA_num    FR_str  FR_num         P_str  \\\n",
              "0                    Normotenso       2  Eupneico       2  Normocardico   \n",
              "1                    Normotenso       2  Eupneico       2  Normocardico   \n",
              "2                    Normotenso       2  Eupneico       2  Normocardico   \n",
              "3                    Normotenso       2  Eupneico       2  Taquicardico   \n",
              "4                    Normotenso       2  Eupneico       2  Normocardico   \n",
              "5                    Normotenso       2  Eupneico       2  Normocardico   \n",
              "6                    Normotenso       2  Eupneico       2  Normocardico   \n",
              "7           Hipertenso_Leve/Mod       3  Eupneico       2  Taquicardico   \n",
              "8                    Normotenso       2  Eupneico       2  Normocardico   \n",
              "9  Hipertenso_Sistolica_Isolada       5  Eupneico       2  Normocardico   \n",
              "\n",
              "   P_num SpO2_str  SpO2_num  Interna_num  \n",
              "0      2   Normal         2            0  \n",
              "1      2   Normal         2            0  \n",
              "2      2   Normal         2            0  \n",
              "3      3   Normal         2            0  \n",
              "4      2   Normal         2            0  \n",
              "5      2   Normal         2            0  \n",
              "6      2   Normal         2            0  \n",
              "7      3   Normal         2            0  \n",
              "8      2   Normal         2            0  \n",
              "9      2   Normal         2            0  "
            ]
          },
          "metadata": {
            "tags": []
          },
          "execution_count": 4
        }
      ]
    },
    {
      "cell_type": "code",
      "metadata": {
        "id": "5DF7mFxv2png",
        "colab_type": "code",
        "colab": {},
        "outputId": "ec1df8a1-1adc-4072-9394-811461168633"
      },
      "source": [
        "# Visualizando as primeiras 10 linhas\n",
        "df_raw_2.head(10)"
      ],
      "execution_count": 0,
      "outputs": [
        {
          "output_type": "execute_result",
          "data": {
            "text/html": [
              "<div>\n",
              "<style scoped>\n",
              "    .dataframe tbody tr th:only-of-type {\n",
              "        vertical-align: middle;\n",
              "    }\n",
              "\n",
              "    .dataframe tbody tr th {\n",
              "        vertical-align: top;\n",
              "    }\n",
              "\n",
              "    .dataframe thead th {\n",
              "        text-align: right;\n",
              "    }\n",
              "</style>\n",
              "<table border=\"1\" class=\"dataframe\">\n",
              "  <thead>\n",
              "    <tr style=\"text-align: right;\">\n",
              "      <th></th>\n",
              "      <th>temp_axilar</th>\n",
              "      <th>pad</th>\n",
              "      <th>pas</th>\n",
              "      <th>freq_respiratoria</th>\n",
              "      <th>pulso_periferico</th>\n",
              "      <th>spo</th>\n",
              "      <th>insulina_dependente</th>\n",
              "      <th>pac_oncologico</th>\n",
              "      <th>int_p_queda</th>\n",
              "      <th>prec_tipo_UPA</th>\n",
              "      <th>...</th>\n",
              "      <th>cardiologia_UPA</th>\n",
              "      <th>cma_UPA</th>\n",
              "      <th>escala_verbal_numerica</th>\n",
              "      <th>esi_level_1</th>\n",
              "      <th>esi_level_2</th>\n",
              "      <th>hematologia_UPA</th>\n",
              "      <th>medico_externo_UPA</th>\n",
              "      <th>nivel_recomendado_ESI</th>\n",
              "      <th>oncologia_UPA</th>\n",
              "      <th>Interna_num</th>\n",
              "    </tr>\n",
              "  </thead>\n",
              "  <tbody>\n",
              "    <tr>\n",
              "      <th>0</th>\n",
              "      <td>36.4</td>\n",
              "      <td>76</td>\n",
              "      <td>113</td>\n",
              "      <td>18</td>\n",
              "      <td>79</td>\n",
              "      <td>96</td>\n",
              "      <td>0</td>\n",
              "      <td>0</td>\n",
              "      <td>0</td>\n",
              "      <td>0</td>\n",
              "      <td>...</td>\n",
              "      <td>0</td>\n",
              "      <td>0</td>\n",
              "      <td>0</td>\n",
              "      <td>0</td>\n",
              "      <td>0</td>\n",
              "      <td>0</td>\n",
              "      <td>0</td>\n",
              "      <td>4</td>\n",
              "      <td>0</td>\n",
              "      <td>0</td>\n",
              "    </tr>\n",
              "    <tr>\n",
              "      <th>1</th>\n",
              "      <td>36.7</td>\n",
              "      <td>74</td>\n",
              "      <td>118</td>\n",
              "      <td>16</td>\n",
              "      <td>75</td>\n",
              "      <td>98</td>\n",
              "      <td>0</td>\n",
              "      <td>0</td>\n",
              "      <td>0</td>\n",
              "      <td>0</td>\n",
              "      <td>...</td>\n",
              "      <td>0</td>\n",
              "      <td>0</td>\n",
              "      <td>7</td>\n",
              "      <td>0</td>\n",
              "      <td>0</td>\n",
              "      <td>0</td>\n",
              "      <td>0</td>\n",
              "      <td>3</td>\n",
              "      <td>0</td>\n",
              "      <td>0</td>\n",
              "    </tr>\n",
              "    <tr>\n",
              "      <th>2</th>\n",
              "      <td>36.2</td>\n",
              "      <td>82</td>\n",
              "      <td>114</td>\n",
              "      <td>17</td>\n",
              "      <td>86</td>\n",
              "      <td>97</td>\n",
              "      <td>0</td>\n",
              "      <td>0</td>\n",
              "      <td>0</td>\n",
              "      <td>0</td>\n",
              "      <td>...</td>\n",
              "      <td>0</td>\n",
              "      <td>0</td>\n",
              "      <td>0</td>\n",
              "      <td>0</td>\n",
              "      <td>0</td>\n",
              "      <td>0</td>\n",
              "      <td>0</td>\n",
              "      <td>3</td>\n",
              "      <td>0</td>\n",
              "      <td>0</td>\n",
              "    </tr>\n",
              "    <tr>\n",
              "      <th>3</th>\n",
              "      <td>36.6</td>\n",
              "      <td>77</td>\n",
              "      <td>133</td>\n",
              "      <td>16</td>\n",
              "      <td>115</td>\n",
              "      <td>94</td>\n",
              "      <td>0</td>\n",
              "      <td>0</td>\n",
              "      <td>0</td>\n",
              "      <td>0</td>\n",
              "      <td>...</td>\n",
              "      <td>0</td>\n",
              "      <td>0</td>\n",
              "      <td>0</td>\n",
              "      <td>0</td>\n",
              "      <td>0</td>\n",
              "      <td>0</td>\n",
              "      <td>0</td>\n",
              "      <td>3</td>\n",
              "      <td>0</td>\n",
              "      <td>0</td>\n",
              "    </tr>\n",
              "    <tr>\n",
              "      <th>4</th>\n",
              "      <td>35.9</td>\n",
              "      <td>89</td>\n",
              "      <td>122</td>\n",
              "      <td>18</td>\n",
              "      <td>80</td>\n",
              "      <td>95</td>\n",
              "      <td>0</td>\n",
              "      <td>0</td>\n",
              "      <td>0</td>\n",
              "      <td>0</td>\n",
              "      <td>...</td>\n",
              "      <td>0</td>\n",
              "      <td>0</td>\n",
              "      <td>7</td>\n",
              "      <td>0</td>\n",
              "      <td>0</td>\n",
              "      <td>0</td>\n",
              "      <td>0</td>\n",
              "      <td>3</td>\n",
              "      <td>0</td>\n",
              "      <td>0</td>\n",
              "    </tr>\n",
              "    <tr>\n",
              "      <th>5</th>\n",
              "      <td>36.6</td>\n",
              "      <td>89</td>\n",
              "      <td>134</td>\n",
              "      <td>11</td>\n",
              "      <td>95</td>\n",
              "      <td>97</td>\n",
              "      <td>0</td>\n",
              "      <td>0</td>\n",
              "      <td>0</td>\n",
              "      <td>0</td>\n",
              "      <td>...</td>\n",
              "      <td>0</td>\n",
              "      <td>0</td>\n",
              "      <td>7</td>\n",
              "      <td>0</td>\n",
              "      <td>0</td>\n",
              "      <td>0</td>\n",
              "      <td>0</td>\n",
              "      <td>3</td>\n",
              "      <td>0</td>\n",
              "      <td>0</td>\n",
              "    </tr>\n",
              "    <tr>\n",
              "      <th>6</th>\n",
              "      <td>36.1</td>\n",
              "      <td>79</td>\n",
              "      <td>112</td>\n",
              "      <td>16</td>\n",
              "      <td>82</td>\n",
              "      <td>98</td>\n",
              "      <td>0</td>\n",
              "      <td>0</td>\n",
              "      <td>0</td>\n",
              "      <td>0</td>\n",
              "      <td>...</td>\n",
              "      <td>0</td>\n",
              "      <td>0</td>\n",
              "      <td>0</td>\n",
              "      <td>0</td>\n",
              "      <td>0</td>\n",
              "      <td>0</td>\n",
              "      <td>0</td>\n",
              "      <td>4</td>\n",
              "      <td>0</td>\n",
              "      <td>0</td>\n",
              "    </tr>\n",
              "    <tr>\n",
              "      <th>7</th>\n",
              "      <td>36.1</td>\n",
              "      <td>90</td>\n",
              "      <td>150</td>\n",
              "      <td>17</td>\n",
              "      <td>108</td>\n",
              "      <td>98</td>\n",
              "      <td>0</td>\n",
              "      <td>0</td>\n",
              "      <td>0</td>\n",
              "      <td>0</td>\n",
              "      <td>...</td>\n",
              "      <td>0</td>\n",
              "      <td>0</td>\n",
              "      <td>1</td>\n",
              "      <td>0</td>\n",
              "      <td>0</td>\n",
              "      <td>0</td>\n",
              "      <td>0</td>\n",
              "      <td>3</td>\n",
              "      <td>0</td>\n",
              "      <td>0</td>\n",
              "    </tr>\n",
              "    <tr>\n",
              "      <th>8</th>\n",
              "      <td>36.0</td>\n",
              "      <td>67</td>\n",
              "      <td>121</td>\n",
              "      <td>18</td>\n",
              "      <td>65</td>\n",
              "      <td>98</td>\n",
              "      <td>0</td>\n",
              "      <td>0</td>\n",
              "      <td>0</td>\n",
              "      <td>0</td>\n",
              "      <td>...</td>\n",
              "      <td>0</td>\n",
              "      <td>0</td>\n",
              "      <td>8</td>\n",
              "      <td>0</td>\n",
              "      <td>0</td>\n",
              "      <td>0</td>\n",
              "      <td>0</td>\n",
              "      <td>3</td>\n",
              "      <td>0</td>\n",
              "      <td>0</td>\n",
              "    </tr>\n",
              "    <tr>\n",
              "      <th>9</th>\n",
              "      <td>35.7</td>\n",
              "      <td>82</td>\n",
              "      <td>152</td>\n",
              "      <td>12</td>\n",
              "      <td>61</td>\n",
              "      <td>97</td>\n",
              "      <td>0</td>\n",
              "      <td>0</td>\n",
              "      <td>1</td>\n",
              "      <td>0</td>\n",
              "      <td>...</td>\n",
              "      <td>0</td>\n",
              "      <td>0</td>\n",
              "      <td>0</td>\n",
              "      <td>0</td>\n",
              "      <td>0</td>\n",
              "      <td>0</td>\n",
              "      <td>0</td>\n",
              "      <td>4</td>\n",
              "      <td>0</td>\n",
              "      <td>0</td>\n",
              "    </tr>\n",
              "  </tbody>\n",
              "</table>\n",
              "<p>10 rows × 26 columns</p>\n",
              "</div>"
            ],
            "text/plain": [
              "   temp_axilar  pad  pas  freq_respiratoria  pulso_periferico  spo  \\\n",
              "0         36.4   76  113                 18                79   96   \n",
              "1         36.7   74  118                 16                75   98   \n",
              "2         36.2   82  114                 17                86   97   \n",
              "3         36.6   77  133                 16               115   94   \n",
              "4         35.9   89  122                 18                80   95   \n",
              "5         36.6   89  134                 11                95   97   \n",
              "6         36.1   79  112                 16                82   98   \n",
              "7         36.1   90  150                 17               108   98   \n",
              "8         36.0   67  121                 18                65   98   \n",
              "9         35.7   82  152                 12                61   97   \n",
              "\n",
              "   insulina_dependente  pac_oncologico  int_p_queda  prec_tipo_UPA  ...  \\\n",
              "0                    0               0            0              0  ...   \n",
              "1                    0               0            0              0  ...   \n",
              "2                    0               0            0              0  ...   \n",
              "3                    0               0            0              0  ...   \n",
              "4                    0               0            0              0  ...   \n",
              "5                    0               0            0              0  ...   \n",
              "6                    0               0            0              0  ...   \n",
              "7                    0               0            0              0  ...   \n",
              "8                    0               0            0              0  ...   \n",
              "9                    0               0            1              0  ...   \n",
              "\n",
              "   cardiologia_UPA  cma_UPA  escala_verbal_numerica  esi_level_1  esi_level_2  \\\n",
              "0                0        0                       0            0            0   \n",
              "1                0        0                       7            0            0   \n",
              "2                0        0                       0            0            0   \n",
              "3                0        0                       0            0            0   \n",
              "4                0        0                       7            0            0   \n",
              "5                0        0                       7            0            0   \n",
              "6                0        0                       0            0            0   \n",
              "7                0        0                       1            0            0   \n",
              "8                0        0                       8            0            0   \n",
              "9                0        0                       0            0            0   \n",
              "\n",
              "   hematologia_UPA  medico_externo_UPA  nivel_recomendado_ESI  oncologia_UPA  \\\n",
              "0                0                   0                      4              0   \n",
              "1                0                   0                      3              0   \n",
              "2                0                   0                      3              0   \n",
              "3                0                   0                      3              0   \n",
              "4                0                   0                      3              0   \n",
              "5                0                   0                      3              0   \n",
              "6                0                   0                      4              0   \n",
              "7                0                   0                      3              0   \n",
              "8                0                   0                      3              0   \n",
              "9                0                   0                      4              0   \n",
              "\n",
              "   Interna_num  \n",
              "0            0  \n",
              "1            0  \n",
              "2            0  \n",
              "3            0  \n",
              "4            0  \n",
              "5            0  \n",
              "6            0  \n",
              "7            0  \n",
              "8            0  \n",
              "9            0  \n",
              "\n",
              "[10 rows x 26 columns]"
            ]
          },
          "metadata": {
            "tags": []
          },
          "execution_count": 5
        }
      ]
    },
    {
      "cell_type": "code",
      "metadata": {
        "id": "7r-6Qejm2pnn",
        "colab_type": "code",
        "colab": {}
      },
      "source": [
        "pd.set_option('display.max_columns', 0) # mostrar todas as colunas"
      ],
      "execution_count": 0,
      "outputs": []
    },
    {
      "cell_type": "code",
      "metadata": {
        "scrolled": true,
        "id": "_vZ9hhAR2pnq",
        "colab_type": "code",
        "colab": {},
        "outputId": "66ddbdc5-26c4-4d11-eaa5-9a124eb4c035"
      },
      "source": [
        "df_raw_2.describe()"
      ],
      "execution_count": 0,
      "outputs": [
        {
          "output_type": "execute_result",
          "data": {
            "text/html": [
              "<div>\n",
              "<style scoped>\n",
              "    .dataframe tbody tr th:only-of-type {\n",
              "        vertical-align: middle;\n",
              "    }\n",
              "\n",
              "    .dataframe tbody tr th {\n",
              "        vertical-align: top;\n",
              "    }\n",
              "\n",
              "    .dataframe thead th {\n",
              "        text-align: right;\n",
              "    }\n",
              "</style>\n",
              "<table border=\"1\" class=\"dataframe\">\n",
              "  <thead>\n",
              "    <tr style=\"text-align: right;\">\n",
              "      <th></th>\n",
              "      <th>temp_axilar</th>\n",
              "      <th>pad</th>\n",
              "      <th>pas</th>\n",
              "      <th>freq_respiratoria</th>\n",
              "      <th>pulso_periferico</th>\n",
              "      <th>spo</th>\n",
              "      <th>insulina_dependente</th>\n",
              "      <th>pac_oncologico</th>\n",
              "      <th>int_p_queda</th>\n",
              "      <th>prec_tipo_UPA</th>\n",
              "      <th>prot_UPA_AVC</th>\n",
              "      <th>prot_UPA_IAM</th>\n",
              "      <th>prot_UPA_SEPSE</th>\n",
              "      <th>recursos_ESI</th>\n",
              "      <th>upa_avaliacao_dor</th>\n",
              "      <th>avaliacao_dor_PAINAD</th>\n",
              "      <th>cardiologia_UPA</th>\n",
              "      <th>cma_UPA</th>\n",
              "      <th>escala_verbal_numerica</th>\n",
              "      <th>esi_level_1</th>\n",
              "      <th>esi_level_2</th>\n",
              "      <th>hematologia_UPA</th>\n",
              "      <th>medico_externo_UPA</th>\n",
              "      <th>nivel_recomendado_ESI</th>\n",
              "      <th>oncologia_UPA</th>\n",
              "      <th>Interna_num</th>\n",
              "    </tr>\n",
              "  </thead>\n",
              "  <tbody>\n",
              "    <tr>\n",
              "      <th>count</th>\n",
              "      <td>86361.000000</td>\n",
              "      <td>86361.000000</td>\n",
              "      <td>86361.000000</td>\n",
              "      <td>86361.000000</td>\n",
              "      <td>86361.000000</td>\n",
              "      <td>86361.000000</td>\n",
              "      <td>86361.000000</td>\n",
              "      <td>86361.000000</td>\n",
              "      <td>86361.000000</td>\n",
              "      <td>86361.000000</td>\n",
              "      <td>86361.000000</td>\n",
              "      <td>86361.000000</td>\n",
              "      <td>86361.000000</td>\n",
              "      <td>86361.000000</td>\n",
              "      <td>86361.000000</td>\n",
              "      <td>86361.000000</td>\n",
              "      <td>86361.000000</td>\n",
              "      <td>86361.0</td>\n",
              "      <td>86361.000000</td>\n",
              "      <td>86361.000000</td>\n",
              "      <td>86361.000000</td>\n",
              "      <td>86361.000000</td>\n",
              "      <td>86361.000000</td>\n",
              "      <td>86361.000000</td>\n",
              "      <td>86361.000000</td>\n",
              "      <td>86361.000000</td>\n",
              "    </tr>\n",
              "    <tr>\n",
              "      <th>mean</th>\n",
              "      <td>36.397966</td>\n",
              "      <td>77.171582</td>\n",
              "      <td>122.057746</td>\n",
              "      <td>16.351467</td>\n",
              "      <td>83.261820</td>\n",
              "      <td>97.257153</td>\n",
              "      <td>0.004284</td>\n",
              "      <td>0.005905</td>\n",
              "      <td>0.065620</td>\n",
              "      <td>0.320434</td>\n",
              "      <td>0.001308</td>\n",
              "      <td>0.002918</td>\n",
              "      <td>0.006288</td>\n",
              "      <td>1.467665</td>\n",
              "      <td>2.092820</td>\n",
              "      <td>0.000069</td>\n",
              "      <td>0.000371</td>\n",
              "      <td>0.0</td>\n",
              "      <td>4.005894</td>\n",
              "      <td>0.000012</td>\n",
              "      <td>0.001563</td>\n",
              "      <td>0.001621</td>\n",
              "      <td>0.004551</td>\n",
              "      <td>3.530054</td>\n",
              "      <td>0.003011</td>\n",
              "      <td>0.030430</td>\n",
              "    </tr>\n",
              "    <tr>\n",
              "      <th>std</th>\n",
              "      <td>0.706036</td>\n",
              "      <td>10.749010</td>\n",
              "      <td>17.035349</td>\n",
              "      <td>4.006891</td>\n",
              "      <td>15.902422</td>\n",
              "      <td>2.306020</td>\n",
              "      <td>0.065315</td>\n",
              "      <td>0.076620</td>\n",
              "      <td>0.247618</td>\n",
              "      <td>1.218392</td>\n",
              "      <td>0.036149</td>\n",
              "      <td>0.053940</td>\n",
              "      <td>0.079045</td>\n",
              "      <td>0.573701</td>\n",
              "      <td>1.356695</td>\n",
              "      <td>0.008335</td>\n",
              "      <td>0.019246</td>\n",
              "      <td>0.0</td>\n",
              "      <td>3.297022</td>\n",
              "      <td>0.003403</td>\n",
              "      <td>0.039507</td>\n",
              "      <td>0.040230</td>\n",
              "      <td>0.067305</td>\n",
              "      <td>0.577987</td>\n",
              "      <td>0.054787</td>\n",
              "      <td>0.171769</td>\n",
              "    </tr>\n",
              "    <tr>\n",
              "      <th>min</th>\n",
              "      <td>6.000000</td>\n",
              "      <td>0.000000</td>\n",
              "      <td>10.000000</td>\n",
              "      <td>1.000000</td>\n",
              "      <td>0.000000</td>\n",
              "      <td>10.000000</td>\n",
              "      <td>0.000000</td>\n",
              "      <td>0.000000</td>\n",
              "      <td>0.000000</td>\n",
              "      <td>0.000000</td>\n",
              "      <td>0.000000</td>\n",
              "      <td>0.000000</td>\n",
              "      <td>0.000000</td>\n",
              "      <td>0.000000</td>\n",
              "      <td>0.000000</td>\n",
              "      <td>0.000000</td>\n",
              "      <td>0.000000</td>\n",
              "      <td>0.0</td>\n",
              "      <td>0.000000</td>\n",
              "      <td>0.000000</td>\n",
              "      <td>0.000000</td>\n",
              "      <td>0.000000</td>\n",
              "      <td>0.000000</td>\n",
              "      <td>0.000000</td>\n",
              "      <td>0.000000</td>\n",
              "      <td>0.000000</td>\n",
              "    </tr>\n",
              "    <tr>\n",
              "      <th>25%</th>\n",
              "      <td>36.000000</td>\n",
              "      <td>70.000000</td>\n",
              "      <td>110.000000</td>\n",
              "      <td>15.000000</td>\n",
              "      <td>73.000000</td>\n",
              "      <td>96.000000</td>\n",
              "      <td>0.000000</td>\n",
              "      <td>0.000000</td>\n",
              "      <td>0.000000</td>\n",
              "      <td>0.000000</td>\n",
              "      <td>0.000000</td>\n",
              "      <td>0.000000</td>\n",
              "      <td>0.000000</td>\n",
              "      <td>1.000000</td>\n",
              "      <td>0.000000</td>\n",
              "      <td>0.000000</td>\n",
              "      <td>0.000000</td>\n",
              "      <td>0.0</td>\n",
              "      <td>0.000000</td>\n",
              "      <td>0.000000</td>\n",
              "      <td>0.000000</td>\n",
              "      <td>0.000000</td>\n",
              "      <td>0.000000</td>\n",
              "      <td>3.000000</td>\n",
              "      <td>0.000000</td>\n",
              "      <td>0.000000</td>\n",
              "    </tr>\n",
              "    <tr>\n",
              "      <th>50%</th>\n",
              "      <td>36.300000</td>\n",
              "      <td>77.000000</td>\n",
              "      <td>120.000000</td>\n",
              "      <td>16.000000</td>\n",
              "      <td>82.000000</td>\n",
              "      <td>97.000000</td>\n",
              "      <td>0.000000</td>\n",
              "      <td>0.000000</td>\n",
              "      <td>0.000000</td>\n",
              "      <td>0.000000</td>\n",
              "      <td>0.000000</td>\n",
              "      <td>0.000000</td>\n",
              "      <td>0.000000</td>\n",
              "      <td>2.000000</td>\n",
              "      <td>3.000000</td>\n",
              "      <td>0.000000</td>\n",
              "      <td>0.000000</td>\n",
              "      <td>0.0</td>\n",
              "      <td>5.000000</td>\n",
              "      <td>0.000000</td>\n",
              "      <td>0.000000</td>\n",
              "      <td>0.000000</td>\n",
              "      <td>0.000000</td>\n",
              "      <td>3.000000</td>\n",
              "      <td>0.000000</td>\n",
              "      <td>0.000000</td>\n",
              "    </tr>\n",
              "    <tr>\n",
              "      <th>75%</th>\n",
              "      <td>36.700000</td>\n",
              "      <td>84.000000</td>\n",
              "      <td>132.000000</td>\n",
              "      <td>18.000000</td>\n",
              "      <td>92.000000</td>\n",
              "      <td>98.000000</td>\n",
              "      <td>0.000000</td>\n",
              "      <td>0.000000</td>\n",
              "      <td>0.000000</td>\n",
              "      <td>0.000000</td>\n",
              "      <td>0.000000</td>\n",
              "      <td>0.000000</td>\n",
              "      <td>0.000000</td>\n",
              "      <td>2.000000</td>\n",
              "      <td>3.000000</td>\n",
              "      <td>0.000000</td>\n",
              "      <td>0.000000</td>\n",
              "      <td>0.0</td>\n",
              "      <td>7.000000</td>\n",
              "      <td>0.000000</td>\n",
              "      <td>0.000000</td>\n",
              "      <td>0.000000</td>\n",
              "      <td>0.000000</td>\n",
              "      <td>4.000000</td>\n",
              "      <td>0.000000</td>\n",
              "      <td>0.000000</td>\n",
              "    </tr>\n",
              "    <tr>\n",
              "      <th>max</th>\n",
              "      <td>40.100000</td>\n",
              "      <td>198.000000</td>\n",
              "      <td>419.000000</td>\n",
              "      <td>100.000000</td>\n",
              "      <td>600.000000</td>\n",
              "      <td>100.000000</td>\n",
              "      <td>1.000000</td>\n",
              "      <td>1.000000</td>\n",
              "      <td>1.000000</td>\n",
              "      <td>6.000000</td>\n",
              "      <td>1.000000</td>\n",
              "      <td>1.000000</td>\n",
              "      <td>1.000000</td>\n",
              "      <td>2.000000</td>\n",
              "      <td>4.000000</td>\n",
              "      <td>1.000000</td>\n",
              "      <td>1.000000</td>\n",
              "      <td>0.0</td>\n",
              "      <td>10.000000</td>\n",
              "      <td>1.000000</td>\n",
              "      <td>1.000000</td>\n",
              "      <td>1.000000</td>\n",
              "      <td>1.000000</td>\n",
              "      <td>5.000000</td>\n",
              "      <td>1.000000</td>\n",
              "      <td>1.000000</td>\n",
              "    </tr>\n",
              "  </tbody>\n",
              "</table>\n",
              "</div>"
            ],
            "text/plain": [
              "        temp_axilar           pad  ...  oncologia_UPA   Interna_num\n",
              "count  86361.000000  86361.000000  ...   86361.000000  86361.000000\n",
              "mean      36.397966     77.171582  ...       0.003011      0.030430\n",
              "std        0.706036     10.749010  ...       0.054787      0.171769\n",
              "min        6.000000      0.000000  ...       0.000000      0.000000\n",
              "25%       36.000000     70.000000  ...       0.000000      0.000000\n",
              "50%       36.300000     77.000000  ...       0.000000      0.000000\n",
              "75%       36.700000     84.000000  ...       0.000000      0.000000\n",
              "max       40.100000    198.000000  ...       1.000000      1.000000\n",
              "\n",
              "[8 rows x 26 columns]"
            ]
          },
          "metadata": {
            "tags": []
          },
          "execution_count": 7
        }
      ]
    },
    {
      "cell_type": "code",
      "metadata": {
        "id": "_K7kJLZn2pnt",
        "colab_type": "code",
        "colab": {},
        "outputId": "aa126083-97a9-45b6-ddf8-7dd810102f04"
      },
      "source": [
        "# Visualizando as dimensões\n",
        "df_raw_1.shape"
      ],
      "execution_count": 0,
      "outputs": [
        {
          "output_type": "execute_result",
          "data": {
            "text/plain": [
              "(86361, 17)"
            ]
          },
          "metadata": {
            "tags": []
          },
          "execution_count": 8
        }
      ]
    },
    {
      "cell_type": "code",
      "metadata": {
        "id": "S8Kcxgz52pnw",
        "colab_type": "code",
        "colab": {},
        "outputId": "6e01a43c-269e-4261-cf56-5c4e503df5d1"
      },
      "source": [
        "# Visualizando as dimensões\n",
        "df_raw_2.shape"
      ],
      "execution_count": 0,
      "outputs": [
        {
          "output_type": "execute_result",
          "data": {
            "text/plain": [
              "(86361, 26)"
            ]
          },
          "metadata": {
            "tags": []
          },
          "execution_count": 9
        }
      ]
    },
    {
      "cell_type": "markdown",
      "metadata": {
        "id": "UehUS9mj2pn0",
        "colab_type": "text"
      },
      "source": [
        "Preparando o Dataset 1 mantendo apenas as variáveis numéricas e elimando a variável \"target\", pois vamos utilizar a variável \"target\" do Dataset 2, a qual a mesma do Dataset 1."
      ]
    },
    {
      "cell_type": "code",
      "metadata": {
        "id": "IuF6VAbU2pn0",
        "colab_type": "code",
        "colab": {},
        "outputId": "ceb2fe33-54a4-4677-f36e-a8b7f0867d5d"
      },
      "source": [
        "# lista as colunas para referência\n",
        "df_raw_1.columns"
      ],
      "execution_count": 0,
      "outputs": [
        {
          "output_type": "execute_result",
          "data": {
            "text/plain": [
              "Index(['T', 'PAd', 'PAs', 'FR', 'P', 'SpO2', 'T_str', 'T_num', 'PA_str',\n",
              "       'PA_num', 'FR_str', 'FR_num', 'P_str', 'P_num', 'SpO2_str', 'SpO2_num',\n",
              "       'Interna_num'],\n",
              "      dtype='object')"
            ]
          },
          "metadata": {
            "tags": []
          },
          "execution_count": 10
        }
      ]
    },
    {
      "cell_type": "code",
      "metadata": {
        "id": "thUChWtW2pn3",
        "colab_type": "code",
        "colab": {}
      },
      "source": [
        "# Colunas para deletar\n",
        "col2del = ['T', 'PAd', 'PAs', 'FR', 'P', 'SpO2', \n",
        "           'T_str', 'PA_str', 'FR_str', 'P_str', 'SpO2_str', \n",
        "           'Interna_num']\n",
        "\n",
        "# Deleta as colunas\n",
        "df_raw_1.drop(col2del, axis = 1, inplace = True) # 'axis' = 0 (row) | axis = 1 (column)"
      ],
      "execution_count": 0,
      "outputs": []
    },
    {
      "cell_type": "code",
      "metadata": {
        "id": "RLiTKGAm2pn7",
        "colab_type": "code",
        "colab": {},
        "outputId": "538ba369-f822-4a64-edb3-3bbfd2cd5fe3"
      },
      "source": [
        "# Tipo de dados de cada atributo\n",
        "df_raw_1.dtypes"
      ],
      "execution_count": 0,
      "outputs": [
        {
          "output_type": "execute_result",
          "data": {
            "text/plain": [
              "T_num       int64\n",
              "PA_num      int64\n",
              "FR_num      int64\n",
              "P_num       int64\n",
              "SpO2_num    int64\n",
              "dtype: object"
            ]
          },
          "metadata": {
            "tags": []
          },
          "execution_count": 12
        }
      ]
    },
    {
      "cell_type": "code",
      "metadata": {
        "scrolled": true,
        "id": "bUOUaA6S2pn-",
        "colab_type": "code",
        "colab": {},
        "outputId": "0b0b4b54-0a3b-42a0-b5f0-ce58a10d9a7d"
      },
      "source": [
        "# Sumário estatístico\n",
        "df_raw_1.describe()"
      ],
      "execution_count": 0,
      "outputs": [
        {
          "output_type": "execute_result",
          "data": {
            "text/html": [
              "<div>\n",
              "<style scoped>\n",
              "    .dataframe tbody tr th:only-of-type {\n",
              "        vertical-align: middle;\n",
              "    }\n",
              "\n",
              "    .dataframe tbody tr th {\n",
              "        vertical-align: top;\n",
              "    }\n",
              "\n",
              "    .dataframe thead th {\n",
              "        text-align: right;\n",
              "    }\n",
              "</style>\n",
              "<table border=\"1\" class=\"dataframe\">\n",
              "  <thead>\n",
              "    <tr style=\"text-align: right;\">\n",
              "      <th></th>\n",
              "      <th>T_num</th>\n",
              "      <th>PA_num</th>\n",
              "      <th>FR_num</th>\n",
              "      <th>P_num</th>\n",
              "      <th>SpO2_num</th>\n",
              "    </tr>\n",
              "  </thead>\n",
              "  <tbody>\n",
              "    <tr>\n",
              "      <th>count</th>\n",
              "      <td>86361.000000</td>\n",
              "      <td>86361.000000</td>\n",
              "      <td>86361.000000</td>\n",
              "      <td>86361.000000</td>\n",
              "      <td>86361.000000</td>\n",
              "    </tr>\n",
              "    <tr>\n",
              "      <th>mean</th>\n",
              "      <td>2.104862</td>\n",
              "      <td>2.108475</td>\n",
              "      <td>1.999491</td>\n",
              "      <td>2.115133</td>\n",
              "      <td>1.995750</td>\n",
              "    </tr>\n",
              "    <tr>\n",
              "      <th>std</th>\n",
              "      <td>0.532418</td>\n",
              "      <td>1.026320</td>\n",
              "      <td>0.107499</td>\n",
              "      <td>0.331848</td>\n",
              "      <td>0.072621</td>\n",
              "    </tr>\n",
              "    <tr>\n",
              "      <th>min</th>\n",
              "      <td>0.000000</td>\n",
              "      <td>0.000000</td>\n",
              "      <td>0.000000</td>\n",
              "      <td>0.000000</td>\n",
              "      <td>0.000000</td>\n",
              "    </tr>\n",
              "    <tr>\n",
              "      <th>25%</th>\n",
              "      <td>2.000000</td>\n",
              "      <td>2.000000</td>\n",
              "      <td>2.000000</td>\n",
              "      <td>2.000000</td>\n",
              "      <td>2.000000</td>\n",
              "    </tr>\n",
              "    <tr>\n",
              "      <th>50%</th>\n",
              "      <td>2.000000</td>\n",
              "      <td>2.000000</td>\n",
              "      <td>2.000000</td>\n",
              "      <td>2.000000</td>\n",
              "      <td>2.000000</td>\n",
              "    </tr>\n",
              "    <tr>\n",
              "      <th>75%</th>\n",
              "      <td>2.000000</td>\n",
              "      <td>2.000000</td>\n",
              "      <td>2.000000</td>\n",
              "      <td>2.000000</td>\n",
              "      <td>2.000000</td>\n",
              "    </tr>\n",
              "    <tr>\n",
              "      <th>max</th>\n",
              "      <td>6.000000</td>\n",
              "      <td>5.000000</td>\n",
              "      <td>3.000000</td>\n",
              "      <td>3.000000</td>\n",
              "      <td>2.000000</td>\n",
              "    </tr>\n",
              "  </tbody>\n",
              "</table>\n",
              "</div>"
            ],
            "text/plain": [
              "              T_num        PA_num        FR_num         P_num      SpO2_num\n",
              "count  86361.000000  86361.000000  86361.000000  86361.000000  86361.000000\n",
              "mean       2.104862      2.108475      1.999491      2.115133      1.995750\n",
              "std        0.532418      1.026320      0.107499      0.331848      0.072621\n",
              "min        0.000000      0.000000      0.000000      0.000000      0.000000\n",
              "25%        2.000000      2.000000      2.000000      2.000000      2.000000\n",
              "50%        2.000000      2.000000      2.000000      2.000000      2.000000\n",
              "75%        2.000000      2.000000      2.000000      2.000000      2.000000\n",
              "max        6.000000      5.000000      3.000000      3.000000      2.000000"
            ]
          },
          "metadata": {
            "tags": []
          },
          "execution_count": 13
        }
      ]
    },
    {
      "cell_type": "markdown",
      "metadata": {
        "id": "f48cFPPq2poC",
        "colab_type": "text"
      },
      "source": [
        "Preparando o Dataset 2 eliminando as variáveis SSVV, as quais já constam preparadas no Dataset 1 e já importadas."
      ]
    },
    {
      "cell_type": "code",
      "metadata": {
        "id": "Wo06r8k92poC",
        "colab_type": "code",
        "colab": {},
        "outputId": "a2529577-5106-441a-f8c6-b9f18d1a69fe"
      },
      "source": [
        "# lista as colunas para referência\n",
        "df_raw_2.columns"
      ],
      "execution_count": 0,
      "outputs": [
        {
          "output_type": "execute_result",
          "data": {
            "text/plain": [
              "Index(['temp_axilar', 'pad', 'pas', 'freq_respiratoria', 'pulso_periferico',\n",
              "       'spo', 'insulina_dependente', 'pac_oncologico', 'int_p_queda',\n",
              "       'prec_tipo_UPA', 'prot_UPA_AVC', 'prot_UPA_IAM', 'prot_UPA_SEPSE',\n",
              "       'recursos_ESI', 'upa_avaliacao_dor', 'avaliacao_dor_PAINAD',\n",
              "       'cardiologia_UPA', 'cma_UPA', 'escala_verbal_numerica', 'esi_level_1',\n",
              "       'esi_level_2', 'hematologia_UPA', 'medico_externo_UPA',\n",
              "       'nivel_recomendado_ESI', 'oncologia_UPA', 'Interna_num'],\n",
              "      dtype='object')"
            ]
          },
          "metadata": {
            "tags": []
          },
          "execution_count": 14
        }
      ]
    },
    {
      "cell_type": "code",
      "metadata": {
        "id": "MyGj0WqO2poG",
        "colab_type": "code",
        "colab": {}
      },
      "source": [
        "# Colunas para deletar\n",
        "col2del = ['temp_axilar', 'pad', 'pas', 'freq_respiratoria', 'pulso_periferico', 'spo']\n",
        "\n",
        "# Deleta as colunas\n",
        "df_raw_2.drop(col2del, axis = 1, inplace = True) # 'axis' = 0 (row) | axis = 1 (column)"
      ],
      "execution_count": 0,
      "outputs": []
    },
    {
      "cell_type": "code",
      "metadata": {
        "id": "_gmJcGQv2poK",
        "colab_type": "code",
        "colab": {},
        "outputId": "7b80b6f6-fe10-458f-c970-c5b49bd2b089"
      },
      "source": [
        "# Tipo de dados de cada atributo\n",
        "df_raw_2.dtypes"
      ],
      "execution_count": 0,
      "outputs": [
        {
          "output_type": "execute_result",
          "data": {
            "text/plain": [
              "insulina_dependente       int64\n",
              "pac_oncologico            int64\n",
              "int_p_queda               int64\n",
              "prec_tipo_UPA             int64\n",
              "prot_UPA_AVC              int64\n",
              "prot_UPA_IAM              int64\n",
              "prot_UPA_SEPSE            int64\n",
              "recursos_ESI              int64\n",
              "upa_avaliacao_dor         int64\n",
              "avaliacao_dor_PAINAD      int64\n",
              "cardiologia_UPA           int64\n",
              "cma_UPA                   int64\n",
              "escala_verbal_numerica    int64\n",
              "esi_level_1               int64\n",
              "esi_level_2               int64\n",
              "hematologia_UPA           int64\n",
              "medico_externo_UPA        int64\n",
              "nivel_recomendado_ESI     int64\n",
              "oncologia_UPA             int64\n",
              "Interna_num               int64\n",
              "dtype: object"
            ]
          },
          "metadata": {
            "tags": []
          },
          "execution_count": 16
        }
      ]
    },
    {
      "cell_type": "code",
      "metadata": {
        "scrolled": false,
        "id": "Mm32RrRt2poN",
        "colab_type": "code",
        "colab": {},
        "outputId": "b71f6702-7d71-465c-df2e-c9452c9c1e87"
      },
      "source": [
        "# Sumário estatístico\n",
        "df_raw_2.describe()"
      ],
      "execution_count": 0,
      "outputs": [
        {
          "output_type": "execute_result",
          "data": {
            "text/html": [
              "<div>\n",
              "<style scoped>\n",
              "    .dataframe tbody tr th:only-of-type {\n",
              "        vertical-align: middle;\n",
              "    }\n",
              "\n",
              "    .dataframe tbody tr th {\n",
              "        vertical-align: top;\n",
              "    }\n",
              "\n",
              "    .dataframe thead th {\n",
              "        text-align: right;\n",
              "    }\n",
              "</style>\n",
              "<table border=\"1\" class=\"dataframe\">\n",
              "  <thead>\n",
              "    <tr style=\"text-align: right;\">\n",
              "      <th></th>\n",
              "      <th>insulina_dependente</th>\n",
              "      <th>pac_oncologico</th>\n",
              "      <th>int_p_queda</th>\n",
              "      <th>prec_tipo_UPA</th>\n",
              "      <th>prot_UPA_AVC</th>\n",
              "      <th>prot_UPA_IAM</th>\n",
              "      <th>prot_UPA_SEPSE</th>\n",
              "      <th>recursos_ESI</th>\n",
              "      <th>upa_avaliacao_dor</th>\n",
              "      <th>avaliacao_dor_PAINAD</th>\n",
              "      <th>cardiologia_UPA</th>\n",
              "      <th>cma_UPA</th>\n",
              "      <th>escala_verbal_numerica</th>\n",
              "      <th>esi_level_1</th>\n",
              "      <th>esi_level_2</th>\n",
              "      <th>hematologia_UPA</th>\n",
              "      <th>medico_externo_UPA</th>\n",
              "      <th>nivel_recomendado_ESI</th>\n",
              "      <th>oncologia_UPA</th>\n",
              "      <th>Interna_num</th>\n",
              "    </tr>\n",
              "  </thead>\n",
              "  <tbody>\n",
              "    <tr>\n",
              "      <th>count</th>\n",
              "      <td>86361.000000</td>\n",
              "      <td>86361.000000</td>\n",
              "      <td>86361.000000</td>\n",
              "      <td>86361.000000</td>\n",
              "      <td>86361.000000</td>\n",
              "      <td>86361.000000</td>\n",
              "      <td>86361.000000</td>\n",
              "      <td>86361.000000</td>\n",
              "      <td>86361.000000</td>\n",
              "      <td>86361.000000</td>\n",
              "      <td>86361.000000</td>\n",
              "      <td>86361.0</td>\n",
              "      <td>86361.000000</td>\n",
              "      <td>86361.000000</td>\n",
              "      <td>86361.000000</td>\n",
              "      <td>86361.000000</td>\n",
              "      <td>86361.000000</td>\n",
              "      <td>86361.000000</td>\n",
              "      <td>86361.000000</td>\n",
              "      <td>86361.000000</td>\n",
              "    </tr>\n",
              "    <tr>\n",
              "      <th>mean</th>\n",
              "      <td>0.004284</td>\n",
              "      <td>0.005905</td>\n",
              "      <td>0.065620</td>\n",
              "      <td>0.320434</td>\n",
              "      <td>0.001308</td>\n",
              "      <td>0.002918</td>\n",
              "      <td>0.006288</td>\n",
              "      <td>1.467665</td>\n",
              "      <td>2.092820</td>\n",
              "      <td>0.000069</td>\n",
              "      <td>0.000371</td>\n",
              "      <td>0.0</td>\n",
              "      <td>4.005894</td>\n",
              "      <td>0.000012</td>\n",
              "      <td>0.001563</td>\n",
              "      <td>0.001621</td>\n",
              "      <td>0.004551</td>\n",
              "      <td>3.530054</td>\n",
              "      <td>0.003011</td>\n",
              "      <td>0.030430</td>\n",
              "    </tr>\n",
              "    <tr>\n",
              "      <th>std</th>\n",
              "      <td>0.065315</td>\n",
              "      <td>0.076620</td>\n",
              "      <td>0.247618</td>\n",
              "      <td>1.218392</td>\n",
              "      <td>0.036149</td>\n",
              "      <td>0.053940</td>\n",
              "      <td>0.079045</td>\n",
              "      <td>0.573701</td>\n",
              "      <td>1.356695</td>\n",
              "      <td>0.008335</td>\n",
              "      <td>0.019246</td>\n",
              "      <td>0.0</td>\n",
              "      <td>3.297022</td>\n",
              "      <td>0.003403</td>\n",
              "      <td>0.039507</td>\n",
              "      <td>0.040230</td>\n",
              "      <td>0.067305</td>\n",
              "      <td>0.577987</td>\n",
              "      <td>0.054787</td>\n",
              "      <td>0.171769</td>\n",
              "    </tr>\n",
              "    <tr>\n",
              "      <th>min</th>\n",
              "      <td>0.000000</td>\n",
              "      <td>0.000000</td>\n",
              "      <td>0.000000</td>\n",
              "      <td>0.000000</td>\n",
              "      <td>0.000000</td>\n",
              "      <td>0.000000</td>\n",
              "      <td>0.000000</td>\n",
              "      <td>0.000000</td>\n",
              "      <td>0.000000</td>\n",
              "      <td>0.000000</td>\n",
              "      <td>0.000000</td>\n",
              "      <td>0.0</td>\n",
              "      <td>0.000000</td>\n",
              "      <td>0.000000</td>\n",
              "      <td>0.000000</td>\n",
              "      <td>0.000000</td>\n",
              "      <td>0.000000</td>\n",
              "      <td>0.000000</td>\n",
              "      <td>0.000000</td>\n",
              "      <td>0.000000</td>\n",
              "    </tr>\n",
              "    <tr>\n",
              "      <th>25%</th>\n",
              "      <td>0.000000</td>\n",
              "      <td>0.000000</td>\n",
              "      <td>0.000000</td>\n",
              "      <td>0.000000</td>\n",
              "      <td>0.000000</td>\n",
              "      <td>0.000000</td>\n",
              "      <td>0.000000</td>\n",
              "      <td>1.000000</td>\n",
              "      <td>0.000000</td>\n",
              "      <td>0.000000</td>\n",
              "      <td>0.000000</td>\n",
              "      <td>0.0</td>\n",
              "      <td>0.000000</td>\n",
              "      <td>0.000000</td>\n",
              "      <td>0.000000</td>\n",
              "      <td>0.000000</td>\n",
              "      <td>0.000000</td>\n",
              "      <td>3.000000</td>\n",
              "      <td>0.000000</td>\n",
              "      <td>0.000000</td>\n",
              "    </tr>\n",
              "    <tr>\n",
              "      <th>50%</th>\n",
              "      <td>0.000000</td>\n",
              "      <td>0.000000</td>\n",
              "      <td>0.000000</td>\n",
              "      <td>0.000000</td>\n",
              "      <td>0.000000</td>\n",
              "      <td>0.000000</td>\n",
              "      <td>0.000000</td>\n",
              "      <td>2.000000</td>\n",
              "      <td>3.000000</td>\n",
              "      <td>0.000000</td>\n",
              "      <td>0.000000</td>\n",
              "      <td>0.0</td>\n",
              "      <td>5.000000</td>\n",
              "      <td>0.000000</td>\n",
              "      <td>0.000000</td>\n",
              "      <td>0.000000</td>\n",
              "      <td>0.000000</td>\n",
              "      <td>3.000000</td>\n",
              "      <td>0.000000</td>\n",
              "      <td>0.000000</td>\n",
              "    </tr>\n",
              "    <tr>\n",
              "      <th>75%</th>\n",
              "      <td>0.000000</td>\n",
              "      <td>0.000000</td>\n",
              "      <td>0.000000</td>\n",
              "      <td>0.000000</td>\n",
              "      <td>0.000000</td>\n",
              "      <td>0.000000</td>\n",
              "      <td>0.000000</td>\n",
              "      <td>2.000000</td>\n",
              "      <td>3.000000</td>\n",
              "      <td>0.000000</td>\n",
              "      <td>0.000000</td>\n",
              "      <td>0.0</td>\n",
              "      <td>7.000000</td>\n",
              "      <td>0.000000</td>\n",
              "      <td>0.000000</td>\n",
              "      <td>0.000000</td>\n",
              "      <td>0.000000</td>\n",
              "      <td>4.000000</td>\n",
              "      <td>0.000000</td>\n",
              "      <td>0.000000</td>\n",
              "    </tr>\n",
              "    <tr>\n",
              "      <th>max</th>\n",
              "      <td>1.000000</td>\n",
              "      <td>1.000000</td>\n",
              "      <td>1.000000</td>\n",
              "      <td>6.000000</td>\n",
              "      <td>1.000000</td>\n",
              "      <td>1.000000</td>\n",
              "      <td>1.000000</td>\n",
              "      <td>2.000000</td>\n",
              "      <td>4.000000</td>\n",
              "      <td>1.000000</td>\n",
              "      <td>1.000000</td>\n",
              "      <td>0.0</td>\n",
              "      <td>10.000000</td>\n",
              "      <td>1.000000</td>\n",
              "      <td>1.000000</td>\n",
              "      <td>1.000000</td>\n",
              "      <td>1.000000</td>\n",
              "      <td>5.000000</td>\n",
              "      <td>1.000000</td>\n",
              "      <td>1.000000</td>\n",
              "    </tr>\n",
              "  </tbody>\n",
              "</table>\n",
              "</div>"
            ],
            "text/plain": [
              "       insulina_dependente  pac_oncologico  ...  oncologia_UPA   Interna_num\n",
              "count         86361.000000    86361.000000  ...   86361.000000  86361.000000\n",
              "mean              0.004284        0.005905  ...       0.003011      0.030430\n",
              "std               0.065315        0.076620  ...       0.054787      0.171769\n",
              "min               0.000000        0.000000  ...       0.000000      0.000000\n",
              "25%               0.000000        0.000000  ...       0.000000      0.000000\n",
              "50%               0.000000        0.000000  ...       0.000000      0.000000\n",
              "75%               0.000000        0.000000  ...       0.000000      0.000000\n",
              "max               1.000000        1.000000  ...       1.000000      1.000000\n",
              "\n",
              "[8 rows x 20 columns]"
            ]
          },
          "metadata": {
            "tags": []
          },
          "execution_count": 17
        }
      ]
    },
    {
      "cell_type": "markdown",
      "metadata": {
        "id": "aaFKw09k2poQ",
        "colab_type": "text"
      },
      "source": [
        "Alguma observação sobre o resumo estatístico acima?"
      ]
    },
    {
      "cell_type": "code",
      "metadata": {
        "id": "o9AmvMIt2poQ",
        "colab_type": "code",
        "colab": {}
      },
      "source": [
        "# your code here...\n",
        "df_raw_2bkp = df_raw_2\n",
        "df_raw_2bkp.head(10)\n",
        "\n",
        "df_raw_2.drop('cma_UPA', axis = 1, inplace = True) # 'axis' = 0 (row) | axis = 1 (column)\n"
      ],
      "execution_count": 0,
      "outputs": []
    },
    {
      "cell_type": "markdown",
      "metadata": {
        "id": "K2WBiDgR2poT",
        "colab_type": "text"
      },
      "source": [
        "Criando um novo Dataset através da concatenação dos Datasets 1 e 2. "
      ]
    },
    {
      "cell_type": "code",
      "metadata": {
        "id": "Z_q36Mw52poU",
        "colab_type": "code",
        "colab": {},
        "outputId": "4f0de30d-abb4-43bb-b22d-7f421c8c3259"
      },
      "source": [
        "#df_raw_2.describe()\n",
        "df_raw_2bkp.describe()"
      ],
      "execution_count": 0,
      "outputs": [
        {
          "output_type": "execute_result",
          "data": {
            "text/html": [
              "<div>\n",
              "<style scoped>\n",
              "    .dataframe tbody tr th:only-of-type {\n",
              "        vertical-align: middle;\n",
              "    }\n",
              "\n",
              "    .dataframe tbody tr th {\n",
              "        vertical-align: top;\n",
              "    }\n",
              "\n",
              "    .dataframe thead th {\n",
              "        text-align: right;\n",
              "    }\n",
              "</style>\n",
              "<table border=\"1\" class=\"dataframe\">\n",
              "  <thead>\n",
              "    <tr style=\"text-align: right;\">\n",
              "      <th></th>\n",
              "      <th>insulina_dependente</th>\n",
              "      <th>pac_oncologico</th>\n",
              "      <th>int_p_queda</th>\n",
              "      <th>prec_tipo_UPA</th>\n",
              "      <th>prot_UPA_AVC</th>\n",
              "      <th>prot_UPA_IAM</th>\n",
              "      <th>prot_UPA_SEPSE</th>\n",
              "      <th>recursos_ESI</th>\n",
              "      <th>upa_avaliacao_dor</th>\n",
              "      <th>avaliacao_dor_PAINAD</th>\n",
              "      <th>cardiologia_UPA</th>\n",
              "      <th>escala_verbal_numerica</th>\n",
              "      <th>esi_level_1</th>\n",
              "      <th>esi_level_2</th>\n",
              "      <th>hematologia_UPA</th>\n",
              "      <th>medico_externo_UPA</th>\n",
              "      <th>nivel_recomendado_ESI</th>\n",
              "      <th>oncologia_UPA</th>\n",
              "      <th>Interna_num</th>\n",
              "    </tr>\n",
              "  </thead>\n",
              "  <tbody>\n",
              "    <tr>\n",
              "      <th>count</th>\n",
              "      <td>86361.000000</td>\n",
              "      <td>86361.000000</td>\n",
              "      <td>86361.000000</td>\n",
              "      <td>86361.000000</td>\n",
              "      <td>86361.000000</td>\n",
              "      <td>86361.000000</td>\n",
              "      <td>86361.000000</td>\n",
              "      <td>86361.000000</td>\n",
              "      <td>86361.000000</td>\n",
              "      <td>86361.000000</td>\n",
              "      <td>86361.000000</td>\n",
              "      <td>86361.000000</td>\n",
              "      <td>86361.000000</td>\n",
              "      <td>86361.000000</td>\n",
              "      <td>86361.000000</td>\n",
              "      <td>86361.000000</td>\n",
              "      <td>86361.000000</td>\n",
              "      <td>86361.000000</td>\n",
              "      <td>86361.000000</td>\n",
              "    </tr>\n",
              "    <tr>\n",
              "      <th>mean</th>\n",
              "      <td>0.004284</td>\n",
              "      <td>0.005905</td>\n",
              "      <td>0.065620</td>\n",
              "      <td>0.320434</td>\n",
              "      <td>0.001308</td>\n",
              "      <td>0.002918</td>\n",
              "      <td>0.006288</td>\n",
              "      <td>1.467665</td>\n",
              "      <td>2.092820</td>\n",
              "      <td>0.000069</td>\n",
              "      <td>0.000371</td>\n",
              "      <td>4.005894</td>\n",
              "      <td>0.000012</td>\n",
              "      <td>0.001563</td>\n",
              "      <td>0.001621</td>\n",
              "      <td>0.004551</td>\n",
              "      <td>3.530054</td>\n",
              "      <td>0.003011</td>\n",
              "      <td>0.030430</td>\n",
              "    </tr>\n",
              "    <tr>\n",
              "      <th>std</th>\n",
              "      <td>0.065315</td>\n",
              "      <td>0.076620</td>\n",
              "      <td>0.247618</td>\n",
              "      <td>1.218392</td>\n",
              "      <td>0.036149</td>\n",
              "      <td>0.053940</td>\n",
              "      <td>0.079045</td>\n",
              "      <td>0.573701</td>\n",
              "      <td>1.356695</td>\n",
              "      <td>0.008335</td>\n",
              "      <td>0.019246</td>\n",
              "      <td>3.297022</td>\n",
              "      <td>0.003403</td>\n",
              "      <td>0.039507</td>\n",
              "      <td>0.040230</td>\n",
              "      <td>0.067305</td>\n",
              "      <td>0.577987</td>\n",
              "      <td>0.054787</td>\n",
              "      <td>0.171769</td>\n",
              "    </tr>\n",
              "    <tr>\n",
              "      <th>min</th>\n",
              "      <td>0.000000</td>\n",
              "      <td>0.000000</td>\n",
              "      <td>0.000000</td>\n",
              "      <td>0.000000</td>\n",
              "      <td>0.000000</td>\n",
              "      <td>0.000000</td>\n",
              "      <td>0.000000</td>\n",
              "      <td>0.000000</td>\n",
              "      <td>0.000000</td>\n",
              "      <td>0.000000</td>\n",
              "      <td>0.000000</td>\n",
              "      <td>0.000000</td>\n",
              "      <td>0.000000</td>\n",
              "      <td>0.000000</td>\n",
              "      <td>0.000000</td>\n",
              "      <td>0.000000</td>\n",
              "      <td>0.000000</td>\n",
              "      <td>0.000000</td>\n",
              "      <td>0.000000</td>\n",
              "    </tr>\n",
              "    <tr>\n",
              "      <th>25%</th>\n",
              "      <td>0.000000</td>\n",
              "      <td>0.000000</td>\n",
              "      <td>0.000000</td>\n",
              "      <td>0.000000</td>\n",
              "      <td>0.000000</td>\n",
              "      <td>0.000000</td>\n",
              "      <td>0.000000</td>\n",
              "      <td>1.000000</td>\n",
              "      <td>0.000000</td>\n",
              "      <td>0.000000</td>\n",
              "      <td>0.000000</td>\n",
              "      <td>0.000000</td>\n",
              "      <td>0.000000</td>\n",
              "      <td>0.000000</td>\n",
              "      <td>0.000000</td>\n",
              "      <td>0.000000</td>\n",
              "      <td>3.000000</td>\n",
              "      <td>0.000000</td>\n",
              "      <td>0.000000</td>\n",
              "    </tr>\n",
              "    <tr>\n",
              "      <th>50%</th>\n",
              "      <td>0.000000</td>\n",
              "      <td>0.000000</td>\n",
              "      <td>0.000000</td>\n",
              "      <td>0.000000</td>\n",
              "      <td>0.000000</td>\n",
              "      <td>0.000000</td>\n",
              "      <td>0.000000</td>\n",
              "      <td>2.000000</td>\n",
              "      <td>3.000000</td>\n",
              "      <td>0.000000</td>\n",
              "      <td>0.000000</td>\n",
              "      <td>5.000000</td>\n",
              "      <td>0.000000</td>\n",
              "      <td>0.000000</td>\n",
              "      <td>0.000000</td>\n",
              "      <td>0.000000</td>\n",
              "      <td>3.000000</td>\n",
              "      <td>0.000000</td>\n",
              "      <td>0.000000</td>\n",
              "    </tr>\n",
              "    <tr>\n",
              "      <th>75%</th>\n",
              "      <td>0.000000</td>\n",
              "      <td>0.000000</td>\n",
              "      <td>0.000000</td>\n",
              "      <td>0.000000</td>\n",
              "      <td>0.000000</td>\n",
              "      <td>0.000000</td>\n",
              "      <td>0.000000</td>\n",
              "      <td>2.000000</td>\n",
              "      <td>3.000000</td>\n",
              "      <td>0.000000</td>\n",
              "      <td>0.000000</td>\n",
              "      <td>7.000000</td>\n",
              "      <td>0.000000</td>\n",
              "      <td>0.000000</td>\n",
              "      <td>0.000000</td>\n",
              "      <td>0.000000</td>\n",
              "      <td>4.000000</td>\n",
              "      <td>0.000000</td>\n",
              "      <td>0.000000</td>\n",
              "    </tr>\n",
              "    <tr>\n",
              "      <th>max</th>\n",
              "      <td>1.000000</td>\n",
              "      <td>1.000000</td>\n",
              "      <td>1.000000</td>\n",
              "      <td>6.000000</td>\n",
              "      <td>1.000000</td>\n",
              "      <td>1.000000</td>\n",
              "      <td>1.000000</td>\n",
              "      <td>2.000000</td>\n",
              "      <td>4.000000</td>\n",
              "      <td>1.000000</td>\n",
              "      <td>1.000000</td>\n",
              "      <td>10.000000</td>\n",
              "      <td>1.000000</td>\n",
              "      <td>1.000000</td>\n",
              "      <td>1.000000</td>\n",
              "      <td>1.000000</td>\n",
              "      <td>5.000000</td>\n",
              "      <td>1.000000</td>\n",
              "      <td>1.000000</td>\n",
              "    </tr>\n",
              "  </tbody>\n",
              "</table>\n",
              "</div>"
            ],
            "text/plain": [
              "       insulina_dependente  pac_oncologico  ...  oncologia_UPA   Interna_num\n",
              "count         86361.000000    86361.000000  ...   86361.000000  86361.000000\n",
              "mean              0.004284        0.005905  ...       0.003011      0.030430\n",
              "std               0.065315        0.076620  ...       0.054787      0.171769\n",
              "min               0.000000        0.000000  ...       0.000000      0.000000\n",
              "25%               0.000000        0.000000  ...       0.000000      0.000000\n",
              "50%               0.000000        0.000000  ...       0.000000      0.000000\n",
              "75%               0.000000        0.000000  ...       0.000000      0.000000\n",
              "max               1.000000        1.000000  ...       1.000000      1.000000\n",
              "\n",
              "[8 rows x 19 columns]"
            ]
          },
          "metadata": {
            "tags": []
          },
          "execution_count": 19
        }
      ]
    },
    {
      "cell_type": "code",
      "metadata": {
        "id": "gvhiq93K2poX",
        "colab_type": "code",
        "colab": {},
        "outputId": "1baddd66-8c6f-47af-8710-05a644068ab7"
      },
      "source": [
        "df_raw = pd.concat([df_raw_1, df_raw_2], axis=1)\n",
        "df_raw.head(10)"
      ],
      "execution_count": 0,
      "outputs": [
        {
          "output_type": "execute_result",
          "data": {
            "text/html": [
              "<div>\n",
              "<style scoped>\n",
              "    .dataframe tbody tr th:only-of-type {\n",
              "        vertical-align: middle;\n",
              "    }\n",
              "\n",
              "    .dataframe tbody tr th {\n",
              "        vertical-align: top;\n",
              "    }\n",
              "\n",
              "    .dataframe thead th {\n",
              "        text-align: right;\n",
              "    }\n",
              "</style>\n",
              "<table border=\"1\" class=\"dataframe\">\n",
              "  <thead>\n",
              "    <tr style=\"text-align: right;\">\n",
              "      <th></th>\n",
              "      <th>T_num</th>\n",
              "      <th>PA_num</th>\n",
              "      <th>FR_num</th>\n",
              "      <th>P_num</th>\n",
              "      <th>SpO2_num</th>\n",
              "      <th>insulina_dependente</th>\n",
              "      <th>pac_oncologico</th>\n",
              "      <th>int_p_queda</th>\n",
              "      <th>prec_tipo_UPA</th>\n",
              "      <th>prot_UPA_AVC</th>\n",
              "      <th>prot_UPA_IAM</th>\n",
              "      <th>prot_UPA_SEPSE</th>\n",
              "      <th>recursos_ESI</th>\n",
              "      <th>upa_avaliacao_dor</th>\n",
              "      <th>avaliacao_dor_PAINAD</th>\n",
              "      <th>cardiologia_UPA</th>\n",
              "      <th>escala_verbal_numerica</th>\n",
              "      <th>esi_level_1</th>\n",
              "      <th>esi_level_2</th>\n",
              "      <th>hematologia_UPA</th>\n",
              "      <th>medico_externo_UPA</th>\n",
              "      <th>nivel_recomendado_ESI</th>\n",
              "      <th>oncologia_UPA</th>\n",
              "      <th>Interna_num</th>\n",
              "    </tr>\n",
              "  </thead>\n",
              "  <tbody>\n",
              "    <tr>\n",
              "      <th>0</th>\n",
              "      <td>2</td>\n",
              "      <td>2</td>\n",
              "      <td>2</td>\n",
              "      <td>2</td>\n",
              "      <td>2</td>\n",
              "      <td>0</td>\n",
              "      <td>0</td>\n",
              "      <td>0</td>\n",
              "      <td>0</td>\n",
              "      <td>0</td>\n",
              "      <td>0</td>\n",
              "      <td>0</td>\n",
              "      <td>1</td>\n",
              "      <td>3</td>\n",
              "      <td>0</td>\n",
              "      <td>0</td>\n",
              "      <td>0</td>\n",
              "      <td>0</td>\n",
              "      <td>0</td>\n",
              "      <td>0</td>\n",
              "      <td>0</td>\n",
              "      <td>4</td>\n",
              "      <td>0</td>\n",
              "      <td>0</td>\n",
              "    </tr>\n",
              "    <tr>\n",
              "      <th>1</th>\n",
              "      <td>2</td>\n",
              "      <td>2</td>\n",
              "      <td>2</td>\n",
              "      <td>2</td>\n",
              "      <td>2</td>\n",
              "      <td>0</td>\n",
              "      <td>0</td>\n",
              "      <td>0</td>\n",
              "      <td>0</td>\n",
              "      <td>0</td>\n",
              "      <td>0</td>\n",
              "      <td>0</td>\n",
              "      <td>2</td>\n",
              "      <td>3</td>\n",
              "      <td>0</td>\n",
              "      <td>0</td>\n",
              "      <td>7</td>\n",
              "      <td>0</td>\n",
              "      <td>0</td>\n",
              "      <td>0</td>\n",
              "      <td>0</td>\n",
              "      <td>3</td>\n",
              "      <td>0</td>\n",
              "      <td>0</td>\n",
              "    </tr>\n",
              "    <tr>\n",
              "      <th>2</th>\n",
              "      <td>2</td>\n",
              "      <td>2</td>\n",
              "      <td>2</td>\n",
              "      <td>2</td>\n",
              "      <td>2</td>\n",
              "      <td>0</td>\n",
              "      <td>0</td>\n",
              "      <td>0</td>\n",
              "      <td>0</td>\n",
              "      <td>0</td>\n",
              "      <td>0</td>\n",
              "      <td>0</td>\n",
              "      <td>2</td>\n",
              "      <td>0</td>\n",
              "      <td>0</td>\n",
              "      <td>0</td>\n",
              "      <td>0</td>\n",
              "      <td>0</td>\n",
              "      <td>0</td>\n",
              "      <td>0</td>\n",
              "      <td>0</td>\n",
              "      <td>3</td>\n",
              "      <td>0</td>\n",
              "      <td>0</td>\n",
              "    </tr>\n",
              "    <tr>\n",
              "      <th>3</th>\n",
              "      <td>2</td>\n",
              "      <td>2</td>\n",
              "      <td>2</td>\n",
              "      <td>3</td>\n",
              "      <td>2</td>\n",
              "      <td>0</td>\n",
              "      <td>0</td>\n",
              "      <td>0</td>\n",
              "      <td>0</td>\n",
              "      <td>0</td>\n",
              "      <td>0</td>\n",
              "      <td>0</td>\n",
              "      <td>2</td>\n",
              "      <td>3</td>\n",
              "      <td>0</td>\n",
              "      <td>0</td>\n",
              "      <td>0</td>\n",
              "      <td>0</td>\n",
              "      <td>0</td>\n",
              "      <td>0</td>\n",
              "      <td>0</td>\n",
              "      <td>3</td>\n",
              "      <td>0</td>\n",
              "      <td>0</td>\n",
              "    </tr>\n",
              "    <tr>\n",
              "      <th>4</th>\n",
              "      <td>2</td>\n",
              "      <td>2</td>\n",
              "      <td>2</td>\n",
              "      <td>2</td>\n",
              "      <td>2</td>\n",
              "      <td>0</td>\n",
              "      <td>0</td>\n",
              "      <td>0</td>\n",
              "      <td>0</td>\n",
              "      <td>0</td>\n",
              "      <td>0</td>\n",
              "      <td>0</td>\n",
              "      <td>2</td>\n",
              "      <td>3</td>\n",
              "      <td>0</td>\n",
              "      <td>0</td>\n",
              "      <td>7</td>\n",
              "      <td>0</td>\n",
              "      <td>0</td>\n",
              "      <td>0</td>\n",
              "      <td>0</td>\n",
              "      <td>3</td>\n",
              "      <td>0</td>\n",
              "      <td>0</td>\n",
              "    </tr>\n",
              "    <tr>\n",
              "      <th>5</th>\n",
              "      <td>2</td>\n",
              "      <td>2</td>\n",
              "      <td>2</td>\n",
              "      <td>2</td>\n",
              "      <td>2</td>\n",
              "      <td>0</td>\n",
              "      <td>0</td>\n",
              "      <td>0</td>\n",
              "      <td>0</td>\n",
              "      <td>0</td>\n",
              "      <td>0</td>\n",
              "      <td>0</td>\n",
              "      <td>2</td>\n",
              "      <td>0</td>\n",
              "      <td>0</td>\n",
              "      <td>0</td>\n",
              "      <td>7</td>\n",
              "      <td>0</td>\n",
              "      <td>0</td>\n",
              "      <td>0</td>\n",
              "      <td>0</td>\n",
              "      <td>3</td>\n",
              "      <td>0</td>\n",
              "      <td>0</td>\n",
              "    </tr>\n",
              "    <tr>\n",
              "      <th>6</th>\n",
              "      <td>2</td>\n",
              "      <td>2</td>\n",
              "      <td>2</td>\n",
              "      <td>2</td>\n",
              "      <td>2</td>\n",
              "      <td>0</td>\n",
              "      <td>0</td>\n",
              "      <td>0</td>\n",
              "      <td>0</td>\n",
              "      <td>0</td>\n",
              "      <td>0</td>\n",
              "      <td>0</td>\n",
              "      <td>1</td>\n",
              "      <td>3</td>\n",
              "      <td>0</td>\n",
              "      <td>0</td>\n",
              "      <td>0</td>\n",
              "      <td>0</td>\n",
              "      <td>0</td>\n",
              "      <td>0</td>\n",
              "      <td>0</td>\n",
              "      <td>4</td>\n",
              "      <td>0</td>\n",
              "      <td>0</td>\n",
              "    </tr>\n",
              "    <tr>\n",
              "      <th>7</th>\n",
              "      <td>2</td>\n",
              "      <td>3</td>\n",
              "      <td>2</td>\n",
              "      <td>3</td>\n",
              "      <td>2</td>\n",
              "      <td>0</td>\n",
              "      <td>0</td>\n",
              "      <td>0</td>\n",
              "      <td>0</td>\n",
              "      <td>0</td>\n",
              "      <td>0</td>\n",
              "      <td>0</td>\n",
              "      <td>2</td>\n",
              "      <td>3</td>\n",
              "      <td>0</td>\n",
              "      <td>0</td>\n",
              "      <td>1</td>\n",
              "      <td>0</td>\n",
              "      <td>0</td>\n",
              "      <td>0</td>\n",
              "      <td>0</td>\n",
              "      <td>3</td>\n",
              "      <td>0</td>\n",
              "      <td>0</td>\n",
              "    </tr>\n",
              "    <tr>\n",
              "      <th>8</th>\n",
              "      <td>2</td>\n",
              "      <td>2</td>\n",
              "      <td>2</td>\n",
              "      <td>2</td>\n",
              "      <td>2</td>\n",
              "      <td>0</td>\n",
              "      <td>0</td>\n",
              "      <td>0</td>\n",
              "      <td>0</td>\n",
              "      <td>0</td>\n",
              "      <td>0</td>\n",
              "      <td>0</td>\n",
              "      <td>2</td>\n",
              "      <td>3</td>\n",
              "      <td>0</td>\n",
              "      <td>0</td>\n",
              "      <td>8</td>\n",
              "      <td>0</td>\n",
              "      <td>0</td>\n",
              "      <td>0</td>\n",
              "      <td>0</td>\n",
              "      <td>3</td>\n",
              "      <td>0</td>\n",
              "      <td>0</td>\n",
              "    </tr>\n",
              "    <tr>\n",
              "      <th>9</th>\n",
              "      <td>2</td>\n",
              "      <td>5</td>\n",
              "      <td>2</td>\n",
              "      <td>2</td>\n",
              "      <td>2</td>\n",
              "      <td>0</td>\n",
              "      <td>0</td>\n",
              "      <td>1</td>\n",
              "      <td>0</td>\n",
              "      <td>0</td>\n",
              "      <td>0</td>\n",
              "      <td>0</td>\n",
              "      <td>1</td>\n",
              "      <td>3</td>\n",
              "      <td>0</td>\n",
              "      <td>0</td>\n",
              "      <td>0</td>\n",
              "      <td>0</td>\n",
              "      <td>0</td>\n",
              "      <td>0</td>\n",
              "      <td>0</td>\n",
              "      <td>4</td>\n",
              "      <td>0</td>\n",
              "      <td>0</td>\n",
              "    </tr>\n",
              "  </tbody>\n",
              "</table>\n",
              "</div>"
            ],
            "text/plain": [
              "   T_num  PA_num  FR_num  ...  nivel_recomendado_ESI  oncologia_UPA  Interna_num\n",
              "0      2       2       2  ...                      4              0            0\n",
              "1      2       2       2  ...                      3              0            0\n",
              "2      2       2       2  ...                      3              0            0\n",
              "3      2       2       2  ...                      3              0            0\n",
              "4      2       2       2  ...                      3              0            0\n",
              "5      2       2       2  ...                      3              0            0\n",
              "6      2       2       2  ...                      4              0            0\n",
              "7      2       3       2  ...                      3              0            0\n",
              "8      2       2       2  ...                      3              0            0\n",
              "9      2       5       2  ...                      4              0            0\n",
              "\n",
              "[10 rows x 24 columns]"
            ]
          },
          "metadata": {
            "tags": []
          },
          "execution_count": 20
        }
      ]
    },
    {
      "cell_type": "code",
      "metadata": {
        "id": "pVamNv-z2poa",
        "colab_type": "code",
        "colab": {}
      },
      "source": [
        "# Filering NaN / 'Failed'\n",
        "df_raw = df_raw[(df_raw['T_num'] != 0) & (df_raw['PA_num'] != 0) & (df_raw['FR_num'] != 0) & (df_raw['P_num'] != 0) & (df_raw['SpO2_num'] != 0)]"
      ],
      "execution_count": 0,
      "outputs": []
    },
    {
      "cell_type": "code",
      "metadata": {
        "scrolled": true,
        "id": "XPY1JAYR2pof",
        "colab_type": "code",
        "colab": {},
        "outputId": "21bd1de0-1b9e-4c81-fff0-36e94537acc6"
      },
      "source": [
        "# View\n",
        "df_raw.shape"
      ],
      "execution_count": 0,
      "outputs": [
        {
          "output_type": "execute_result",
          "data": {
            "text/plain": [
              "(78709, 24)"
            ]
          },
          "metadata": {
            "tags": []
          },
          "execution_count": 22
        }
      ]
    },
    {
      "cell_type": "code",
      "metadata": {
        "scrolled": true,
        "id": "Gh3wYoi22poi",
        "colab_type": "code",
        "colab": {},
        "outputId": "1eccaaf0-8392-46f5-d0f2-2ea7a2880668"
      },
      "source": [
        "# View\n",
        "df_raw.head(10)"
      ],
      "execution_count": 0,
      "outputs": [
        {
          "output_type": "execute_result",
          "data": {
            "text/html": [
              "<div>\n",
              "<style scoped>\n",
              "    .dataframe tbody tr th:only-of-type {\n",
              "        vertical-align: middle;\n",
              "    }\n",
              "\n",
              "    .dataframe tbody tr th {\n",
              "        vertical-align: top;\n",
              "    }\n",
              "\n",
              "    .dataframe thead th {\n",
              "        text-align: right;\n",
              "    }\n",
              "</style>\n",
              "<table border=\"1\" class=\"dataframe\">\n",
              "  <thead>\n",
              "    <tr style=\"text-align: right;\">\n",
              "      <th></th>\n",
              "      <th>T_num</th>\n",
              "      <th>PA_num</th>\n",
              "      <th>FR_num</th>\n",
              "      <th>P_num</th>\n",
              "      <th>SpO2_num</th>\n",
              "      <th>insulina_dependente</th>\n",
              "      <th>pac_oncologico</th>\n",
              "      <th>int_p_queda</th>\n",
              "      <th>prec_tipo_UPA</th>\n",
              "      <th>prot_UPA_AVC</th>\n",
              "      <th>prot_UPA_IAM</th>\n",
              "      <th>prot_UPA_SEPSE</th>\n",
              "      <th>recursos_ESI</th>\n",
              "      <th>upa_avaliacao_dor</th>\n",
              "      <th>avaliacao_dor_PAINAD</th>\n",
              "      <th>cardiologia_UPA</th>\n",
              "      <th>escala_verbal_numerica</th>\n",
              "      <th>esi_level_1</th>\n",
              "      <th>esi_level_2</th>\n",
              "      <th>hematologia_UPA</th>\n",
              "      <th>medico_externo_UPA</th>\n",
              "      <th>nivel_recomendado_ESI</th>\n",
              "      <th>oncologia_UPA</th>\n",
              "      <th>Interna_num</th>\n",
              "    </tr>\n",
              "  </thead>\n",
              "  <tbody>\n",
              "    <tr>\n",
              "      <th>0</th>\n",
              "      <td>2</td>\n",
              "      <td>2</td>\n",
              "      <td>2</td>\n",
              "      <td>2</td>\n",
              "      <td>2</td>\n",
              "      <td>0</td>\n",
              "      <td>0</td>\n",
              "      <td>0</td>\n",
              "      <td>0</td>\n",
              "      <td>0</td>\n",
              "      <td>0</td>\n",
              "      <td>0</td>\n",
              "      <td>1</td>\n",
              "      <td>3</td>\n",
              "      <td>0</td>\n",
              "      <td>0</td>\n",
              "      <td>0</td>\n",
              "      <td>0</td>\n",
              "      <td>0</td>\n",
              "      <td>0</td>\n",
              "      <td>0</td>\n",
              "      <td>4</td>\n",
              "      <td>0</td>\n",
              "      <td>0</td>\n",
              "    </tr>\n",
              "    <tr>\n",
              "      <th>1</th>\n",
              "      <td>2</td>\n",
              "      <td>2</td>\n",
              "      <td>2</td>\n",
              "      <td>2</td>\n",
              "      <td>2</td>\n",
              "      <td>0</td>\n",
              "      <td>0</td>\n",
              "      <td>0</td>\n",
              "      <td>0</td>\n",
              "      <td>0</td>\n",
              "      <td>0</td>\n",
              "      <td>0</td>\n",
              "      <td>2</td>\n",
              "      <td>3</td>\n",
              "      <td>0</td>\n",
              "      <td>0</td>\n",
              "      <td>7</td>\n",
              "      <td>0</td>\n",
              "      <td>0</td>\n",
              "      <td>0</td>\n",
              "      <td>0</td>\n",
              "      <td>3</td>\n",
              "      <td>0</td>\n",
              "      <td>0</td>\n",
              "    </tr>\n",
              "    <tr>\n",
              "      <th>2</th>\n",
              "      <td>2</td>\n",
              "      <td>2</td>\n",
              "      <td>2</td>\n",
              "      <td>2</td>\n",
              "      <td>2</td>\n",
              "      <td>0</td>\n",
              "      <td>0</td>\n",
              "      <td>0</td>\n",
              "      <td>0</td>\n",
              "      <td>0</td>\n",
              "      <td>0</td>\n",
              "      <td>0</td>\n",
              "      <td>2</td>\n",
              "      <td>0</td>\n",
              "      <td>0</td>\n",
              "      <td>0</td>\n",
              "      <td>0</td>\n",
              "      <td>0</td>\n",
              "      <td>0</td>\n",
              "      <td>0</td>\n",
              "      <td>0</td>\n",
              "      <td>3</td>\n",
              "      <td>0</td>\n",
              "      <td>0</td>\n",
              "    </tr>\n",
              "    <tr>\n",
              "      <th>3</th>\n",
              "      <td>2</td>\n",
              "      <td>2</td>\n",
              "      <td>2</td>\n",
              "      <td>3</td>\n",
              "      <td>2</td>\n",
              "      <td>0</td>\n",
              "      <td>0</td>\n",
              "      <td>0</td>\n",
              "      <td>0</td>\n",
              "      <td>0</td>\n",
              "      <td>0</td>\n",
              "      <td>0</td>\n",
              "      <td>2</td>\n",
              "      <td>3</td>\n",
              "      <td>0</td>\n",
              "      <td>0</td>\n",
              "      <td>0</td>\n",
              "      <td>0</td>\n",
              "      <td>0</td>\n",
              "      <td>0</td>\n",
              "      <td>0</td>\n",
              "      <td>3</td>\n",
              "      <td>0</td>\n",
              "      <td>0</td>\n",
              "    </tr>\n",
              "    <tr>\n",
              "      <th>4</th>\n",
              "      <td>2</td>\n",
              "      <td>2</td>\n",
              "      <td>2</td>\n",
              "      <td>2</td>\n",
              "      <td>2</td>\n",
              "      <td>0</td>\n",
              "      <td>0</td>\n",
              "      <td>0</td>\n",
              "      <td>0</td>\n",
              "      <td>0</td>\n",
              "      <td>0</td>\n",
              "      <td>0</td>\n",
              "      <td>2</td>\n",
              "      <td>3</td>\n",
              "      <td>0</td>\n",
              "      <td>0</td>\n",
              "      <td>7</td>\n",
              "      <td>0</td>\n",
              "      <td>0</td>\n",
              "      <td>0</td>\n",
              "      <td>0</td>\n",
              "      <td>3</td>\n",
              "      <td>0</td>\n",
              "      <td>0</td>\n",
              "    </tr>\n",
              "    <tr>\n",
              "      <th>5</th>\n",
              "      <td>2</td>\n",
              "      <td>2</td>\n",
              "      <td>2</td>\n",
              "      <td>2</td>\n",
              "      <td>2</td>\n",
              "      <td>0</td>\n",
              "      <td>0</td>\n",
              "      <td>0</td>\n",
              "      <td>0</td>\n",
              "      <td>0</td>\n",
              "      <td>0</td>\n",
              "      <td>0</td>\n",
              "      <td>2</td>\n",
              "      <td>0</td>\n",
              "      <td>0</td>\n",
              "      <td>0</td>\n",
              "      <td>7</td>\n",
              "      <td>0</td>\n",
              "      <td>0</td>\n",
              "      <td>0</td>\n",
              "      <td>0</td>\n",
              "      <td>3</td>\n",
              "      <td>0</td>\n",
              "      <td>0</td>\n",
              "    </tr>\n",
              "    <tr>\n",
              "      <th>6</th>\n",
              "      <td>2</td>\n",
              "      <td>2</td>\n",
              "      <td>2</td>\n",
              "      <td>2</td>\n",
              "      <td>2</td>\n",
              "      <td>0</td>\n",
              "      <td>0</td>\n",
              "      <td>0</td>\n",
              "      <td>0</td>\n",
              "      <td>0</td>\n",
              "      <td>0</td>\n",
              "      <td>0</td>\n",
              "      <td>1</td>\n",
              "      <td>3</td>\n",
              "      <td>0</td>\n",
              "      <td>0</td>\n",
              "      <td>0</td>\n",
              "      <td>0</td>\n",
              "      <td>0</td>\n",
              "      <td>0</td>\n",
              "      <td>0</td>\n",
              "      <td>4</td>\n",
              "      <td>0</td>\n",
              "      <td>0</td>\n",
              "    </tr>\n",
              "    <tr>\n",
              "      <th>7</th>\n",
              "      <td>2</td>\n",
              "      <td>3</td>\n",
              "      <td>2</td>\n",
              "      <td>3</td>\n",
              "      <td>2</td>\n",
              "      <td>0</td>\n",
              "      <td>0</td>\n",
              "      <td>0</td>\n",
              "      <td>0</td>\n",
              "      <td>0</td>\n",
              "      <td>0</td>\n",
              "      <td>0</td>\n",
              "      <td>2</td>\n",
              "      <td>3</td>\n",
              "      <td>0</td>\n",
              "      <td>0</td>\n",
              "      <td>1</td>\n",
              "      <td>0</td>\n",
              "      <td>0</td>\n",
              "      <td>0</td>\n",
              "      <td>0</td>\n",
              "      <td>3</td>\n",
              "      <td>0</td>\n",
              "      <td>0</td>\n",
              "    </tr>\n",
              "    <tr>\n",
              "      <th>8</th>\n",
              "      <td>2</td>\n",
              "      <td>2</td>\n",
              "      <td>2</td>\n",
              "      <td>2</td>\n",
              "      <td>2</td>\n",
              "      <td>0</td>\n",
              "      <td>0</td>\n",
              "      <td>0</td>\n",
              "      <td>0</td>\n",
              "      <td>0</td>\n",
              "      <td>0</td>\n",
              "      <td>0</td>\n",
              "      <td>2</td>\n",
              "      <td>3</td>\n",
              "      <td>0</td>\n",
              "      <td>0</td>\n",
              "      <td>8</td>\n",
              "      <td>0</td>\n",
              "      <td>0</td>\n",
              "      <td>0</td>\n",
              "      <td>0</td>\n",
              "      <td>3</td>\n",
              "      <td>0</td>\n",
              "      <td>0</td>\n",
              "    </tr>\n",
              "    <tr>\n",
              "      <th>9</th>\n",
              "      <td>2</td>\n",
              "      <td>5</td>\n",
              "      <td>2</td>\n",
              "      <td>2</td>\n",
              "      <td>2</td>\n",
              "      <td>0</td>\n",
              "      <td>0</td>\n",
              "      <td>1</td>\n",
              "      <td>0</td>\n",
              "      <td>0</td>\n",
              "      <td>0</td>\n",
              "      <td>0</td>\n",
              "      <td>1</td>\n",
              "      <td>3</td>\n",
              "      <td>0</td>\n",
              "      <td>0</td>\n",
              "      <td>0</td>\n",
              "      <td>0</td>\n",
              "      <td>0</td>\n",
              "      <td>0</td>\n",
              "      <td>0</td>\n",
              "      <td>4</td>\n",
              "      <td>0</td>\n",
              "      <td>0</td>\n",
              "    </tr>\n",
              "  </tbody>\n",
              "</table>\n",
              "</div>"
            ],
            "text/plain": [
              "   T_num  PA_num  FR_num  ...  nivel_recomendado_ESI  oncologia_UPA  Interna_num\n",
              "0      2       2       2  ...                      4              0            0\n",
              "1      2       2       2  ...                      3              0            0\n",
              "2      2       2       2  ...                      3              0            0\n",
              "3      2       2       2  ...                      3              0            0\n",
              "4      2       2       2  ...                      3              0            0\n",
              "5      2       2       2  ...                      3              0            0\n",
              "6      2       2       2  ...                      4              0            0\n",
              "7      2       3       2  ...                      3              0            0\n",
              "8      2       2       2  ...                      3              0            0\n",
              "9      2       5       2  ...                      4              0            0\n",
              "\n",
              "[10 rows x 24 columns]"
            ]
          },
          "metadata": {
            "tags": []
          },
          "execution_count": 23
        }
      ]
    },
    {
      "cell_type": "code",
      "metadata": {
        "id": "1eUueZtv2pom",
        "colab_type": "code",
        "colab": {}
      },
      "source": [
        "# Write DataFrame to a comma-separated values (csv) file\n",
        "file = 'data/HIAE_Triagem_v04.csv'\n",
        "df_raw.to_csv(file, sep = \";\", index = False)"
      ],
      "execution_count": 0,
      "outputs": []
    },
    {
      "cell_type": "markdown",
      "metadata": {
        "id": "bZQZQ3b92poo",
        "colab_type": "text"
      },
      "source": [
        "Em problemas de classificação pode ser necessário balancear as classes. Aqui existe uma clara desproporção entre as classes 0 (paciente não interna) e 1 (paciente interna)."
      ]
    },
    {
      "cell_type": "code",
      "metadata": {
        "scrolled": true,
        "id": "mn946loI2pop",
        "colab_type": "code",
        "colab": {},
        "outputId": "2c19b4f5-45fe-48d1-f880-8e659cd3d4d9"
      },
      "source": [
        "# Distribuição das classes\n",
        "df_raw.groupby('Interna_num').size()"
      ],
      "execution_count": 0,
      "outputs": [
        {
          "output_type": "execute_result",
          "data": {
            "text/plain": [
              "Interna_num\n",
              "0    76340\n",
              "1     2369\n",
              "dtype: int64"
            ]
          },
          "metadata": {
            "tags": []
          },
          "execution_count": 25
        }
      ]
    },
    {
      "cell_type": "code",
      "metadata": {
        "id": "yN8h89mf2pos",
        "colab_type": "code",
        "colab": {},
        "outputId": "60d0f966-60fd-4d24-b888-d2a5602c21ca"
      },
      "source": [
        "# Balanceamento (Down-sample Majority Class)\n",
        "\n",
        "from sklearn.utils import resample\n",
        "\n",
        "# Separate majority and minority classes\n",
        "df_majority = df_raw[df_raw.Interna_num == 0]\n",
        "df_minority = df_raw[df_raw.Interna_num == 1]\n",
        " \n",
        "# Upsample minority class\n",
        "df_majority_downsampled = resample(df_majority, \n",
        "                                   replace = False,    # sample without replacement\n",
        "                                   n_samples = 2369,   # to match minority class\n",
        "                                   random_state = 123) # reproducible results\n",
        " \n",
        "# Combine minority class with downsampled majority class\n",
        "df_downsampled = pd.concat([df_majority_downsampled, df_minority])\n",
        " \n",
        "# Display new class counts\n",
        "df_downsampled.Interna_num.value_counts()"
      ],
      "execution_count": 0,
      "outputs": [
        {
          "output_type": "execute_result",
          "data": {
            "text/plain": [
              "1    2369\n",
              "0    2369\n",
              "Name: Interna_num, dtype: int64"
            ]
          },
          "metadata": {
            "tags": []
          },
          "execution_count": 26
        }
      ]
    },
    {
      "cell_type": "code",
      "metadata": {
        "scrolled": true,
        "id": "HdE3PeMH2pov",
        "colab_type": "code",
        "colab": {},
        "outputId": "d7fbb07f-e0e4-4648-807b-3a9efe459b95"
      },
      "source": [
        "df_downsampled.describe()"
      ],
      "execution_count": 0,
      "outputs": [
        {
          "output_type": "execute_result",
          "data": {
            "text/html": [
              "<div>\n",
              "<style scoped>\n",
              "    .dataframe tbody tr th:only-of-type {\n",
              "        vertical-align: middle;\n",
              "    }\n",
              "\n",
              "    .dataframe tbody tr th {\n",
              "        vertical-align: top;\n",
              "    }\n",
              "\n",
              "    .dataframe thead th {\n",
              "        text-align: right;\n",
              "    }\n",
              "</style>\n",
              "<table border=\"1\" class=\"dataframe\">\n",
              "  <thead>\n",
              "    <tr style=\"text-align: right;\">\n",
              "      <th></th>\n",
              "      <th>T_num</th>\n",
              "      <th>PA_num</th>\n",
              "      <th>FR_num</th>\n",
              "      <th>P_num</th>\n",
              "      <th>SpO2_num</th>\n",
              "      <th>insulina_dependente</th>\n",
              "      <th>pac_oncologico</th>\n",
              "      <th>int_p_queda</th>\n",
              "      <th>prec_tipo_UPA</th>\n",
              "      <th>prot_UPA_AVC</th>\n",
              "      <th>prot_UPA_IAM</th>\n",
              "      <th>prot_UPA_SEPSE</th>\n",
              "      <th>recursos_ESI</th>\n",
              "      <th>upa_avaliacao_dor</th>\n",
              "      <th>avaliacao_dor_PAINAD</th>\n",
              "      <th>cardiologia_UPA</th>\n",
              "      <th>escala_verbal_numerica</th>\n",
              "      <th>esi_level_1</th>\n",
              "      <th>esi_level_2</th>\n",
              "      <th>hematologia_UPA</th>\n",
              "      <th>medico_externo_UPA</th>\n",
              "      <th>nivel_recomendado_ESI</th>\n",
              "      <th>oncologia_UPA</th>\n",
              "      <th>Interna_num</th>\n",
              "    </tr>\n",
              "  </thead>\n",
              "  <tbody>\n",
              "    <tr>\n",
              "      <th>count</th>\n",
              "      <td>4738.000000</td>\n",
              "      <td>4738.000000</td>\n",
              "      <td>4738.000000</td>\n",
              "      <td>4738.000000</td>\n",
              "      <td>4738.000000</td>\n",
              "      <td>4738.000000</td>\n",
              "      <td>4738.000000</td>\n",
              "      <td>4738.000000</td>\n",
              "      <td>4738.000000</td>\n",
              "      <td>4738.000000</td>\n",
              "      <td>4738.000000</td>\n",
              "      <td>4738.000000</td>\n",
              "      <td>4738.000000</td>\n",
              "      <td>4738.000000</td>\n",
              "      <td>4738.000000</td>\n",
              "      <td>4738.000000</td>\n",
              "      <td>4738.000000</td>\n",
              "      <td>4738.0</td>\n",
              "      <td>4738.000000</td>\n",
              "      <td>4738.000000</td>\n",
              "      <td>4738.000000</td>\n",
              "      <td>4738.000000</td>\n",
              "      <td>4738.000000</td>\n",
              "      <td>4738.000000</td>\n",
              "    </tr>\n",
              "    <tr>\n",
              "      <th>mean</th>\n",
              "      <td>2.093077</td>\n",
              "      <td>2.445758</td>\n",
              "      <td>2.012241</td>\n",
              "      <td>2.127058</td>\n",
              "      <td>1.980371</td>\n",
              "      <td>0.010975</td>\n",
              "      <td>0.032292</td>\n",
              "      <td>0.157450</td>\n",
              "      <td>0.317222</td>\n",
              "      <td>0.004010</td>\n",
              "      <td>0.005276</td>\n",
              "      <td>0.036302</td>\n",
              "      <td>1.691009</td>\n",
              "      <td>2.116083</td>\n",
              "      <td>0.000422</td>\n",
              "      <td>0.002111</td>\n",
              "      <td>3.899958</td>\n",
              "      <td>0.0</td>\n",
              "      <td>0.004854</td>\n",
              "      <td>0.012030</td>\n",
              "      <td>0.028071</td>\n",
              "      <td>3.303081</td>\n",
              "      <td>0.020684</td>\n",
              "      <td>0.500000</td>\n",
              "    </tr>\n",
              "    <tr>\n",
              "      <th>std</th>\n",
              "      <td>0.542077</td>\n",
              "      <td>0.995086</td>\n",
              "      <td>0.115589</td>\n",
              "      <td>0.341831</td>\n",
              "      <td>0.138735</td>\n",
              "      <td>0.104197</td>\n",
              "      <td>0.176793</td>\n",
              "      <td>0.364263</td>\n",
              "      <td>1.207623</td>\n",
              "      <td>0.063205</td>\n",
              "      <td>0.072455</td>\n",
              "      <td>0.187061</td>\n",
              "      <td>0.511559</td>\n",
              "      <td>1.343178</td>\n",
              "      <td>0.020543</td>\n",
              "      <td>0.045898</td>\n",
              "      <td>3.488350</td>\n",
              "      <td>0.0</td>\n",
              "      <td>0.069511</td>\n",
              "      <td>0.109033</td>\n",
              "      <td>0.165193</td>\n",
              "      <td>0.519572</td>\n",
              "      <td>0.142339</td>\n",
              "      <td>0.500053</td>\n",
              "    </tr>\n",
              "    <tr>\n",
              "      <th>min</th>\n",
              "      <td>1.000000</td>\n",
              "      <td>1.000000</td>\n",
              "      <td>1.000000</td>\n",
              "      <td>1.000000</td>\n",
              "      <td>1.000000</td>\n",
              "      <td>0.000000</td>\n",
              "      <td>0.000000</td>\n",
              "      <td>0.000000</td>\n",
              "      <td>0.000000</td>\n",
              "      <td>0.000000</td>\n",
              "      <td>0.000000</td>\n",
              "      <td>0.000000</td>\n",
              "      <td>0.000000</td>\n",
              "      <td>0.000000</td>\n",
              "      <td>0.000000</td>\n",
              "      <td>0.000000</td>\n",
              "      <td>0.000000</td>\n",
              "      <td>0.0</td>\n",
              "      <td>0.000000</td>\n",
              "      <td>0.000000</td>\n",
              "      <td>0.000000</td>\n",
              "      <td>2.000000</td>\n",
              "      <td>0.000000</td>\n",
              "      <td>0.000000</td>\n",
              "    </tr>\n",
              "    <tr>\n",
              "      <th>25%</th>\n",
              "      <td>2.000000</td>\n",
              "      <td>2.000000</td>\n",
              "      <td>2.000000</td>\n",
              "      <td>2.000000</td>\n",
              "      <td>2.000000</td>\n",
              "      <td>0.000000</td>\n",
              "      <td>0.000000</td>\n",
              "      <td>0.000000</td>\n",
              "      <td>0.000000</td>\n",
              "      <td>0.000000</td>\n",
              "      <td>0.000000</td>\n",
              "      <td>0.000000</td>\n",
              "      <td>1.000000</td>\n",
              "      <td>0.000000</td>\n",
              "      <td>0.000000</td>\n",
              "      <td>0.000000</td>\n",
              "      <td>0.000000</td>\n",
              "      <td>0.0</td>\n",
              "      <td>0.000000</td>\n",
              "      <td>0.000000</td>\n",
              "      <td>0.000000</td>\n",
              "      <td>3.000000</td>\n",
              "      <td>0.000000</td>\n",
              "      <td>0.000000</td>\n",
              "    </tr>\n",
              "    <tr>\n",
              "      <th>50%</th>\n",
              "      <td>2.000000</td>\n",
              "      <td>2.000000</td>\n",
              "      <td>2.000000</td>\n",
              "      <td>2.000000</td>\n",
              "      <td>2.000000</td>\n",
              "      <td>0.000000</td>\n",
              "      <td>0.000000</td>\n",
              "      <td>0.000000</td>\n",
              "      <td>0.000000</td>\n",
              "      <td>0.000000</td>\n",
              "      <td>0.000000</td>\n",
              "      <td>0.000000</td>\n",
              "      <td>2.000000</td>\n",
              "      <td>3.000000</td>\n",
              "      <td>0.000000</td>\n",
              "      <td>0.000000</td>\n",
              "      <td>4.000000</td>\n",
              "      <td>0.0</td>\n",
              "      <td>0.000000</td>\n",
              "      <td>0.000000</td>\n",
              "      <td>0.000000</td>\n",
              "      <td>3.000000</td>\n",
              "      <td>0.000000</td>\n",
              "      <td>0.500000</td>\n",
              "    </tr>\n",
              "    <tr>\n",
              "      <th>75%</th>\n",
              "      <td>2.000000</td>\n",
              "      <td>2.000000</td>\n",
              "      <td>2.000000</td>\n",
              "      <td>2.000000</td>\n",
              "      <td>2.000000</td>\n",
              "      <td>0.000000</td>\n",
              "      <td>0.000000</td>\n",
              "      <td>0.000000</td>\n",
              "      <td>0.000000</td>\n",
              "      <td>0.000000</td>\n",
              "      <td>0.000000</td>\n",
              "      <td>0.000000</td>\n",
              "      <td>2.000000</td>\n",
              "      <td>3.000000</td>\n",
              "      <td>0.000000</td>\n",
              "      <td>0.000000</td>\n",
              "      <td>7.000000</td>\n",
              "      <td>0.0</td>\n",
              "      <td>0.000000</td>\n",
              "      <td>0.000000</td>\n",
              "      <td>0.000000</td>\n",
              "      <td>4.000000</td>\n",
              "      <td>0.000000</td>\n",
              "      <td>1.000000</td>\n",
              "    </tr>\n",
              "    <tr>\n",
              "      <th>max</th>\n",
              "      <td>5.000000</td>\n",
              "      <td>5.000000</td>\n",
              "      <td>3.000000</td>\n",
              "      <td>3.000000</td>\n",
              "      <td>2.000000</td>\n",
              "      <td>1.000000</td>\n",
              "      <td>1.000000</td>\n",
              "      <td>1.000000</td>\n",
              "      <td>6.000000</td>\n",
              "      <td>1.000000</td>\n",
              "      <td>1.000000</td>\n",
              "      <td>1.000000</td>\n",
              "      <td>2.000000</td>\n",
              "      <td>3.000000</td>\n",
              "      <td>1.000000</td>\n",
              "      <td>1.000000</td>\n",
              "      <td>10.000000</td>\n",
              "      <td>0.0</td>\n",
              "      <td>1.000000</td>\n",
              "      <td>1.000000</td>\n",
              "      <td>1.000000</td>\n",
              "      <td>5.000000</td>\n",
              "      <td>1.000000</td>\n",
              "      <td>1.000000</td>\n",
              "    </tr>\n",
              "  </tbody>\n",
              "</table>\n",
              "</div>"
            ],
            "text/plain": [
              "             T_num       PA_num  ...  oncologia_UPA  Interna_num\n",
              "count  4738.000000  4738.000000  ...    4738.000000  4738.000000\n",
              "mean      2.093077     2.445758  ...       0.020684     0.500000\n",
              "std       0.542077     0.995086  ...       0.142339     0.500053\n",
              "min       1.000000     1.000000  ...       0.000000     0.000000\n",
              "25%       2.000000     2.000000  ...       0.000000     0.000000\n",
              "50%       2.000000     2.000000  ...       0.000000     0.500000\n",
              "75%       2.000000     2.000000  ...       0.000000     1.000000\n",
              "max       5.000000     5.000000  ...       1.000000     1.000000\n",
              "\n",
              "[8 rows x 24 columns]"
            ]
          },
          "metadata": {
            "tags": []
          },
          "execution_count": 27
        }
      ]
    },
    {
      "cell_type": "markdown",
      "metadata": {
        "id": "suFTONdC2poy",
        "colab_type": "text"
      },
      "source": [
        "Alguma observação sobre o resumo estatístico acima?"
      ]
    },
    {
      "cell_type": "code",
      "metadata": {
        "id": "Y6ilB5rG2poz",
        "colab_type": "code",
        "colab": {},
        "outputId": "25ac6635-532f-4d40-87b7-2b43b8537877"
      },
      "source": [
        "# your code here...\n",
        "df_downsampled.groupby('esi_level_1').size()"
      ],
      "execution_count": 0,
      "outputs": [
        {
          "output_type": "execute_result",
          "data": {
            "text/plain": [
              "esi_level_1\n",
              "0    4738\n",
              "dtype: int64"
            ]
          },
          "metadata": {
            "tags": []
          },
          "execution_count": 28
        }
      ]
    },
    {
      "cell_type": "code",
      "metadata": {
        "scrolled": true,
        "id": "fxVDULxf2po1",
        "colab_type": "code",
        "colab": {}
      },
      "source": [
        "df_downsampled_bkp = df_downsampled"
      ],
      "execution_count": 0,
      "outputs": []
    },
    {
      "cell_type": "code",
      "metadata": {
        "scrolled": true,
        "id": "D4bbHc3q2po4",
        "colab_type": "code",
        "colab": {},
        "outputId": "4050c880-282f-406b-8ead-b78fe4052dcd"
      },
      "source": [
        "df_downsampled_bkp.describe()"
      ],
      "execution_count": 0,
      "outputs": [
        {
          "output_type": "execute_result",
          "data": {
            "text/html": [
              "<div>\n",
              "<style scoped>\n",
              "    .dataframe tbody tr th:only-of-type {\n",
              "        vertical-align: middle;\n",
              "    }\n",
              "\n",
              "    .dataframe tbody tr th {\n",
              "        vertical-align: top;\n",
              "    }\n",
              "\n",
              "    .dataframe thead th {\n",
              "        text-align: right;\n",
              "    }\n",
              "</style>\n",
              "<table border=\"1\" class=\"dataframe\">\n",
              "  <thead>\n",
              "    <tr style=\"text-align: right;\">\n",
              "      <th></th>\n",
              "      <th>T_num</th>\n",
              "      <th>PA_num</th>\n",
              "      <th>FR_num</th>\n",
              "      <th>P_num</th>\n",
              "      <th>SpO2_num</th>\n",
              "      <th>insulina_dependente</th>\n",
              "      <th>pac_oncologico</th>\n",
              "      <th>int_p_queda</th>\n",
              "      <th>prec_tipo_UPA</th>\n",
              "      <th>prot_UPA_AVC</th>\n",
              "      <th>prot_UPA_IAM</th>\n",
              "      <th>prot_UPA_SEPSE</th>\n",
              "      <th>recursos_ESI</th>\n",
              "      <th>upa_avaliacao_dor</th>\n",
              "      <th>avaliacao_dor_PAINAD</th>\n",
              "      <th>cardiologia_UPA</th>\n",
              "      <th>escala_verbal_numerica</th>\n",
              "      <th>esi_level_1</th>\n",
              "      <th>esi_level_2</th>\n",
              "      <th>hematologia_UPA</th>\n",
              "      <th>medico_externo_UPA</th>\n",
              "      <th>nivel_recomendado_ESI</th>\n",
              "      <th>oncologia_UPA</th>\n",
              "      <th>Interna_num</th>\n",
              "    </tr>\n",
              "  </thead>\n",
              "  <tbody>\n",
              "    <tr>\n",
              "      <th>count</th>\n",
              "      <td>4738.000000</td>\n",
              "      <td>4738.000000</td>\n",
              "      <td>4738.000000</td>\n",
              "      <td>4738.000000</td>\n",
              "      <td>4738.000000</td>\n",
              "      <td>4738.000000</td>\n",
              "      <td>4738.000000</td>\n",
              "      <td>4738.000000</td>\n",
              "      <td>4738.000000</td>\n",
              "      <td>4738.000000</td>\n",
              "      <td>4738.000000</td>\n",
              "      <td>4738.000000</td>\n",
              "      <td>4738.000000</td>\n",
              "      <td>4738.000000</td>\n",
              "      <td>4738.000000</td>\n",
              "      <td>4738.000000</td>\n",
              "      <td>4738.000000</td>\n",
              "      <td>4738.0</td>\n",
              "      <td>4738.000000</td>\n",
              "      <td>4738.000000</td>\n",
              "      <td>4738.000000</td>\n",
              "      <td>4738.000000</td>\n",
              "      <td>4738.000000</td>\n",
              "      <td>4738.000000</td>\n",
              "    </tr>\n",
              "    <tr>\n",
              "      <th>mean</th>\n",
              "      <td>2.093077</td>\n",
              "      <td>2.445758</td>\n",
              "      <td>2.012241</td>\n",
              "      <td>2.127058</td>\n",
              "      <td>1.980371</td>\n",
              "      <td>0.010975</td>\n",
              "      <td>0.032292</td>\n",
              "      <td>0.157450</td>\n",
              "      <td>0.317222</td>\n",
              "      <td>0.004010</td>\n",
              "      <td>0.005276</td>\n",
              "      <td>0.036302</td>\n",
              "      <td>1.691009</td>\n",
              "      <td>2.116083</td>\n",
              "      <td>0.000422</td>\n",
              "      <td>0.002111</td>\n",
              "      <td>3.899958</td>\n",
              "      <td>0.0</td>\n",
              "      <td>0.004854</td>\n",
              "      <td>0.012030</td>\n",
              "      <td>0.028071</td>\n",
              "      <td>3.303081</td>\n",
              "      <td>0.020684</td>\n",
              "      <td>0.500000</td>\n",
              "    </tr>\n",
              "    <tr>\n",
              "      <th>std</th>\n",
              "      <td>0.542077</td>\n",
              "      <td>0.995086</td>\n",
              "      <td>0.115589</td>\n",
              "      <td>0.341831</td>\n",
              "      <td>0.138735</td>\n",
              "      <td>0.104197</td>\n",
              "      <td>0.176793</td>\n",
              "      <td>0.364263</td>\n",
              "      <td>1.207623</td>\n",
              "      <td>0.063205</td>\n",
              "      <td>0.072455</td>\n",
              "      <td>0.187061</td>\n",
              "      <td>0.511559</td>\n",
              "      <td>1.343178</td>\n",
              "      <td>0.020543</td>\n",
              "      <td>0.045898</td>\n",
              "      <td>3.488350</td>\n",
              "      <td>0.0</td>\n",
              "      <td>0.069511</td>\n",
              "      <td>0.109033</td>\n",
              "      <td>0.165193</td>\n",
              "      <td>0.519572</td>\n",
              "      <td>0.142339</td>\n",
              "      <td>0.500053</td>\n",
              "    </tr>\n",
              "    <tr>\n",
              "      <th>min</th>\n",
              "      <td>1.000000</td>\n",
              "      <td>1.000000</td>\n",
              "      <td>1.000000</td>\n",
              "      <td>1.000000</td>\n",
              "      <td>1.000000</td>\n",
              "      <td>0.000000</td>\n",
              "      <td>0.000000</td>\n",
              "      <td>0.000000</td>\n",
              "      <td>0.000000</td>\n",
              "      <td>0.000000</td>\n",
              "      <td>0.000000</td>\n",
              "      <td>0.000000</td>\n",
              "      <td>0.000000</td>\n",
              "      <td>0.000000</td>\n",
              "      <td>0.000000</td>\n",
              "      <td>0.000000</td>\n",
              "      <td>0.000000</td>\n",
              "      <td>0.0</td>\n",
              "      <td>0.000000</td>\n",
              "      <td>0.000000</td>\n",
              "      <td>0.000000</td>\n",
              "      <td>2.000000</td>\n",
              "      <td>0.000000</td>\n",
              "      <td>0.000000</td>\n",
              "    </tr>\n",
              "    <tr>\n",
              "      <th>25%</th>\n",
              "      <td>2.000000</td>\n",
              "      <td>2.000000</td>\n",
              "      <td>2.000000</td>\n",
              "      <td>2.000000</td>\n",
              "      <td>2.000000</td>\n",
              "      <td>0.000000</td>\n",
              "      <td>0.000000</td>\n",
              "      <td>0.000000</td>\n",
              "      <td>0.000000</td>\n",
              "      <td>0.000000</td>\n",
              "      <td>0.000000</td>\n",
              "      <td>0.000000</td>\n",
              "      <td>1.000000</td>\n",
              "      <td>0.000000</td>\n",
              "      <td>0.000000</td>\n",
              "      <td>0.000000</td>\n",
              "      <td>0.000000</td>\n",
              "      <td>0.0</td>\n",
              "      <td>0.000000</td>\n",
              "      <td>0.000000</td>\n",
              "      <td>0.000000</td>\n",
              "      <td>3.000000</td>\n",
              "      <td>0.000000</td>\n",
              "      <td>0.000000</td>\n",
              "    </tr>\n",
              "    <tr>\n",
              "      <th>50%</th>\n",
              "      <td>2.000000</td>\n",
              "      <td>2.000000</td>\n",
              "      <td>2.000000</td>\n",
              "      <td>2.000000</td>\n",
              "      <td>2.000000</td>\n",
              "      <td>0.000000</td>\n",
              "      <td>0.000000</td>\n",
              "      <td>0.000000</td>\n",
              "      <td>0.000000</td>\n",
              "      <td>0.000000</td>\n",
              "      <td>0.000000</td>\n",
              "      <td>0.000000</td>\n",
              "      <td>2.000000</td>\n",
              "      <td>3.000000</td>\n",
              "      <td>0.000000</td>\n",
              "      <td>0.000000</td>\n",
              "      <td>4.000000</td>\n",
              "      <td>0.0</td>\n",
              "      <td>0.000000</td>\n",
              "      <td>0.000000</td>\n",
              "      <td>0.000000</td>\n",
              "      <td>3.000000</td>\n",
              "      <td>0.000000</td>\n",
              "      <td>0.500000</td>\n",
              "    </tr>\n",
              "    <tr>\n",
              "      <th>75%</th>\n",
              "      <td>2.000000</td>\n",
              "      <td>2.000000</td>\n",
              "      <td>2.000000</td>\n",
              "      <td>2.000000</td>\n",
              "      <td>2.000000</td>\n",
              "      <td>0.000000</td>\n",
              "      <td>0.000000</td>\n",
              "      <td>0.000000</td>\n",
              "      <td>0.000000</td>\n",
              "      <td>0.000000</td>\n",
              "      <td>0.000000</td>\n",
              "      <td>0.000000</td>\n",
              "      <td>2.000000</td>\n",
              "      <td>3.000000</td>\n",
              "      <td>0.000000</td>\n",
              "      <td>0.000000</td>\n",
              "      <td>7.000000</td>\n",
              "      <td>0.0</td>\n",
              "      <td>0.000000</td>\n",
              "      <td>0.000000</td>\n",
              "      <td>0.000000</td>\n",
              "      <td>4.000000</td>\n",
              "      <td>0.000000</td>\n",
              "      <td>1.000000</td>\n",
              "    </tr>\n",
              "    <tr>\n",
              "      <th>max</th>\n",
              "      <td>5.000000</td>\n",
              "      <td>5.000000</td>\n",
              "      <td>3.000000</td>\n",
              "      <td>3.000000</td>\n",
              "      <td>2.000000</td>\n",
              "      <td>1.000000</td>\n",
              "      <td>1.000000</td>\n",
              "      <td>1.000000</td>\n",
              "      <td>6.000000</td>\n",
              "      <td>1.000000</td>\n",
              "      <td>1.000000</td>\n",
              "      <td>1.000000</td>\n",
              "      <td>2.000000</td>\n",
              "      <td>3.000000</td>\n",
              "      <td>1.000000</td>\n",
              "      <td>1.000000</td>\n",
              "      <td>10.000000</td>\n",
              "      <td>0.0</td>\n",
              "      <td>1.000000</td>\n",
              "      <td>1.000000</td>\n",
              "      <td>1.000000</td>\n",
              "      <td>5.000000</td>\n",
              "      <td>1.000000</td>\n",
              "      <td>1.000000</td>\n",
              "    </tr>\n",
              "  </tbody>\n",
              "</table>\n",
              "</div>"
            ],
            "text/plain": [
              "             T_num       PA_num  ...  oncologia_UPA  Interna_num\n",
              "count  4738.000000  4738.000000  ...    4738.000000  4738.000000\n",
              "mean      2.093077     2.445758  ...       0.020684     0.500000\n",
              "std       0.542077     0.995086  ...       0.142339     0.500053\n",
              "min       1.000000     1.000000  ...       0.000000     0.000000\n",
              "25%       2.000000     2.000000  ...       0.000000     0.000000\n",
              "50%       2.000000     2.000000  ...       0.000000     0.500000\n",
              "75%       2.000000     2.000000  ...       0.000000     1.000000\n",
              "max       5.000000     5.000000  ...       1.000000     1.000000\n",
              "\n",
              "[8 rows x 24 columns]"
            ]
          },
          "metadata": {
            "tags": []
          },
          "execution_count": 30
        }
      ]
    },
    {
      "cell_type": "code",
      "metadata": {
        "id": "K5d6mcpG2po7",
        "colab_type": "code",
        "colab": {}
      },
      "source": [
        "df_downsampled.drop('esi_level_1', axis = 1, inplace = True) # 'axis' = 0 (row) | axis = 1 (column)"
      ],
      "execution_count": 0,
      "outputs": []
    },
    {
      "cell_type": "code",
      "metadata": {
        "id": "JCSYvIwg2po-",
        "colab_type": "code",
        "colab": {},
        "outputId": "1ed6e2bf-1bc5-4498-ae04-1828cb2d0b69"
      },
      "source": [
        "df_downsampled.describe()"
      ],
      "execution_count": 0,
      "outputs": [
        {
          "output_type": "execute_result",
          "data": {
            "text/html": [
              "<div>\n",
              "<style scoped>\n",
              "    .dataframe tbody tr th:only-of-type {\n",
              "        vertical-align: middle;\n",
              "    }\n",
              "\n",
              "    .dataframe tbody tr th {\n",
              "        vertical-align: top;\n",
              "    }\n",
              "\n",
              "    .dataframe thead th {\n",
              "        text-align: right;\n",
              "    }\n",
              "</style>\n",
              "<table border=\"1\" class=\"dataframe\">\n",
              "  <thead>\n",
              "    <tr style=\"text-align: right;\">\n",
              "      <th></th>\n",
              "      <th>T_num</th>\n",
              "      <th>PA_num</th>\n",
              "      <th>FR_num</th>\n",
              "      <th>P_num</th>\n",
              "      <th>SpO2_num</th>\n",
              "      <th>insulina_dependente</th>\n",
              "      <th>pac_oncologico</th>\n",
              "      <th>int_p_queda</th>\n",
              "      <th>prec_tipo_UPA</th>\n",
              "      <th>prot_UPA_AVC</th>\n",
              "      <th>prot_UPA_IAM</th>\n",
              "      <th>prot_UPA_SEPSE</th>\n",
              "      <th>recursos_ESI</th>\n",
              "      <th>upa_avaliacao_dor</th>\n",
              "      <th>avaliacao_dor_PAINAD</th>\n",
              "      <th>cardiologia_UPA</th>\n",
              "      <th>escala_verbal_numerica</th>\n",
              "      <th>esi_level_2</th>\n",
              "      <th>hematologia_UPA</th>\n",
              "      <th>medico_externo_UPA</th>\n",
              "      <th>nivel_recomendado_ESI</th>\n",
              "      <th>oncologia_UPA</th>\n",
              "      <th>Interna_num</th>\n",
              "    </tr>\n",
              "  </thead>\n",
              "  <tbody>\n",
              "    <tr>\n",
              "      <th>count</th>\n",
              "      <td>4738.000000</td>\n",
              "      <td>4738.000000</td>\n",
              "      <td>4738.000000</td>\n",
              "      <td>4738.000000</td>\n",
              "      <td>4738.000000</td>\n",
              "      <td>4738.000000</td>\n",
              "      <td>4738.000000</td>\n",
              "      <td>4738.000000</td>\n",
              "      <td>4738.000000</td>\n",
              "      <td>4738.000000</td>\n",
              "      <td>4738.000000</td>\n",
              "      <td>4738.000000</td>\n",
              "      <td>4738.000000</td>\n",
              "      <td>4738.000000</td>\n",
              "      <td>4738.000000</td>\n",
              "      <td>4738.000000</td>\n",
              "      <td>4738.000000</td>\n",
              "      <td>4738.000000</td>\n",
              "      <td>4738.000000</td>\n",
              "      <td>4738.000000</td>\n",
              "      <td>4738.000000</td>\n",
              "      <td>4738.000000</td>\n",
              "      <td>4738.000000</td>\n",
              "    </tr>\n",
              "    <tr>\n",
              "      <th>mean</th>\n",
              "      <td>2.093077</td>\n",
              "      <td>2.445758</td>\n",
              "      <td>2.012241</td>\n",
              "      <td>2.127058</td>\n",
              "      <td>1.980371</td>\n",
              "      <td>0.010975</td>\n",
              "      <td>0.032292</td>\n",
              "      <td>0.157450</td>\n",
              "      <td>0.317222</td>\n",
              "      <td>0.004010</td>\n",
              "      <td>0.005276</td>\n",
              "      <td>0.036302</td>\n",
              "      <td>1.691009</td>\n",
              "      <td>2.116083</td>\n",
              "      <td>0.000422</td>\n",
              "      <td>0.002111</td>\n",
              "      <td>3.899958</td>\n",
              "      <td>0.004854</td>\n",
              "      <td>0.012030</td>\n",
              "      <td>0.028071</td>\n",
              "      <td>3.303081</td>\n",
              "      <td>0.020684</td>\n",
              "      <td>0.500000</td>\n",
              "    </tr>\n",
              "    <tr>\n",
              "      <th>std</th>\n",
              "      <td>0.542077</td>\n",
              "      <td>0.995086</td>\n",
              "      <td>0.115589</td>\n",
              "      <td>0.341831</td>\n",
              "      <td>0.138735</td>\n",
              "      <td>0.104197</td>\n",
              "      <td>0.176793</td>\n",
              "      <td>0.364263</td>\n",
              "      <td>1.207623</td>\n",
              "      <td>0.063205</td>\n",
              "      <td>0.072455</td>\n",
              "      <td>0.187061</td>\n",
              "      <td>0.511559</td>\n",
              "      <td>1.343178</td>\n",
              "      <td>0.020543</td>\n",
              "      <td>0.045898</td>\n",
              "      <td>3.488350</td>\n",
              "      <td>0.069511</td>\n",
              "      <td>0.109033</td>\n",
              "      <td>0.165193</td>\n",
              "      <td>0.519572</td>\n",
              "      <td>0.142339</td>\n",
              "      <td>0.500053</td>\n",
              "    </tr>\n",
              "    <tr>\n",
              "      <th>min</th>\n",
              "      <td>1.000000</td>\n",
              "      <td>1.000000</td>\n",
              "      <td>1.000000</td>\n",
              "      <td>1.000000</td>\n",
              "      <td>1.000000</td>\n",
              "      <td>0.000000</td>\n",
              "      <td>0.000000</td>\n",
              "      <td>0.000000</td>\n",
              "      <td>0.000000</td>\n",
              "      <td>0.000000</td>\n",
              "      <td>0.000000</td>\n",
              "      <td>0.000000</td>\n",
              "      <td>0.000000</td>\n",
              "      <td>0.000000</td>\n",
              "      <td>0.000000</td>\n",
              "      <td>0.000000</td>\n",
              "      <td>0.000000</td>\n",
              "      <td>0.000000</td>\n",
              "      <td>0.000000</td>\n",
              "      <td>0.000000</td>\n",
              "      <td>2.000000</td>\n",
              "      <td>0.000000</td>\n",
              "      <td>0.000000</td>\n",
              "    </tr>\n",
              "    <tr>\n",
              "      <th>25%</th>\n",
              "      <td>2.000000</td>\n",
              "      <td>2.000000</td>\n",
              "      <td>2.000000</td>\n",
              "      <td>2.000000</td>\n",
              "      <td>2.000000</td>\n",
              "      <td>0.000000</td>\n",
              "      <td>0.000000</td>\n",
              "      <td>0.000000</td>\n",
              "      <td>0.000000</td>\n",
              "      <td>0.000000</td>\n",
              "      <td>0.000000</td>\n",
              "      <td>0.000000</td>\n",
              "      <td>1.000000</td>\n",
              "      <td>0.000000</td>\n",
              "      <td>0.000000</td>\n",
              "      <td>0.000000</td>\n",
              "      <td>0.000000</td>\n",
              "      <td>0.000000</td>\n",
              "      <td>0.000000</td>\n",
              "      <td>0.000000</td>\n",
              "      <td>3.000000</td>\n",
              "      <td>0.000000</td>\n",
              "      <td>0.000000</td>\n",
              "    </tr>\n",
              "    <tr>\n",
              "      <th>50%</th>\n",
              "      <td>2.000000</td>\n",
              "      <td>2.000000</td>\n",
              "      <td>2.000000</td>\n",
              "      <td>2.000000</td>\n",
              "      <td>2.000000</td>\n",
              "      <td>0.000000</td>\n",
              "      <td>0.000000</td>\n",
              "      <td>0.000000</td>\n",
              "      <td>0.000000</td>\n",
              "      <td>0.000000</td>\n",
              "      <td>0.000000</td>\n",
              "      <td>0.000000</td>\n",
              "      <td>2.000000</td>\n",
              "      <td>3.000000</td>\n",
              "      <td>0.000000</td>\n",
              "      <td>0.000000</td>\n",
              "      <td>4.000000</td>\n",
              "      <td>0.000000</td>\n",
              "      <td>0.000000</td>\n",
              "      <td>0.000000</td>\n",
              "      <td>3.000000</td>\n",
              "      <td>0.000000</td>\n",
              "      <td>0.500000</td>\n",
              "    </tr>\n",
              "    <tr>\n",
              "      <th>75%</th>\n",
              "      <td>2.000000</td>\n",
              "      <td>2.000000</td>\n",
              "      <td>2.000000</td>\n",
              "      <td>2.000000</td>\n",
              "      <td>2.000000</td>\n",
              "      <td>0.000000</td>\n",
              "      <td>0.000000</td>\n",
              "      <td>0.000000</td>\n",
              "      <td>0.000000</td>\n",
              "      <td>0.000000</td>\n",
              "      <td>0.000000</td>\n",
              "      <td>0.000000</td>\n",
              "      <td>2.000000</td>\n",
              "      <td>3.000000</td>\n",
              "      <td>0.000000</td>\n",
              "      <td>0.000000</td>\n",
              "      <td>7.000000</td>\n",
              "      <td>0.000000</td>\n",
              "      <td>0.000000</td>\n",
              "      <td>0.000000</td>\n",
              "      <td>4.000000</td>\n",
              "      <td>0.000000</td>\n",
              "      <td>1.000000</td>\n",
              "    </tr>\n",
              "    <tr>\n",
              "      <th>max</th>\n",
              "      <td>5.000000</td>\n",
              "      <td>5.000000</td>\n",
              "      <td>3.000000</td>\n",
              "      <td>3.000000</td>\n",
              "      <td>2.000000</td>\n",
              "      <td>1.000000</td>\n",
              "      <td>1.000000</td>\n",
              "      <td>1.000000</td>\n",
              "      <td>6.000000</td>\n",
              "      <td>1.000000</td>\n",
              "      <td>1.000000</td>\n",
              "      <td>1.000000</td>\n",
              "      <td>2.000000</td>\n",
              "      <td>3.000000</td>\n",
              "      <td>1.000000</td>\n",
              "      <td>1.000000</td>\n",
              "      <td>10.000000</td>\n",
              "      <td>1.000000</td>\n",
              "      <td>1.000000</td>\n",
              "      <td>1.000000</td>\n",
              "      <td>5.000000</td>\n",
              "      <td>1.000000</td>\n",
              "      <td>1.000000</td>\n",
              "    </tr>\n",
              "  </tbody>\n",
              "</table>\n",
              "</div>"
            ],
            "text/plain": [
              "             T_num       PA_num  ...  oncologia_UPA  Interna_num\n",
              "count  4738.000000  4738.000000  ...    4738.000000  4738.000000\n",
              "mean      2.093077     2.445758  ...       0.020684     0.500000\n",
              "std       0.542077     0.995086  ...       0.142339     0.500053\n",
              "min       1.000000     1.000000  ...       0.000000     0.000000\n",
              "25%       2.000000     2.000000  ...       0.000000     0.000000\n",
              "50%       2.000000     2.000000  ...       0.000000     0.500000\n",
              "75%       2.000000     2.000000  ...       0.000000     1.000000\n",
              "max       5.000000     5.000000  ...       1.000000     1.000000\n",
              "\n",
              "[8 rows x 23 columns]"
            ]
          },
          "metadata": {
            "tags": []
          },
          "execution_count": 32
        }
      ]
    },
    {
      "cell_type": "code",
      "metadata": {
        "id": "XjP7lNnF2ppB",
        "colab_type": "code",
        "colab": {}
      },
      "source": [
        "dados = df_downsampled"
      ],
      "execution_count": 0,
      "outputs": []
    },
    {
      "cell_type": "code",
      "metadata": {
        "id": "EW_9GH1z2ppE",
        "colab_type": "code",
        "colab": {},
        "outputId": "ef36c8bc-a2b3-4b21-bec0-b3fa155b2eeb"
      },
      "source": [
        "df_downsampled.shape"
      ],
      "execution_count": 0,
      "outputs": [
        {
          "output_type": "execute_result",
          "data": {
            "text/plain": [
              "(4738, 23)"
            ]
          },
          "metadata": {
            "tags": []
          },
          "execution_count": 34
        }
      ]
    },
    {
      "cell_type": "code",
      "metadata": {
        "id": "zjk24vsj2ppI",
        "colab_type": "code",
        "colab": {},
        "outputId": "4a46359c-f3e6-4e89-caee-db54dc843d00"
      },
      "source": [
        "dados.shape"
      ],
      "execution_count": 0,
      "outputs": [
        {
          "output_type": "execute_result",
          "data": {
            "text/plain": [
              "(4738, 23)"
            ]
          },
          "metadata": {
            "tags": []
          },
          "execution_count": 35
        }
      ]
    },
    {
      "cell_type": "markdown",
      "metadata": {
        "id": "RD2rz9WJ2ppK",
        "colab_type": "text"
      },
      "source": [
        "A correlação é o relacionamento entre 2 variáveis. O método mais comum para calcular correlação é o método de Pearson. Correlação de -1 mostra uma correlação negativa, enquanto uma correlação de +1 mostra uma correlação positiva. Uma correlação igual a 0 mostra que não há relacionamento entre as variáveis.\n",
        "\n",
        "(!!!) Alguns algoritmos como Regressão Linear e Regressão Logística podem apresentar problemas de performance se houver atributos altamente correlacionados (colineares)"
      ]
    },
    {
      "cell_type": "code",
      "metadata": {
        "id": "JPjvE0X_2ppL",
        "colab_type": "code",
        "colab": {},
        "outputId": "5032c677-6a24-4ef7-ce42-fabd736d30d3"
      },
      "source": [
        "# Correlação de Pearson\n",
        "dados.corr(method = 'pearson')"
      ],
      "execution_count": 0,
      "outputs": [
        {
          "output_type": "execute_result",
          "data": {
            "text/html": [
              "<div>\n",
              "<style scoped>\n",
              "    .dataframe tbody tr th:only-of-type {\n",
              "        vertical-align: middle;\n",
              "    }\n",
              "\n",
              "    .dataframe tbody tr th {\n",
              "        vertical-align: top;\n",
              "    }\n",
              "\n",
              "    .dataframe thead th {\n",
              "        text-align: right;\n",
              "    }\n",
              "</style>\n",
              "<table border=\"1\" class=\"dataframe\">\n",
              "  <thead>\n",
              "    <tr style=\"text-align: right;\">\n",
              "      <th></th>\n",
              "      <th>T_num</th>\n",
              "      <th>PA_num</th>\n",
              "      <th>FR_num</th>\n",
              "      <th>P_num</th>\n",
              "      <th>SpO2_num</th>\n",
              "      <th>insulina_dependente</th>\n",
              "      <th>pac_oncologico</th>\n",
              "      <th>int_p_queda</th>\n",
              "      <th>prec_tipo_UPA</th>\n",
              "      <th>prot_UPA_AVC</th>\n",
              "      <th>prot_UPA_IAM</th>\n",
              "      <th>prot_UPA_SEPSE</th>\n",
              "      <th>recursos_ESI</th>\n",
              "      <th>upa_avaliacao_dor</th>\n",
              "      <th>avaliacao_dor_PAINAD</th>\n",
              "      <th>cardiologia_UPA</th>\n",
              "      <th>escala_verbal_numerica</th>\n",
              "      <th>esi_level_2</th>\n",
              "      <th>hematologia_UPA</th>\n",
              "      <th>medico_externo_UPA</th>\n",
              "      <th>nivel_recomendado_ESI</th>\n",
              "      <th>oncologia_UPA</th>\n",
              "      <th>Interna_num</th>\n",
              "    </tr>\n",
              "  </thead>\n",
              "  <tbody>\n",
              "    <tr>\n",
              "      <th>T_num</th>\n",
              "      <td>1.000000</td>\n",
              "      <td>-0.024882</td>\n",
              "      <td>0.032349</td>\n",
              "      <td>0.305286</td>\n",
              "      <td>-0.040264</td>\n",
              "      <td>-0.018090</td>\n",
              "      <td>-0.057803</td>\n",
              "      <td>-0.050714</td>\n",
              "      <td>0.070335</td>\n",
              "      <td>-0.023219</td>\n",
              "      <td>-0.023257</td>\n",
              "      <td>0.122811</td>\n",
              "      <td>0.007815</td>\n",
              "      <td>-0.005275</td>\n",
              "      <td>-0.003529</td>\n",
              "      <td>-0.007898</td>\n",
              "      <td>0.056503</td>\n",
              "      <td>0.016019</td>\n",
              "      <td>-0.047523</td>\n",
              "      <td>-0.022111</td>\n",
              "      <td>-0.007240</td>\n",
              "      <td>-0.063260</td>\n",
              "      <td>0.019859</td>\n",
              "    </tr>\n",
              "    <tr>\n",
              "      <th>PA_num</th>\n",
              "      <td>-0.024882</td>\n",
              "      <td>1.000000</td>\n",
              "      <td>0.058999</td>\n",
              "      <td>-0.036831</td>\n",
              "      <td>-0.048236</td>\n",
              "      <td>0.058679</td>\n",
              "      <td>0.022558</td>\n",
              "      <td>0.133640</td>\n",
              "      <td>0.025126</td>\n",
              "      <td>0.008494</td>\n",
              "      <td>-0.003349</td>\n",
              "      <td>0.040068</td>\n",
              "      <td>0.127559</td>\n",
              "      <td>0.003922</td>\n",
              "      <td>0.021774</td>\n",
              "      <td>0.002507</td>\n",
              "      <td>-0.043648</td>\n",
              "      <td>-0.000770</td>\n",
              "      <td>0.022554</td>\n",
              "      <td>0.056139</td>\n",
              "      <td>-0.125804</td>\n",
              "      <td>0.018356</td>\n",
              "      <td>0.137881</td>\n",
              "    </tr>\n",
              "    <tr>\n",
              "      <th>FR_num</th>\n",
              "      <td>0.032349</td>\n",
              "      <td>0.058999</td>\n",
              "      <td>1.000000</td>\n",
              "      <td>0.072826</td>\n",
              "      <td>-0.314119</td>\n",
              "      <td>0.076482</td>\n",
              "      <td>0.001313</td>\n",
              "      <td>0.129696</td>\n",
              "      <td>0.070477</td>\n",
              "      <td>0.022175</td>\n",
              "      <td>-0.007714</td>\n",
              "      <td>0.272343</td>\n",
              "      <td>0.063982</td>\n",
              "      <td>0.005802</td>\n",
              "      <td>-0.002177</td>\n",
              "      <td>-0.004871</td>\n",
              "      <td>-0.077589</td>\n",
              "      <td>0.018876</td>\n",
              "      <td>-0.011688</td>\n",
              "      <td>-0.018000</td>\n",
              "      <td>-0.061791</td>\n",
              "      <td>-0.028224</td>\n",
              "      <td>0.087655</td>\n",
              "    </tr>\n",
              "    <tr>\n",
              "      <th>P_num</th>\n",
              "      <td>0.305286</td>\n",
              "      <td>-0.036831</td>\n",
              "      <td>0.072826</td>\n",
              "      <td>1.000000</td>\n",
              "      <td>-0.076492</td>\n",
              "      <td>-0.015452</td>\n",
              "      <td>0.033395</td>\n",
              "      <td>0.002060</td>\n",
              "      <td>0.069054</td>\n",
              "      <td>-0.013817</td>\n",
              "      <td>-0.001504</td>\n",
              "      <td>0.135841</td>\n",
              "      <td>0.062791</td>\n",
              "      <td>-0.022475</td>\n",
              "      <td>-0.007639</td>\n",
              "      <td>0.009815</td>\n",
              "      <td>0.012964</td>\n",
              "      <td>0.009574</td>\n",
              "      <td>0.021284</td>\n",
              "      <td>0.000379</td>\n",
              "      <td>-0.064726</td>\n",
              "      <td>-0.001960</td>\n",
              "      <td>0.050635</td>\n",
              "    </tr>\n",
              "    <tr>\n",
              "      <th>SpO2_num</th>\n",
              "      <td>-0.040264</td>\n",
              "      <td>-0.048236</td>\n",
              "      <td>-0.314119</td>\n",
              "      <td>-0.076492</td>\n",
              "      <td>1.000000</td>\n",
              "      <td>-0.101923</td>\n",
              "      <td>-0.025793</td>\n",
              "      <td>-0.172761</td>\n",
              "      <td>-0.025828</td>\n",
              "      <td>-0.015096</td>\n",
              "      <td>0.010306</td>\n",
              "      <td>-0.452470</td>\n",
              "      <td>-0.079527</td>\n",
              "      <td>-0.008161</td>\n",
              "      <td>-0.145231</td>\n",
              "      <td>0.006507</td>\n",
              "      <td>0.077948</td>\n",
              "      <td>-0.012008</td>\n",
              "      <td>-0.012297</td>\n",
              "      <td>-0.003587</td>\n",
              "      <td>0.079620</td>\n",
              "      <td>-0.043578</td>\n",
              "      <td>-0.132369</td>\n",
              "    </tr>\n",
              "    <tr>\n",
              "      <th>insulina_dependente</th>\n",
              "      <td>-0.018090</td>\n",
              "      <td>0.058679</td>\n",
              "      <td>0.076482</td>\n",
              "      <td>-0.015452</td>\n",
              "      <td>-0.101923</td>\n",
              "      <td>1.000000</td>\n",
              "      <td>0.083895</td>\n",
              "      <td>0.099073</td>\n",
              "      <td>0.005879</td>\n",
              "      <td>-0.006684</td>\n",
              "      <td>0.020290</td>\n",
              "      <td>0.055370</td>\n",
              "      <td>0.047793</td>\n",
              "      <td>0.002962</td>\n",
              "      <td>-0.002165</td>\n",
              "      <td>-0.004845</td>\n",
              "      <td>-0.057962</td>\n",
              "      <td>0.050936</td>\n",
              "      <td>0.025539</td>\n",
              "      <td>0.006627</td>\n",
              "      <td>-0.049757</td>\n",
              "      <td>0.084327</td>\n",
              "      <td>0.048619</td>\n",
              "    </tr>\n",
              "    <tr>\n",
              "      <th>pac_oncologico</th>\n",
              "      <td>-0.057803</td>\n",
              "      <td>0.022558</td>\n",
              "      <td>0.001313</td>\n",
              "      <td>0.033395</td>\n",
              "      <td>-0.025793</td>\n",
              "      <td>0.083895</td>\n",
              "      <td>1.000000</td>\n",
              "      <td>0.199666</td>\n",
              "      <td>0.013314</td>\n",
              "      <td>0.007301</td>\n",
              "      <td>0.003176</td>\n",
              "      <td>0.130512</td>\n",
              "      <td>0.089342</td>\n",
              "      <td>-0.052238</td>\n",
              "      <td>-0.003754</td>\n",
              "      <td>0.017615</td>\n",
              "      <td>-0.103613</td>\n",
              "      <td>0.038776</td>\n",
              "      <td>0.363144</td>\n",
              "      <td>0.041239</td>\n",
              "      <td>-0.090483</td>\n",
              "      <td>0.518734</td>\n",
              "      <td>0.146855</td>\n",
              "    </tr>\n",
              "    <tr>\n",
              "      <th>int_p_queda</th>\n",
              "      <td>-0.050714</td>\n",
              "      <td>0.133640</td>\n",
              "      <td>0.129696</td>\n",
              "      <td>0.002060</td>\n",
              "      <td>-0.172761</td>\n",
              "      <td>0.099073</td>\n",
              "      <td>0.199666</td>\n",
              "      <td>1.000000</td>\n",
              "      <td>0.006888</td>\n",
              "      <td>0.082600</td>\n",
              "      <td>-0.007489</td>\n",
              "      <td>0.188733</td>\n",
              "      <td>0.192032</td>\n",
              "      <td>-0.012339</td>\n",
              "      <td>0.047537</td>\n",
              "      <td>0.030626</td>\n",
              "      <td>-0.168024</td>\n",
              "      <td>0.036506</td>\n",
              "      <td>0.143646</td>\n",
              "      <td>0.045814</td>\n",
              "      <td>-0.191961</td>\n",
              "      <td>0.201826</td>\n",
              "      <td>0.270036</td>\n",
              "    </tr>\n",
              "    <tr>\n",
              "      <th>prec_tipo_UPA</th>\n",
              "      <td>0.070335</td>\n",
              "      <td>0.025126</td>\n",
              "      <td>0.070477</td>\n",
              "      <td>0.069054</td>\n",
              "      <td>-0.025828</td>\n",
              "      <td>0.005879</td>\n",
              "      <td>0.013314</td>\n",
              "      <td>0.006888</td>\n",
              "      <td>1.000000</td>\n",
              "      <td>-0.016670</td>\n",
              "      <td>-0.007070</td>\n",
              "      <td>0.083580</td>\n",
              "      <td>-0.045991</td>\n",
              "      <td>-0.114070</td>\n",
              "      <td>-0.005399</td>\n",
              "      <td>-0.012082</td>\n",
              "      <td>-0.042627</td>\n",
              "      <td>0.031948</td>\n",
              "      <td>0.004679</td>\n",
              "      <td>0.005089</td>\n",
              "      <td>0.038176</td>\n",
              "      <td>-0.001336</td>\n",
              "      <td>-0.008565</td>\n",
              "    </tr>\n",
              "    <tr>\n",
              "      <th>prot_UPA_AVC</th>\n",
              "      <td>-0.023219</td>\n",
              "      <td>0.008494</td>\n",
              "      <td>0.022175</td>\n",
              "      <td>-0.013817</td>\n",
              "      <td>-0.015096</td>\n",
              "      <td>-0.006684</td>\n",
              "      <td>0.007301</td>\n",
              "      <td>0.082600</td>\n",
              "      <td>-0.016670</td>\n",
              "      <td>1.000000</td>\n",
              "      <td>0.041476</td>\n",
              "      <td>-0.012315</td>\n",
              "      <td>0.038331</td>\n",
              "      <td>-0.000511</td>\n",
              "      <td>-0.001304</td>\n",
              "      <td>-0.002918</td>\n",
              "      <td>-0.041266</td>\n",
              "      <td>-0.004432</td>\n",
              "      <td>-0.007002</td>\n",
              "      <td>0.009435</td>\n",
              "      <td>-0.037018</td>\n",
              "      <td>-0.009222</td>\n",
              "      <td>0.016698</td>\n",
              "    </tr>\n",
              "    <tr>\n",
              "      <th>prot_UPA_IAM</th>\n",
              "      <td>-0.023257</td>\n",
              "      <td>-0.003349</td>\n",
              "      <td>-0.007714</td>\n",
              "      <td>-0.001504</td>\n",
              "      <td>0.010306</td>\n",
              "      <td>0.020290</td>\n",
              "      <td>0.003176</td>\n",
              "      <td>-0.007489</td>\n",
              "      <td>-0.007070</td>\n",
              "      <td>0.041476</td>\n",
              "      <td>1.000000</td>\n",
              "      <td>-0.014136</td>\n",
              "      <td>0.038301</td>\n",
              "      <td>-0.019310</td>\n",
              "      <td>-0.001497</td>\n",
              "      <td>0.187091</td>\n",
              "      <td>-0.001252</td>\n",
              "      <td>0.036828</td>\n",
              "      <td>-0.008037</td>\n",
              "      <td>-0.012377</td>\n",
              "      <td>-0.064920</td>\n",
              "      <td>0.009885</td>\n",
              "      <td>0.032046</td>\n",
              "    </tr>\n",
              "    <tr>\n",
              "      <th>prot_UPA_SEPSE</th>\n",
              "      <td>0.122811</td>\n",
              "      <td>0.040068</td>\n",
              "      <td>0.272343</td>\n",
              "      <td>0.135841</td>\n",
              "      <td>-0.452470</td>\n",
              "      <td>0.055370</td>\n",
              "      <td>0.130512</td>\n",
              "      <td>0.188733</td>\n",
              "      <td>0.083580</td>\n",
              "      <td>-0.012315</td>\n",
              "      <td>-0.014136</td>\n",
              "      <td>1.000000</td>\n",
              "      <td>0.106214</td>\n",
              "      <td>-0.006693</td>\n",
              "      <td>-0.003988</td>\n",
              "      <td>-0.008926</td>\n",
              "      <td>-0.106369</td>\n",
              "      <td>0.051385</td>\n",
              "      <td>0.071736</td>\n",
              "      <td>-0.005658</td>\n",
              "      <td>-0.111057</td>\n",
              "      <td>0.027293</td>\n",
              "      <td>0.173775</td>\n",
              "    </tr>\n",
              "    <tr>\n",
              "      <th>recursos_ESI</th>\n",
              "      <td>0.007815</td>\n",
              "      <td>0.127559</td>\n",
              "      <td>0.063982</td>\n",
              "      <td>0.062791</td>\n",
              "      <td>-0.079527</td>\n",
              "      <td>0.047793</td>\n",
              "      <td>0.089342</td>\n",
              "      <td>0.192032</td>\n",
              "      <td>-0.045991</td>\n",
              "      <td>0.038331</td>\n",
              "      <td>0.038301</td>\n",
              "      <td>0.106214</td>\n",
              "      <td>1.000000</td>\n",
              "      <td>0.041460</td>\n",
              "      <td>0.012414</td>\n",
              "      <td>0.027782</td>\n",
              "      <td>0.034607</td>\n",
              "      <td>0.036254</td>\n",
              "      <td>0.047736</td>\n",
              "      <td>0.092669</td>\n",
              "      <td>-0.982713</td>\n",
              "      <td>0.055900</td>\n",
              "      <td>0.448110</td>\n",
              "    </tr>\n",
              "    <tr>\n",
              "      <th>upa_avaliacao_dor</th>\n",
              "      <td>-0.005275</td>\n",
              "      <td>0.003922</td>\n",
              "      <td>0.005802</td>\n",
              "      <td>-0.022475</td>\n",
              "      <td>-0.008161</td>\n",
              "      <td>0.002962</td>\n",
              "      <td>-0.052238</td>\n",
              "      <td>-0.012339</td>\n",
              "      <td>-0.114070</td>\n",
              "      <td>-0.000511</td>\n",
              "      <td>-0.019310</td>\n",
              "      <td>-0.006693</td>\n",
              "      <td>0.041460</td>\n",
              "      <td>1.000000</td>\n",
              "      <td>0.013525</td>\n",
              "      <td>-0.010824</td>\n",
              "      <td>0.034558</td>\n",
              "      <td>-0.001515</td>\n",
              "      <td>-0.034043</td>\n",
              "      <td>-0.013738</td>\n",
              "      <td>-0.044374</td>\n",
              "      <td>-0.029124</td>\n",
              "      <td>0.042745</td>\n",
              "    </tr>\n",
              "    <tr>\n",
              "      <th>avaliacao_dor_PAINAD</th>\n",
              "      <td>-0.003529</td>\n",
              "      <td>0.021774</td>\n",
              "      <td>-0.002177</td>\n",
              "      <td>-0.007639</td>\n",
              "      <td>-0.145231</td>\n",
              "      <td>-0.002165</td>\n",
              "      <td>-0.003754</td>\n",
              "      <td>0.047537</td>\n",
              "      <td>-0.005399</td>\n",
              "      <td>-0.001304</td>\n",
              "      <td>-0.001497</td>\n",
              "      <td>-0.003988</td>\n",
              "      <td>0.012414</td>\n",
              "      <td>0.013525</td>\n",
              "      <td>1.000000</td>\n",
              "      <td>-0.000945</td>\n",
              "      <td>-0.005302</td>\n",
              "      <td>-0.001435</td>\n",
              "      <td>-0.002268</td>\n",
              "      <td>-0.003492</td>\n",
              "      <td>-0.011989</td>\n",
              "      <td>-0.002987</td>\n",
              "      <td>0.020550</td>\n",
              "    </tr>\n",
              "    <tr>\n",
              "      <th>cardiologia_UPA</th>\n",
              "      <td>-0.007898</td>\n",
              "      <td>0.002507</td>\n",
              "      <td>-0.004871</td>\n",
              "      <td>0.009815</td>\n",
              "      <td>0.006507</td>\n",
              "      <td>-0.004845</td>\n",
              "      <td>0.017615</td>\n",
              "      <td>0.030626</td>\n",
              "      <td>-0.012082</td>\n",
              "      <td>-0.002918</td>\n",
              "      <td>0.187091</td>\n",
              "      <td>-0.008926</td>\n",
              "      <td>0.027782</td>\n",
              "      <td>-0.010824</td>\n",
              "      <td>-0.000945</td>\n",
              "      <td>1.000000</td>\n",
              "      <td>-0.026370</td>\n",
              "      <td>-0.003212</td>\n",
              "      <td>-0.005075</td>\n",
              "      <td>-0.007816</td>\n",
              "      <td>-0.035682</td>\n",
              "      <td>-0.006684</td>\n",
              "      <td>0.045990</td>\n",
              "    </tr>\n",
              "    <tr>\n",
              "      <th>escala_verbal_numerica</th>\n",
              "      <td>0.056503</td>\n",
              "      <td>-0.043648</td>\n",
              "      <td>-0.077589</td>\n",
              "      <td>0.012964</td>\n",
              "      <td>0.077948</td>\n",
              "      <td>-0.057962</td>\n",
              "      <td>-0.103613</td>\n",
              "      <td>-0.168024</td>\n",
              "      <td>-0.042627</td>\n",
              "      <td>-0.041266</td>\n",
              "      <td>-0.001252</td>\n",
              "      <td>-0.106369</td>\n",
              "      <td>0.034607</td>\n",
              "      <td>0.034558</td>\n",
              "      <td>-0.005302</td>\n",
              "      <td>-0.026370</td>\n",
              "      <td>1.000000</td>\n",
              "      <td>-0.027597</td>\n",
              "      <td>-0.070099</td>\n",
              "      <td>-0.096236</td>\n",
              "      <td>-0.030905</td>\n",
              "      <td>-0.098296</td>\n",
              "      <td>-0.040300</td>\n",
              "    </tr>\n",
              "    <tr>\n",
              "      <th>esi_level_2</th>\n",
              "      <td>0.016019</td>\n",
              "      <td>-0.000770</td>\n",
              "      <td>0.018876</td>\n",
              "      <td>0.009574</td>\n",
              "      <td>-0.012008</td>\n",
              "      <td>0.050936</td>\n",
              "      <td>0.038776</td>\n",
              "      <td>0.036506</td>\n",
              "      <td>0.031948</td>\n",
              "      <td>-0.004432</td>\n",
              "      <td>0.036828</td>\n",
              "      <td>0.051385</td>\n",
              "      <td>0.036254</td>\n",
              "      <td>-0.001515</td>\n",
              "      <td>-0.001435</td>\n",
              "      <td>-0.003212</td>\n",
              "      <td>-0.027597</td>\n",
              "      <td>1.000000</td>\n",
              "      <td>-0.007707</td>\n",
              "      <td>0.080052</td>\n",
              "      <td>-0.105042</td>\n",
              "      <td>0.032522</td>\n",
              "      <td>0.063770</td>\n",
              "    </tr>\n",
              "    <tr>\n",
              "      <th>hematologia_UPA</th>\n",
              "      <td>-0.047523</td>\n",
              "      <td>0.022554</td>\n",
              "      <td>-0.011688</td>\n",
              "      <td>0.021284</td>\n",
              "      <td>-0.012297</td>\n",
              "      <td>0.025539</td>\n",
              "      <td>0.363144</td>\n",
              "      <td>0.143646</td>\n",
              "      <td>0.004679</td>\n",
              "      <td>-0.007002</td>\n",
              "      <td>-0.008037</td>\n",
              "      <td>0.071736</td>\n",
              "      <td>0.047736</td>\n",
              "      <td>-0.034043</td>\n",
              "      <td>-0.002268</td>\n",
              "      <td>-0.005075</td>\n",
              "      <td>-0.070099</td>\n",
              "      <td>-0.007707</td>\n",
              "      <td>1.000000</td>\n",
              "      <td>-0.018753</td>\n",
              "      <td>-0.045744</td>\n",
              "      <td>0.051975</td>\n",
              "      <td>0.090989</td>\n",
              "    </tr>\n",
              "    <tr>\n",
              "      <th>medico_externo_UPA</th>\n",
              "      <td>-0.022111</td>\n",
              "      <td>0.056139</td>\n",
              "      <td>-0.018000</td>\n",
              "      <td>0.000379</td>\n",
              "      <td>-0.003587</td>\n",
              "      <td>0.006627</td>\n",
              "      <td>0.041239</td>\n",
              "      <td>0.045814</td>\n",
              "      <td>0.005089</td>\n",
              "      <td>0.009435</td>\n",
              "      <td>-0.012377</td>\n",
              "      <td>-0.005658</td>\n",
              "      <td>0.092669</td>\n",
              "      <td>-0.013738</td>\n",
              "      <td>-0.003492</td>\n",
              "      <td>-0.007816</td>\n",
              "      <td>-0.096236</td>\n",
              "      <td>0.080052</td>\n",
              "      <td>-0.018753</td>\n",
              "      <td>1.000000</td>\n",
              "      <td>-0.094226</td>\n",
              "      <td>-0.006742</td>\n",
              "      <td>0.146946</td>\n",
              "    </tr>\n",
              "    <tr>\n",
              "      <th>nivel_recomendado_ESI</th>\n",
              "      <td>-0.007240</td>\n",
              "      <td>-0.125804</td>\n",
              "      <td>-0.061791</td>\n",
              "      <td>-0.064726</td>\n",
              "      <td>0.079620</td>\n",
              "      <td>-0.049757</td>\n",
              "      <td>-0.090483</td>\n",
              "      <td>-0.191961</td>\n",
              "      <td>0.038176</td>\n",
              "      <td>-0.037018</td>\n",
              "      <td>-0.064920</td>\n",
              "      <td>-0.111057</td>\n",
              "      <td>-0.982713</td>\n",
              "      <td>-0.044374</td>\n",
              "      <td>-0.011989</td>\n",
              "      <td>-0.035682</td>\n",
              "      <td>-0.030905</td>\n",
              "      <td>-0.105042</td>\n",
              "      <td>-0.045744</td>\n",
              "      <td>-0.094226</td>\n",
              "      <td>1.000000</td>\n",
              "      <td>-0.056239</td>\n",
              "      <td>-0.449325</td>\n",
              "    </tr>\n",
              "    <tr>\n",
              "      <th>oncologia_UPA</th>\n",
              "      <td>-0.063260</td>\n",
              "      <td>0.018356</td>\n",
              "      <td>-0.028224</td>\n",
              "      <td>-0.001960</td>\n",
              "      <td>-0.043578</td>\n",
              "      <td>0.084327</td>\n",
              "      <td>0.518734</td>\n",
              "      <td>0.201826</td>\n",
              "      <td>-0.001336</td>\n",
              "      <td>-0.009222</td>\n",
              "      <td>0.009885</td>\n",
              "      <td>0.027293</td>\n",
              "      <td>0.055900</td>\n",
              "      <td>-0.029124</td>\n",
              "      <td>-0.002987</td>\n",
              "      <td>-0.006684</td>\n",
              "      <td>-0.098296</td>\n",
              "      <td>0.032522</td>\n",
              "      <td>0.051975</td>\n",
              "      <td>-0.006742</td>\n",
              "      <td>-0.056239</td>\n",
              "      <td>1.000000</td>\n",
              "      <td>0.124568</td>\n",
              "    </tr>\n",
              "    <tr>\n",
              "      <th>Interna_num</th>\n",
              "      <td>0.019859</td>\n",
              "      <td>0.137881</td>\n",
              "      <td>0.087655</td>\n",
              "      <td>0.050635</td>\n",
              "      <td>-0.132369</td>\n",
              "      <td>0.048619</td>\n",
              "      <td>0.146855</td>\n",
              "      <td>0.270036</td>\n",
              "      <td>-0.008565</td>\n",
              "      <td>0.016698</td>\n",
              "      <td>0.032046</td>\n",
              "      <td>0.173775</td>\n",
              "      <td>0.448110</td>\n",
              "      <td>0.042745</td>\n",
              "      <td>0.020550</td>\n",
              "      <td>0.045990</td>\n",
              "      <td>-0.040300</td>\n",
              "      <td>0.063770</td>\n",
              "      <td>0.090989</td>\n",
              "      <td>0.146946</td>\n",
              "      <td>-0.449325</td>\n",
              "      <td>0.124568</td>\n",
              "      <td>1.000000</td>\n",
              "    </tr>\n",
              "  </tbody>\n",
              "</table>\n",
              "</div>"
            ],
            "text/plain": [
              "                           T_num    PA_num  ...  oncologia_UPA  Interna_num\n",
              "T_num                   1.000000 -0.024882  ...      -0.063260     0.019859\n",
              "PA_num                 -0.024882  1.000000  ...       0.018356     0.137881\n",
              "FR_num                  0.032349  0.058999  ...      -0.028224     0.087655\n",
              "P_num                   0.305286 -0.036831  ...      -0.001960     0.050635\n",
              "SpO2_num               -0.040264 -0.048236  ...      -0.043578    -0.132369\n",
              "insulina_dependente    -0.018090  0.058679  ...       0.084327     0.048619\n",
              "pac_oncologico         -0.057803  0.022558  ...       0.518734     0.146855\n",
              "int_p_queda            -0.050714  0.133640  ...       0.201826     0.270036\n",
              "prec_tipo_UPA           0.070335  0.025126  ...      -0.001336    -0.008565\n",
              "prot_UPA_AVC           -0.023219  0.008494  ...      -0.009222     0.016698\n",
              "prot_UPA_IAM           -0.023257 -0.003349  ...       0.009885     0.032046\n",
              "prot_UPA_SEPSE          0.122811  0.040068  ...       0.027293     0.173775\n",
              "recursos_ESI            0.007815  0.127559  ...       0.055900     0.448110\n",
              "upa_avaliacao_dor      -0.005275  0.003922  ...      -0.029124     0.042745\n",
              "avaliacao_dor_PAINAD   -0.003529  0.021774  ...      -0.002987     0.020550\n",
              "cardiologia_UPA        -0.007898  0.002507  ...      -0.006684     0.045990\n",
              "escala_verbal_numerica  0.056503 -0.043648  ...      -0.098296    -0.040300\n",
              "esi_level_2             0.016019 -0.000770  ...       0.032522     0.063770\n",
              "hematologia_UPA        -0.047523  0.022554  ...       0.051975     0.090989\n",
              "medico_externo_UPA     -0.022111  0.056139  ...      -0.006742     0.146946\n",
              "nivel_recomendado_ESI  -0.007240 -0.125804  ...      -0.056239    -0.449325\n",
              "oncologia_UPA          -0.063260  0.018356  ...       1.000000     0.124568\n",
              "Interna_num             0.019859  0.137881  ...       0.124568     1.000000\n",
              "\n",
              "[23 rows x 23 columns]"
            ]
          },
          "metadata": {
            "tags": []
          },
          "execution_count": 36
        }
      ]
    },
    {
      "cell_type": "markdown",
      "metadata": {
        "id": "LcCJXQzm2ppO",
        "colab_type": "text"
      },
      "source": [
        "#### Visualização com Matplotlib"
      ]
    },
    {
      "cell_type": "code",
      "metadata": {
        "id": "aASooSkM2ppP",
        "colab_type": "code",
        "colab": {}
      },
      "source": [
        "import matplotlib.pyplot as plt\n",
        "\n",
        "# %matplotlib inline # Gráficos em janela separada"
      ],
      "execution_count": 0,
      "outputs": []
    },
    {
      "cell_type": "code",
      "metadata": {
        "id": "BAkIi7pq2ppR",
        "colab_type": "code",
        "colab": {},
        "outputId": "a92a4c8e-66cd-4565-97d4-498f66d73040"
      },
      "source": [
        "# Matriz de Correlação (- nome das variáveis)\n",
        "correlations = dados.corr()\n",
        "\n",
        "# Plot\n",
        "fig = plt.figure()\n",
        "ax = fig.add_subplot(111)\n",
        "cax = ax.matshow(correlations, vmin = -1, vmax = 1)\n",
        "fig.colorbar(cax)\n",
        "plt.show()"
      ],
      "execution_count": 0,
      "outputs": [
        {
          "output_type": "display_data",
          "data": {
            "image/png": "[encoded data removed]",
            "text/plain": [
              "<Figure size 432x288 with 2 Axes>"
            ]
          },
          "metadata": {
            "tags": [],
            "needs_background": "light"
          }
        }
      ]
    },
    {
      "cell_type": "code",
      "metadata": {
        "id": "FFfZ0Kbf2ppU",
        "colab_type": "code",
        "colab": {},
        "outputId": "ddad1379-f4a1-4c08-8a46-6a744cb6f316"
      },
      "source": [
        "dados.columns"
      ],
      "execution_count": 0,
      "outputs": [
        {
          "output_type": "execute_result",
          "data": {
            "text/plain": [
              "Index(['T_num', 'PA_num', 'FR_num', 'P_num', 'SpO2_num', 'insulina_dependente',\n",
              "       'pac_oncologico', 'int_p_queda', 'prec_tipo_UPA', 'prot_UPA_AVC',\n",
              "       'prot_UPA_IAM', 'prot_UPA_SEPSE', 'recursos_ESI', 'upa_avaliacao_dor',\n",
              "       'avaliacao_dor_PAINAD', 'cardiologia_UPA', 'escala_verbal_numerica',\n",
              "       'esi_level_2', 'hematologia_UPA', 'medico_externo_UPA',\n",
              "       'nivel_recomendado_ESI', 'oncologia_UPA', 'Interna_num'],\n",
              "      dtype='object')"
            ]
          },
          "metadata": {
            "tags": []
          },
          "execution_count": 39
        }
      ]
    },
    {
      "cell_type": "code",
      "metadata": {
        "id": "YnOytf0b2ppW",
        "colab_type": "code",
        "colab": {}
      },
      "source": [
        "colunas = ['T_num', 'PA_num', 'FR_num', 'P_num', 'SpO2_num', 'insulina_dependente', 'pac_oncologico', \n",
        "           'int_p_queda', 'prec_tipo_UPA', 'prot_UPA_AVC', 'prot_UPA_IAM', 'prot_UPA_SEPSE', \n",
        "           'recursos_ESI', 'upa_avaliacao_dor', 'avaliacao_dor_PAINAD', 'cardiologia_UPA', \n",
        "           'escala_verbal_numerica', 'esi_level_2', 'hematologia_UPA', 'medico_externo_UPA', \n",
        "           'nivel_recomendado_ESI', 'oncologia_UPA', 'Interna_num']"
      ],
      "execution_count": 0,
      "outputs": []
    },
    {
      "cell_type": "code",
      "metadata": {
        "scrolled": true,
        "id": "2mDFRQFg2ppZ",
        "colab_type": "code",
        "colab": {},
        "outputId": "217fe561-f3ed-4473-d805-51d8f1f97904"
      },
      "source": [
        "# Matriz de Correlação (+ nome das variáveis)\n",
        "correlations = dados.corr()\n",
        "\n",
        "# Plot\n",
        "import numpy as np\n",
        "\n",
        "fig = plt.figure()\n",
        "ax = fig.add_subplot(111)\n",
        "cax = ax.matshow(correlations, vmin = -1, vmax = 1)\n",
        "fig.colorbar(cax)\n",
        "ticks = np.arange(0, 23, 1)\n",
        "ax.set_xticks(ticks)\n",
        "ax.set_yticks(ticks)\n",
        "ax.set_xticklabels(colunas, rotation='vertical')\n",
        "ax.set_yticklabels(colunas)\n",
        "plt.show()"
      ],
      "execution_count": 0,
      "outputs": [
        {
          "output_type": "display_data",
          "data": {
            "image/png": "[encoded data removed]",
            "text/plain": [
              "<Figure size 432x288 with 2 Axes>"
            ]
          },
          "metadata": {
            "tags": [],
            "needs_background": "light"
          }
        }
      ]
    },
    {
      "cell_type": "markdown",
      "metadata": {
        "id": "m5CDXYqB2ppd",
        "colab_type": "text"
      },
      "source": [
        "Colinearidade das variáveis nível_recomendado_ESI com recursos_ESI se for muito alto tira prot_UPA_SEPSE"
      ]
    },
    {
      "cell_type": "markdown",
      "metadata": {
        "id": "mtkET7I12ppd",
        "colab_type": "text"
      },
      "source": [
        "### Preparando os Dados para Machine Learning"
      ]
    },
    {
      "cell_type": "markdown",
      "metadata": {
        "id": "c4OM1zJn2ppe",
        "colab_type": "text"
      },
      "source": [
        "Muitos algoritmos esperam receber os dados em um formato específico. Você deve preparar os dados de acordo com uma estrutura que seja adequada ao algoritmo que você irá utilizar, o que pode requerer transformações diferentes nos dados. Ainda, é possível que em alguns casos, bons resultados sejam obtidos sem um trabalho de pré-processamento, mas é uma boa prática criar diferentes transformações dos dados para realizar testes em diferentes algoritmos de Machine Learning."
      ]
    },
    {
      "cell_type": "markdown",
      "metadata": {
        "id": "ouoMTBoT2ppe",
        "colab_type": "text"
      },
      "source": [
        "#### Normalização - Método 1"
      ]
    },
    {
      "cell_type": "markdown",
      "metadata": {
        "id": "7Rv4SAHA2ppf",
        "colab_type": "text"
      },
      "source": [
        "https://scikit-learn.org/stable/modules/generated/sklearn.preprocessing.MinMaxScaler.html"
      ]
    },
    {
      "cell_type": "markdown",
      "metadata": {
        "id": "1YyLjJhs2ppg",
        "colab_type": "text"
      },
      "source": [
        "Uma das primeiras tarefas dentro do pré-processamento é colocar os dados em uma mesma escala. Muitos algoritmos de Machine Learning vão se beneficiar desse processamento e produzir resultados melhores. Esta etapa também é chamada de Normalização e significa colocar os dados em uma escala entre 0 e 1.\n",
        "\n",
        "(!!!) Importantíssimo para o processo de otimização, assim como para algoritmos como Regressão e Redes Neurais e algoritmos que usam medidas de distância, como KNN.\n",
        "\n",
        "O scikit-learn possui uma função para esse processamento, chamada MinMaxScaler()."
      ]
    },
    {
      "cell_type": "code",
      "metadata": {
        "scrolled": true,
        "id": "EQGvoxhD2ppg",
        "colab_type": "code",
        "colab": {},
        "outputId": "3da12927-3043-4cdd-cc92-45187307b645"
      },
      "source": [
        "# Transformando os dados para a mesma escala (entre 0 e 1)\n",
        "\n",
        "# Import dos módulos\n",
        "from sklearn.preprocessing import MinMaxScaler\n",
        "\n",
        "array = dados.values\n",
        "\n",
        "# Separando o array em componentes de input (X) e output (Y)\n",
        "X = array[:, 0:22]\n",
        "Y = array[:, 22]\n",
        "\n",
        "# Gerando a nova escala (normalizando os dados)\n",
        "scaler = MinMaxScaler(feature_range = (0, 1))\n",
        "rescaledX = scaler.fit_transform(X)\n",
        "\n",
        "# Sumarizando os dados transformados\n",
        "print(\"Dados Originais: \\n\\n\", dados.values)\n",
        "print(\"\\nDados Normalizados: \\n\\n\", rescaledX)"
      ],
      "execution_count": 0,
      "outputs": [
        {
          "output_type": "stream",
          "text": [
            "Dados Originais: \n",
            "\n",
            " [[2 2 2 ... 4 0 0]\n",
            " [2 2 2 ... 4 0 0]\n",
            " [2 2 2 ... 4 0 0]\n",
            " ...\n",
            " [2 3 2 ... 3 1 1]\n",
            " [2 2 2 ... 3 0 1]\n",
            " [2 3 2 ... 3 0 1]]\n",
            "\n",
            "Dados Normalizados: \n",
            "\n",
            " [[0.25       0.25       0.5        ... 0.         0.66666667 0.        ]\n",
            " [0.25       0.25       0.5        ... 0.         0.66666667 0.        ]\n",
            " [0.25       0.25       0.5        ... 0.         0.66666667 0.        ]\n",
            " ...\n",
            " [0.25       0.5        0.5        ... 0.         0.33333333 1.        ]\n",
            " [0.25       0.25       0.5        ... 0.         0.33333333 0.        ]\n",
            " [0.25       0.5        0.5        ... 0.         0.33333333 0.        ]]\n"
          ],
          "name": "stdout"
        }
      ]
    },
    {
      "cell_type": "code",
      "metadata": {
        "id": "9PAxsoXw2ppj",
        "colab_type": "code",
        "colab": {},
        "outputId": "fd71fc43-5214-4845-9f97-caef7e14d386"
      },
      "source": [
        "# Visualização com Seaborn\n",
        "import seaborn as sns\n",
        "from scipy import stats\n",
        "\n",
        "sns.distplot(rescaledX[:, 0], fit = stats.laplace, kde = False)"
      ],
      "execution_count": 0,
      "outputs": [
        {
          "output_type": "execute_result",
          "data": {
            "text/plain": [
              "<matplotlib.axes._subplots.AxesSubplot at 0x249060be048>"
            ]
          },
          "metadata": {
            "tags": []
          },
          "execution_count": 43
        },
        {
          "output_type": "display_data",
          "data": {
            "image/png": "[encoded data removed]",
            "text/plain": [
              "<Figure size 432x288 with 1 Axes>"
            ]
          },
          "metadata": {
            "tags": [],
            "needs_background": "light"
          }
        }
      ]
    },
    {
      "cell_type": "markdown",
      "metadata": {
        "id": "oMt3d17z2ppl",
        "colab_type": "text"
      },
      "source": [
        "#### Normalização - Método 2"
      ]
    },
    {
      "cell_type": "markdown",
      "metadata": {
        "id": "N634f3362ppm",
        "colab_type": "text"
      },
      "source": [
        "https://scikit-learn.org/stable/modules/generated/sklearn.preprocessing.Normalizer.html"
      ]
    },
    {
      "cell_type": "markdown",
      "metadata": {
        "id": "Vqkxli_a2ppm",
        "colab_type": "text"
      },
      "source": [
        "No scikit-learn, Normalização se refere a ajustar a escala de cada observação (linha) de modo que ela tenha comprimento igual a 1 (chamado vetor de comprimento 1 em álgebra linear).\n",
        "\n",
        "(!!!) Importantíssimo quando temos Datasets esparsos (com muitos zeros) e atributos com escala muito variada, assim como para algoritmos de Redes Neurais ou que usam medida de distância, como KNN.\n",
        "\n",
        "O scikit-learn possui uma função para esta etapa, chamada Normalizer()."
      ]
    },
    {
      "cell_type": "code",
      "metadata": {
        "id": "LQGStP9o2ppn",
        "colab_type": "code",
        "colab": {},
        "outputId": "b6663b40-0252-4f87-98b0-faa9a803e385"
      },
      "source": [
        "# Normalizando os dados (comprimento igual a 1)\n",
        "from sklearn.preprocessing import Normalizer\n",
        "\n",
        "array = dados.values\n",
        "\n",
        "# Separando o array em componentes de input e output\n",
        "X = array[:, 0:22]\n",
        "Y = array[:, 22]\n",
        "\n",
        "# Gerando os dados normalizados\n",
        "scaler = Normalizer().fit(X)\n",
        "normalizedX = scaler.transform(X)\n",
        "\n",
        "# Sumarizando os dados transformados\n",
        "print(\"Dados Originais: \\n\\n\", dados.values)\n",
        "print(\"\\nDados Normalizados: \\n\\n\", normalizedX)"
      ],
      "execution_count": 0,
      "outputs": [
        {
          "output_type": "stream",
          "text": [
            "Dados Originais: \n",
            "\n",
            " [[2 2 2 ... 4 0 0]\n",
            " [2 2 2 ... 4 0 0]\n",
            " [2 2 2 ... 4 0 0]\n",
            " ...\n",
            " [2 3 2 ... 3 1 1]\n",
            " [2 2 2 ... 3 0 1]\n",
            " [2 3 2 ... 3 0 1]]\n",
            "\n",
            "Dados Normalizados: \n",
            "\n",
            " [[0.23408229 0.23408229 0.23408229 ... 0.         0.46816459 0.        ]\n",
            " [0.29488391 0.29488391 0.29488391 ... 0.         0.58976782 0.        ]\n",
            " [0.20519567 0.20519567 0.20519567 ... 0.         0.41039134 0.        ]\n",
            " ...\n",
            " [0.16903085 0.25354628 0.16903085 ... 0.         0.25354628 0.08451543]\n",
            " [0.3086067  0.3086067  0.3086067  ... 0.         0.46291005 0.        ]\n",
            " [0.1898316  0.2847474  0.1898316  ... 0.         0.2847474  0.        ]]\n"
          ],
          "name": "stdout"
        }
      ]
    },
    {
      "cell_type": "code",
      "metadata": {
        "id": "I2wjaxu22ppq",
        "colab_type": "code",
        "colab": {},
        "outputId": "67b308b4-a10b-4200-ff3a-329cf7404ee0"
      },
      "source": [
        "sns.distplot(normalizedX[:, 0], fit = stats.laplace, kde = False)"
      ],
      "execution_count": 0,
      "outputs": [
        {
          "output_type": "execute_result",
          "data": {
            "text/plain": [
              "<matplotlib.axes._subplots.AxesSubplot at 0x2490618c2e8>"
            ]
          },
          "metadata": {
            "tags": []
          },
          "execution_count": 45
        },
        {
          "output_type": "display_data",
          "data": {
            "image/png": "[encoded data removed]",
            "text/plain": [
              "<Figure size 432x288 with 1 Axes>"
            ]
          },
          "metadata": {
            "tags": [],
            "needs_background": "light"
          }
        }
      ]
    },
    {
      "cell_type": "markdown",
      "metadata": {
        "id": "OP0shssE2ppt",
        "colab_type": "text"
      },
      "source": [
        "#### Padronização"
      ]
    },
    {
      "cell_type": "markdown",
      "metadata": {
        "id": "twn5B0tg2ppu",
        "colab_type": "text"
      },
      "source": [
        "https://scikit-learn.org/stable/modules/generated/sklearn.preprocessing.StandardScaler.html"
      ]
    },
    {
      "cell_type": "markdown",
      "metadata": {
        "id": "fZX273bS2ppu",
        "colab_type": "text"
      },
      "source": [
        "Padronização é a técnica para transformar os atributos com distribuição Gaussiana (normal) e diferentes médias e desvios padrão em uma distribuição Gaussiana com a média igual a 0 e desvio padrão igual a 1.\n",
        "\n",
        "(!!!) Importantíssimo para algoritmos que esperam que os dados estejam com uma distribuição Gaussiana, como Regressão Linear, Regressão Logística e Linear Discriminant Analysis (LDA). Funciona bem quando os dados já estão na mesma escala.\n",
        "\n",
        "O scikit-learn possui uma função para esta etapa, chamada StandardScaler()."
      ]
    },
    {
      "cell_type": "code",
      "metadata": {
        "id": "NIepOa3i2ppv",
        "colab_type": "code",
        "colab": {},
        "outputId": "ae0f914f-ef01-4247-b1c8-5a8f879d0058"
      },
      "source": [
        "# Padronizando os dados (0 para a média, 1 para o desvio padrão)\n",
        "\n",
        "# Import dos módulos\n",
        "from sklearn.preprocessing import StandardScaler\n",
        "\n",
        "array = dados.values\n",
        "\n",
        "# Separando o array em componentes de input e output\n",
        "X = array[:, 0:22]\n",
        "Y = array[:, 22]\n",
        "\n",
        "# Gerando o novo padrão\n",
        "scaler = StandardScaler().fit(X)\n",
        "standardX = scaler.transform(X)\n",
        "\n",
        "# Sumarizando os dados transformados\n",
        "print(\"Dados Originais: \\n\\n\", dados.values)\n",
        "print(\"\\nDados Padronizados: \\n\\n\", standardX)"
      ],
      "execution_count": 0,
      "outputs": [
        {
          "output_type": "stream",
          "text": [
            "Dados Originais: \n",
            "\n",
            " [[2 2 2 ... 4 0 0]\n",
            " [2 2 2 ... 4 0 0]\n",
            " [2 2 2 ... 4 0 0]\n",
            " ...\n",
            " [2 3 2 ... 3 1 1]\n",
            " [2 2 2 ... 3 0 1]\n",
            " [2 3 2 ... 3 0 1]]\n",
            "\n",
            "Dados Padronizados: \n",
            "\n",
            " [[-0.17172313 -0.44800623 -0.10591633 ... -0.16994602  1.34147465\n",
            "  -0.14532959]\n",
            " [-0.17172313 -0.44800623 -0.10591633 ... -0.16994602  1.34147465\n",
            "  -0.14532959]\n",
            " [-0.17172313 -0.44800623 -0.10591633 ... -0.16994602  1.34147465\n",
            "  -0.14532959]\n",
            " ...\n",
            " [-0.17172313  0.55703805 -0.10591633 ... -0.16994602 -0.58339116\n",
            "   6.88091119]\n",
            " [-0.17172313 -0.44800623 -0.10591633 ... -0.16994602 -0.58339116\n",
            "  -0.14532959]\n",
            " [-0.17172313  0.55703805 -0.10591633 ... -0.16994602 -0.58339116\n",
            "  -0.14532959]]\n"
          ],
          "name": "stdout"
        },
        {
          "output_type": "stream",
          "text": [
            "C:\\Users\\Sandro\\Anaconda3\\lib\\site-packages\\sklearn\\utils\\validation.py:595: DataConversionWarning: Data with input dtype int64 was converted to float64 by StandardScaler.\n",
            "  warnings.warn(msg, DataConversionWarning)\n",
            "C:\\Users\\Sandro\\Anaconda3\\lib\\site-packages\\sklearn\\utils\\validation.py:595: DataConversionWarning: Data with input dtype int64 was converted to float64 by StandardScaler.\n",
            "  warnings.warn(msg, DataConversionWarning)\n"
          ],
          "name": "stderr"
        }
      ]
    },
    {
      "cell_type": "code",
      "metadata": {
        "id": "RY69nFWy2ppy",
        "colab_type": "code",
        "colab": {},
        "outputId": "ee6c8086-963d-4610-9925-767c7689363e"
      },
      "source": [
        "sns.distplot(standardX[:, 0], fit = stats.laplace, kde = False)\n"
      ],
      "execution_count": 0,
      "outputs": [
        {
          "output_type": "execute_result",
          "data": {
            "text/plain": [
              "<matplotlib.axes._subplots.AxesSubplot at 0x249062820f0>"
            ]
          },
          "metadata": {
            "tags": []
          },
          "execution_count": 47
        },
        {
          "output_type": "display_data",
          "data": {
            "image/png": "[encoded data removed]",
            "text/plain": [
              "<Figure size 432x288 with 1 Axes>"
            ]
          },
          "metadata": {
            "tags": [],
            "needs_background": "light"
          }
        }
      ]
    },
    {
      "cell_type": "markdown",
      "metadata": {
        "id": "p60EuRXF2pp1",
        "colab_type": "text"
      },
      "source": [
        "### Feature Selection"
      ]
    },
    {
      "cell_type": "markdown",
      "metadata": {
        "id": "qsnCXEAe2pp3",
        "colab_type": "text"
      },
      "source": [
        "Os atributos presentes no seu Dataset e que você utiliza nos dados de treino terão grande influência na precisão e resultado do seu modelo preditivo.\n",
        "\n",
        "(!!!) Importantíssimo notar que atributos irrelevantes geram um impacto negativo na performance, enquanto que atributos colineares podem afetar o grau de acurácia do modelo.\n",
        "\n",
        "O scikit-learn possui funções que automatizam o trabalho de extração e seleção de variáveis."
      ]
    },
    {
      "cell_type": "markdown",
      "metadata": {
        "id": "1O7pfPu32pp3",
        "colab_type": "text"
      },
      "source": [
        "A etapa de Feature Selection é onde selecionamos os atributos (variáveis) que serão melhores candidatas a variáveis preditoras. O Feature Selection nos ajuda a reduzir o overfitting (quando o algoritmo aprende demais), aumenta a acurácia do modelo e reduz o tempo de treinamento."
      ]
    },
    {
      "cell_type": "markdown",
      "metadata": {
        "id": "RXBT_SRD2pp4",
        "colab_type": "text"
      },
      "source": [
        "#### Eliminação Recursiva de Atributos (Recursive Feature Elimination - RFE)"
      ]
    },
    {
      "cell_type": "markdown",
      "metadata": {
        "id": "oBGlhrUV2pp4",
        "colab_type": "text"
      },
      "source": [
        "https://scikit-learn.org/stable/modules/generated/sklearn.feature_selection.RFE.html"
      ]
    },
    {
      "cell_type": "markdown",
      "metadata": {
        "id": "6ws1IzmA2pp5",
        "colab_type": "text"
      },
      "source": [
        "Técnica para seleção de atributos que recursivamente remove os atributos e constrói o modelo com os atributos remanescentes. Utiliza a acurácia do modelo para identificar os atributos que mais contribuem para prever a variável alvo."
      ]
    },
    {
      "cell_type": "markdown",
      "metadata": {
        "id": "crVD-rIr2pp5",
        "colab_type": "text"
      },
      "source": [
        "O exemplo abaixo utiliza a técnica de eliminação recursiva de atributos com um algoritmo de Regressão Logística para selecionar uma quantidade predefinida das melhores variáveis preditoras, as quais marcadas como True em \"Atributos Selecionados\" e com valor 1 em \"Ranking dos Atributos\"."
      ]
    },
    {
      "cell_type": "code",
      "metadata": {
        "id": "OKSpTBQc2pp5",
        "colab_type": "code",
        "colab": {},
        "outputId": "36daf3e4-4163-4a2d-901a-197e10e74d00"
      },
      "source": [
        "# Eliminação Recursiva de Variáveis\n",
        "\n",
        "# Import dos módulos\n",
        "from sklearn.feature_selection import RFE\n",
        "from sklearn.linear_model import LogisticRegression\n",
        "\n",
        "array = dados.values\n",
        "\n",
        "# Separando o array em componentes de input e output\n",
        "X = array[:, 0:22]\n",
        "Y = array[:, 22]\n",
        "\n",
        "# Criação do modelo\n",
        "modelo = LogisticRegression()\n",
        "\n",
        "# RFE\n",
        "rfe = RFE(modelo, 11)\n",
        "fit = rfe.fit(X, Y)\n",
        "\n",
        "# Print dos resultados\n",
        "print(\"Variáveis Preditoras:\", dados.columns[0:22])\n",
        "print(\"Variáveis Selecionadas: %s\" % fit.support_)\n",
        "print(\"Ranking dos Atributos: %s\" % fit.ranking_)\n",
        "print(\"Número de Melhores Atributos: %d\" % fit.n_features_)"
      ],
      "execution_count": 0,
      "outputs": [
        {
          "output_type": "stream",
          "text": [
            "Variáveis Preditoras: Index(['T_num', 'PA_num', 'FR_num', 'P_num', 'SpO2_num', 'insulina_dependente',\n",
            "       'pac_oncologico', 'int_p_queda', 'prec_tipo_UPA', 'prot_UPA_AVC',\n",
            "       'prot_UPA_IAM', 'prot_UPA_SEPSE', 'recursos_ESI', 'upa_avaliacao_dor',\n",
            "       'avaliacao_dor_PAINAD', 'cardiologia_UPA', 'escala_verbal_numerica',\n",
            "       'esi_level_2', 'hematologia_UPA', 'medico_externo_UPA',\n",
            "       'nivel_recomendado_ESI', 'oncologia_UPA'],\n",
            "      dtype='object')\n",
            "Variáveis Selecionadas: [False False False False  True False  True  True False False False  True\n",
            "  True False False  True False  True  True  True  True  True]\n",
            "Ranking dos Atributos: [ 6  5  2  8  1 10  1  1 11  3  4  1  1  9  7  1 12  1  1  1  1  1]\n",
            "Número de Melhores Atributos: 11\n"
          ],
          "name": "stdout"
        }
      ]
    },
    {
      "cell_type": "markdown",
      "metadata": {
        "id": "ljVhw1Yv2pqA",
        "colab_type": "text"
      },
      "source": [
        "#### Método Ensemble para Seleção de Variáveis (ExtraTreesClassifier)"
      ]
    },
    {
      "cell_type": "markdown",
      "metadata": {
        "id": "_f-jirKc2pqA",
        "colab_type": "text"
      },
      "source": [
        "https://scikit-learn.org/stable/modules/generated/sklearn.ensemble.ExtraTreesClassifier.html"
      ]
    },
    {
      "cell_type": "markdown",
      "metadata": {
        "id": "6tThlAHs2pqA",
        "colab_type": "text"
      },
      "source": [
        "Bagged Decision Trees, como o algoritmo RandomForest (esses são chamados de Métodos Ensemble), podem ser usados para estimar a importância de cada atributo, retornando um score para cada um dos mesmos."
      ]
    },
    {
      "cell_type": "code",
      "metadata": {
        "scrolled": true,
        "id": "B2W_-r7t2pqB",
        "colab_type": "code",
        "colab": {},
        "outputId": "0342c003-2db7-4179-ddde-109f598baa1f"
      },
      "source": [
        "# Importância do Atributo com o Extra Trees Classifier\n",
        "\n",
        "# Import dos Módulos\n",
        "from sklearn.ensemble import ExtraTreesClassifier\n",
        "\n",
        "array = dados.values\n",
        "\n",
        "# Separando o array em componentes de input e output\n",
        "X = array[:, 0:22]\n",
        "Y = array[:, 22]\n",
        "\n",
        "# Criação do Modelo - Feature Selection\n",
        "modelo = ExtraTreesClassifier()\n",
        "modelo.fit(X, Y)\n",
        "\n",
        "# Print dos Resultados\n",
        "print(dados.columns[0:22])\n",
        "print(modelo.feature_importances_)"
      ],
      "execution_count": 0,
      "outputs": [
        {
          "output_type": "stream",
          "text": [
            "Index(['T_num', 'PA_num', 'FR_num', 'P_num', 'SpO2_num', 'insulina_dependente',\n",
            "       'pac_oncologico', 'int_p_queda', 'prec_tipo_UPA', 'prot_UPA_AVC',\n",
            "       'prot_UPA_IAM', 'prot_UPA_SEPSE', 'recursos_ESI', 'upa_avaliacao_dor',\n",
            "       'avaliacao_dor_PAINAD', 'cardiologia_UPA', 'escala_verbal_numerica',\n",
            "       'esi_level_2', 'hematologia_UPA', 'medico_externo_UPA',\n",
            "       'nivel_recomendado_ESI', 'oncologia_UPA'],\n",
            "      dtype='object')\n",
            "[5.56723913e-02 5.62894494e-02 7.21888055e-03 3.14448173e-02\n",
            " 2.82524070e-02 6.90363352e-03 3.27686880e-02 8.82649122e-02\n",
            " 2.65597813e-02 3.72093852e-03 4.80913992e-03 1.88487127e-02\n",
            " 3.29912710e-01 3.48078658e-02 2.14645889e-04 2.73655982e-03\n",
            " 1.42951215e-01 4.87335703e-03 7.42987199e-03 3.59291783e-02\n",
            " 6.44019333e-02 1.59889106e-02]\n"
          ],
          "name": "stdout"
        }
      ]
    },
    {
      "cell_type": "markdown",
      "metadata": {
        "id": "6M4oBD3q2pqD",
        "colab_type": "text"
      },
      "source": [
        "### Amostragem - Resampling"
      ]
    },
    {
      "cell_type": "markdown",
      "metadata": {
        "id": "XSNug-QQ2pqD",
        "colab_type": "text"
      },
      "source": [
        "A avaliação do modelo é uma estimativa de quão bem o algoritmo será capaz de prever em novos dados. Para tanto, devemos fazer previsões em dados que você já conhece o resultado, mas que o modelo não. Existem diversas técnicas para isso e estudaremos duas aqui: Conjunto de dados de treino e de teste e Cross Validation."
      ]
    },
    {
      "cell_type": "markdown",
      "metadata": {
        "id": "7UTImdoH2pqE",
        "colab_type": "text"
      },
      "source": [
        "#### Dados de Treino e de Teste"
      ]
    },
    {
      "cell_type": "markdown",
      "metadata": {
        "id": "sook75G72pqE",
        "colab_type": "text"
      },
      "source": [
        "https://scikit-learn.org/stable/modules/generated/sklearn.model_selection.train_test_split.html"
      ]
    },
    {
      "cell_type": "markdown",
      "metadata": {
        "id": "TEwKGSka2pqE",
        "colab_type": "text"
      },
      "source": [
        "Método mais utilizado para avaliar a performance de um algoritmo de Machine Learning. Divide-se os dados originais em dados de treino e de teste. Treina-se o algoritmo nos dados de treino e então se faze as previsões nos dados de teste e avalia-se o resultado. A divisão dos dados depende do seu Dataset, mas proporções entre 70/30 (treino/teste) e 65/35 (treino/teste) são muito frequentes."
      ]
    },
    {
      "cell_type": "markdown",
      "metadata": {
        "id": "X83TqpqI2pqF",
        "colab_type": "text"
      },
      "source": [
        "Este método é bem veloz e ideal para conjuntos de dados muito grandes. O ponto negativo é a possibilidade de alta variância."
      ]
    },
    {
      "cell_type": "code",
      "metadata": {
        "id": "r_nSrA892pqF",
        "colab_type": "code",
        "colab": {},
        "outputId": "83a8993c-1476-4baa-e1b4-585599d9e8a8"
      },
      "source": [
        "# Avaliação usando dados de treino e de teste\n",
        "\n",
        "# Import dos módulos\n",
        "from sklearn.model_selection import train_test_split\n",
        "\n",
        "array = dados.values\n",
        "\n",
        "# Separando o array em componentes de input e output\n",
        "X = array[:, 0:22] # **\n",
        "# X = rescaledX      # *\n",
        "# X = normalizedX    # ****\n",
        "# X = standardX      # ***\n",
        "Y = array[:, 22]\n",
        "\n",
        "# Definindo o tamanho das amostras\n",
        "teste_size = 0.33\n",
        "\n",
        "# Garante que os resultados podem ser reproduzidos\n",
        "# Isso é importante para comparar a acurácia com outros algoritmos de Machine Learning.\n",
        "seed = 7\n",
        "\n",
        "# Criando os conjuntos de dados de treino e de teste\n",
        "X_treino, X_teste, Y_treino, Y_teste = train_test_split(X, Y, \n",
        "                                                        test_size = teste_size, \n",
        "                                                        random_state = seed)\n",
        "\n",
        "# Import dos módulos\n",
        "from sklearn.linear_model import LogisticRegression\n",
        "\n",
        "# Criação do modelo\n",
        "modelo = LogisticRegression()\n",
        "\n",
        "# Treinamento do modelo\n",
        "modelo.fit(X_treino, Y_treino)\n",
        "\n",
        "# Score do modelo nos dados de teste\n",
        "result = modelo.score(X_teste, Y_teste)\n",
        "print(\"Acurácia nos Dados de Teste: %.3f%%\" % (result * 100.0))"
      ],
      "execution_count": 0,
      "outputs": [
        {
          "output_type": "stream",
          "text": [
            "Acurácia nos Dados de Teste: 70.908%\n"
          ],
          "name": "stdout"
        }
      ]
    },
    {
      "cell_type": "markdown",
      "metadata": {
        "id": "7XxHIEu12pqI",
        "colab_type": "text"
      },
      "source": [
        "#### Cross Validation"
      ]
    },
    {
      "cell_type": "markdown",
      "metadata": {
        "id": "KWSzOqtu2pqI",
        "colab_type": "text"
      },
      "source": [
        "https://scikit-learn.org/stable/modules/generated/sklearn.model_selection.cross_val_score.html"
      ]
    },
    {
      "cell_type": "markdown",
      "metadata": {
        "id": "XwS8R7YK2pqJ",
        "colab_type": "text"
      },
      "source": [
        "Cross Validation é uma técnica que pode ser utilizada para avaliar a performance de um modelo com menos variância que a técnica de dividir os dados em treino/teste. Com esta técnica dividimos os dados em partes chamadas k-folds. Cada parte é chamada fold e o algoritmo é treinado em k-1 folds, isso é, cada fold é usado no treinamento de forma repetida, um fold por vez. Após executar o processo em k-1 folds, sumariza-se a performance em cada fold usando a média e o desvio padrão. O resultado é normalmente mais confiável e oferece maior acurácia ao modelo. A chave deste processo está em definir o correto valor de k, de modo que o número de folds represente adequadamente o número de repetições necessárias."
      ]
    },
    {
      "cell_type": "code",
      "metadata": {
        "id": "-dyt_HwU2pqJ",
        "colab_type": "code",
        "colab": {},
        "outputId": "67cf9298-0794-4048-c936-ed07caf4c361"
      },
      "source": [
        "from IPython.display import Image\n",
        "Image(url = 'images/cross-validation.jpg')"
      ],
      "execution_count": 0,
      "outputs": [
        {
          "output_type": "execute_result",
          "data": {
            "text/html": [
              "<img src=\"images/cross-validation.jpg\"/>"
            ],
            "text/plain": [
              "<IPython.core.display.Image object>"
            ]
          },
          "metadata": {
            "tags": []
          },
          "execution_count": 51
        }
      ]
    },
    {
      "cell_type": "code",
      "metadata": {
        "id": "iIBh_Vya2pqN",
        "colab_type": "code",
        "colab": {},
        "outputId": "fb4ca0c5-b195-4860-91c0-f03e8c016b81"
      },
      "source": [
        "# Avaliação usando Cross Validation\n",
        "\n",
        "# Import dos módulos\n",
        "from sklearn.model_selection import KFold\n",
        "from sklearn.model_selection import cross_val_score\n",
        "\n",
        "array = dados.values\n",
        "\n",
        "# Separando o array em componentes de input e output\n",
        "X = array[:, 0:22] # ***\n",
        "# X = rescaledX      # **\n",
        "# X = normalizedX    # ****\n",
        "# X = standardX      # *\n",
        "Y = array[:, 22]\n",
        "\n",
        "# Definindo os valores para os folds\n",
        "num_folds = 10\n",
        "seed = 7\n",
        "\n",
        "# Separando os dados em folds\n",
        "kfold = KFold(num_folds, shuffle = True, random_state = seed)\n",
        "\n",
        "# Import dos módulos\n",
        "from sklearn.linear_model import LogisticRegression\n",
        "\n",
        "# Criando o modelo\n",
        "modelo = LogisticRegression()\n",
        "resultado = cross_val_score(modelo, X, Y, cv = kfold)\n",
        "\n",
        "# Usamos a média e o desvio padrão\n",
        "print(\"Acurácia Final: %.3f%%\" % (resultado.mean() * 100.0))"
      ],
      "execution_count": 0,
      "outputs": [
        {
          "output_type": "stream",
          "text": [
            "Acurácia Final: 70.536%\n"
          ],
          "name": "stdout"
        }
      ]
    },
    {
      "cell_type": "markdown",
      "metadata": {
        "id": "7HPwFbyK2pqQ",
        "colab_type": "text"
      },
      "source": [
        "### Avaliando a Performance"
      ]
    },
    {
      "cell_type": "markdown",
      "metadata": {
        "id": "ss-So5vh2pqQ",
        "colab_type": "text"
      },
      "source": [
        "As métricas que você escolhe para avaliar a performance do modelo vão influenciar a forma como a performance é medida e comparada com modelos criados com outros algoritmos."
      ]
    },
    {
      "cell_type": "markdown",
      "metadata": {
        "id": "wWSPv5rZ2pqQ",
        "colab_type": "text"
      },
      "source": [
        "Vamos utilizar o mesmo algoritmo, mas com métricas diferentes e assim comparar os resultados. A função cross_validation.cross_val_score() será usada para avaliar a performance."
      ]
    },
    {
      "cell_type": "markdown",
      "metadata": {
        "id": "odOuX11U2pqR",
        "colab_type": "text"
      },
      "source": [
        "#### Métricas para Algoritmos de Classificação"
      ]
    },
    {
      "cell_type": "markdown",
      "metadata": {
        "id": "k9olXYS72pqR",
        "colab_type": "text"
      },
      "source": [
        "https://scikit-learn.org/stable/modules/model_evaluation.html"
      ]
    },
    {
      "cell_type": "code",
      "metadata": {
        "id": "NAU0M9Mv2pqS",
        "colab_type": "code",
        "colab": {},
        "outputId": "8291bbd4-eb73-43da-8e78-f6c6f65bd9a8"
      },
      "source": [
        "# Acurácia\n",
        "# Número de previsões corretas. É útil apenas quando existe um balanceamento entre as classes.\n",
        "\n",
        "# Import dos módulos\n",
        "from sklearn.model_selection import KFold\n",
        "from sklearn.model_selection import cross_val_score\n",
        "\n",
        "array = dados.values\n",
        "\n",
        "# Separando o array em componentes de input e output\n",
        "X = array[:, 0:22]\n",
        "# X = rescaledX\n",
        "# X = normalizedX\n",
        "# X = standardX\n",
        "Y = array[:, 22]\n",
        "\n",
        "# Definindo os valores para o número de folds\n",
        "num_folds = 10\n",
        "seed = 7\n",
        "\n",
        "# Separando os dados em folds\n",
        "kfold = KFold(num_folds, shuffle = True, random_state = seed)\n",
        "\n",
        "# Import dos módulos\n",
        "from sklearn.linear_model import LogisticRegression\n",
        "\n",
        "# Criando o modelo\n",
        "modelo = LogisticRegression()\n",
        "\n",
        "# Cross Validation\n",
        "resultado = cross_val_score(modelo, X, Y, cv = kfold, scoring = 'accuracy')\n",
        "\n",
        "# Print dos resultados\n",
        "print(\"Acurácia: %.3f\" % (resultado.mean() * 100))"
      ],
      "execution_count": 0,
      "outputs": [
        {
          "output_type": "stream",
          "text": [
            "Acurácia: 70.536\n"
          ],
          "name": "stdout"
        }
      ]
    },
    {
      "cell_type": "code",
      "metadata": {
        "id": "DBUZTsDa2pqT",
        "colab_type": "code",
        "colab": {},
        "outputId": "42165eba-77d7-48d6-afe5-7c468640c4b3"
      },
      "source": [
        "# Curva ROC \n",
        "# A Curva ROC permite analisar a métrica AUC (Area Under the Curve).\n",
        "# Essa é uma métrica de performance para classificação binária, em que podemos definir as classes em positivas e negativas.\n",
        "# Problemas de classificação binária são um trade-off sentre Sensitivity e Specifity.\n",
        "# Sensitivity é a taxa de verdadeiros positivos (TP). Ese é o número de instâncias positivas da primeira classe que foram previstas corretamente.\n",
        "# Specifity é a taxa de verdadeiros negativos (TN). Esse é o número de instâncias da segunda classe que foram previstas corretamente.\n",
        "# Valores acima de 0.5 indicam uma boa taxa de previsão.\n",
        "\n",
        "# Import dos módulos\n",
        "from sklearn.model_selection import KFold\n",
        "from sklearn.model_selection import cross_val_score\n",
        "\n",
        "array = dados.values\n",
        "\n",
        "# Separando o array em componentes de input e output\n",
        "X = array[:, 0:22]\n",
        "# X = rescaledX\n",
        "# X = normalizedX\n",
        "# X = standardX\n",
        "Y = array[:, 22]\n",
        "\n",
        "# Definindo os valores para o número de folds\n",
        "num_folds = 10\n",
        "seed = 7\n",
        "\n",
        "# Separando os dados em folds\n",
        "kfold = KFold(num_folds, shuffle = True, random_state = seed)\n",
        "\n",
        "# Import dos módulos\n",
        "from sklearn.linear_model import LogisticRegression\n",
        "\n",
        "# Criando o modelo\n",
        "model = LogisticRegression()\n",
        "\n",
        "# Cross Validation\n",
        "resultado = cross_val_score(model, X, Y, cv = kfold, scoring = 'roc_auc')\n",
        "\n",
        "# Print do resultado\n",
        "print(\"AUC: %.3f\" % (resultado.mean() * 100))"
      ],
      "execution_count": 0,
      "outputs": [
        {
          "output_type": "stream",
          "text": [
            "AUC: 78.824\n"
          ],
          "name": "stdout"
        }
      ]
    },
    {
      "cell_type": "code",
      "metadata": {
        "id": "RwYkDvwE2pqV",
        "colab_type": "code",
        "colab": {},
        "outputId": "99835530-587e-49f7-fe0f-3ecde78983b4"
      },
      "source": [
        "import matplotlib.patches as patches\n",
        "from sklearn.metrics import roc_curve,auc\n",
        "from scipy import interp\n",
        "\n",
        "# plot arrows\n",
        "fig1 = plt.figure(figsize = [12, 12])\n",
        "ax1 = fig1.add_subplot(111, aspect = 'equal')\n",
        "ax1.add_patch(\n",
        "    patches.Arrow(0.45, 0.5, -0.25, 0.25, width = 0.3, color = 'green', alpha = 0.5)\n",
        "    )\n",
        "ax1.add_patch(\n",
        "    patches.Arrow(0.5, 0.45, 0.25, -0.25, width = 0.3, color = 'red', alpha = 0.5)\n",
        "    )\n",
        "\n",
        "tprs = []\n",
        "aucs = []\n",
        "mean_fpr = np.linspace(0, 1, 100)\n",
        "i = 1\n",
        "for train,test in kfold.split(X,Y):\n",
        "    prediction = model.fit(pd.DataFrame(X).iloc[train],pd.DataFrame(Y).iloc[train]).predict_proba(pd.DataFrame(X).iloc[test])\n",
        "    fpr, tpr, t = roc_curve(Y[test], prediction[:, 1])\n",
        "    tprs.append(interp(mean_fpr, fpr, tpr))\n",
        "    roc_auc = auc(fpr, tpr)\n",
        "    aucs.append(roc_auc)\n",
        "    plt.plot(fpr, tpr, lw = 2, alpha = 0.3, label = 'ROC fold %d (AUC = %0.2f)' % (i, roc_auc))\n",
        "    i = i + 1\n",
        "\n",
        "plt.plot([0, 1],[0, 1], linestyle = '--', lw = 2, color = 'black')\n",
        "mean_tpr = np.mean(tprs, axis = 0)\n",
        "mean_auc = auc(mean_fpr, mean_tpr)\n",
        "plt.plot(mean_fpr, mean_tpr, color = 'blue',\n",
        "         label = r'Mean ROC (AUC = %0.2f )' % (mean_auc), lw = 2, alpha = 1)\n",
        "\n",
        "plt.xlabel('False Positive Rate')\n",
        "plt.ylabel('True Positive Rate')\n",
        "plt.title('ROC')\n",
        "plt.legend(loc = \"lower right\")\n",
        "plt.text(0.32, 0.7, 'More accurate area', fontsize = 12)\n",
        "plt.text(0.63, 0.4, 'Less accurate area', fontsize = 12)\n",
        "plt.show()"
      ],
      "execution_count": 0,
      "outputs": [
        {
          "output_type": "stream",
          "text": [
            "C:\\Users\\Sandro\\Anaconda3\\lib\\site-packages\\sklearn\\utils\\validation.py:761: DataConversionWarning: A column-vector y was passed when a 1d array was expected. Please change the shape of y to (n_samples, ), for example using ravel().\n",
            "  y = column_or_1d(y, warn=True)\n",
            "C:\\Users\\Sandro\\Anaconda3\\lib\\site-packages\\sklearn\\utils\\validation.py:761: DataConversionWarning: A column-vector y was passed when a 1d array was expected. Please change the shape of y to (n_samples, ), for example using ravel().\n",
            "  y = column_or_1d(y, warn=True)\n",
            "C:\\Users\\Sandro\\Anaconda3\\lib\\site-packages\\sklearn\\utils\\validation.py:761: DataConversionWarning: A column-vector y was passed when a 1d array was expected. Please change the shape of y to (n_samples, ), for example using ravel().\n",
            "  y = column_or_1d(y, warn=True)\n",
            "C:\\Users\\Sandro\\Anaconda3\\lib\\site-packages\\sklearn\\utils\\validation.py:761: DataConversionWarning: A column-vector y was passed when a 1d array was expected. Please change the shape of y to (n_samples, ), for example using ravel().\n",
            "  y = column_or_1d(y, warn=True)\n",
            "C:\\Users\\Sandro\\Anaconda3\\lib\\site-packages\\sklearn\\utils\\validation.py:761: DataConversionWarning: A column-vector y was passed when a 1d array was expected. Please change the shape of y to (n_samples, ), for example using ravel().\n",
            "  y = column_or_1d(y, warn=True)\n",
            "C:\\Users\\Sandro\\Anaconda3\\lib\\site-packages\\sklearn\\utils\\validation.py:761: DataConversionWarning: A column-vector y was passed when a 1d array was expected. Please change the shape of y to (n_samples, ), for example using ravel().\n",
            "  y = column_or_1d(y, warn=True)\n",
            "C:\\Users\\Sandro\\Anaconda3\\lib\\site-packages\\sklearn\\utils\\validation.py:761: DataConversionWarning: A column-vector y was passed when a 1d array was expected. Please change the shape of y to (n_samples, ), for example using ravel().\n",
            "  y = column_or_1d(y, warn=True)\n",
            "C:\\Users\\Sandro\\Anaconda3\\lib\\site-packages\\sklearn\\utils\\validation.py:761: DataConversionWarning: A column-vector y was passed when a 1d array was expected. Please change the shape of y to (n_samples, ), for example using ravel().\n",
            "  y = column_or_1d(y, warn=True)\n",
            "C:\\Users\\Sandro\\Anaconda3\\lib\\site-packages\\sklearn\\utils\\validation.py:761: DataConversionWarning: A column-vector y was passed when a 1d array was expected. Please change the shape of y to (n_samples, ), for example using ravel().\n",
            "  y = column_or_1d(y, warn=True)\n",
            "C:\\Users\\Sandro\\Anaconda3\\lib\\site-packages\\sklearn\\utils\\validation.py:761: DataConversionWarning: A column-vector y was passed when a 1d array was expected. Please change the shape of y to (n_samples, ), for example using ravel().\n",
            "  y = column_or_1d(y, warn=True)\n"
          ],
          "name": "stderr"
        },
        {
          "output_type": "display_data",
          "data": {
            "image/png": "[encoded data removed]",
            "text/plain": [
              "<Figure size 864x864 with 1 Axes>"
            ]
          },
          "metadata": {
            "tags": [],
            "needs_background": "light"
          }
        }
      ]
    },
    {
      "cell_type": "code",
      "metadata": {
        "id": "d3zQ7vg12pqX",
        "colab_type": "code",
        "colab": {},
        "outputId": "8ec62072-2a19-4527-85b3-4243a1630404"
      },
      "source": [
        "# Confusion Matrix\n",
        "# Permite verificar a acurácia em um formato de tabela\n",
        "\n",
        "# Import dos módulos\n",
        "from sklearn.model_selection import train_test_split\n",
        "\n",
        "array = dados.values\n",
        "\n",
        "# Separando o array em componentes de input e output\n",
        "X = array[:, 0:22]\n",
        "# X = rescaledX\n",
        "# X = normalizedX\n",
        "# X = standardX\n",
        "Y = array[:, 22]\n",
        "\n",
        "# Definindo o tamanho do conjunto de dados\n",
        "teste_size = 0.33\n",
        "seed = 7\n",
        "\n",
        "# Dividindo os dados em treino e teste\n",
        "X_treino, X_teste, Y_treino, Y_teste = train_test_split(X, Y, \n",
        "                                                        test_size = teste_size, \n",
        "                                                        random_state = seed)\n",
        "\n",
        "# Import dos módulos\n",
        "from sklearn.linear_model import LogisticRegression\n",
        "from sklearn.metrics import confusion_matrix\n",
        "\n",
        "# Criando o modelo\n",
        "model = LogisticRegression()\n",
        "model.fit(X_treino, Y_treino)\n",
        "\n",
        "# Fazendo as previsões e construindo a Confusion Matrix\n",
        "previsoes = model.predict(X_teste)\n",
        "matrix = confusion_matrix(Y_teste, previsoes)\n",
        "\n",
        "# Imprimindo a Confusion Matrix\n",
        "print(matrix)"
      ],
      "execution_count": 0,
      "outputs": [
        {
          "output_type": "stream",
          "text": [
            "[[448 320]\n",
            " [135 661]]\n"
          ],
          "name": "stdout"
        }
      ]
    },
    {
      "cell_type": "code",
      "metadata": {
        "id": "q345OTlY2pqZ",
        "colab_type": "code",
        "colab": {},
        "outputId": "194a8e1b-9919-4b2a-9bcc-6498a47aef01"
      },
      "source": [
        "# Relatório de Classificação\n",
        "\n",
        "# Import dos módulos\n",
        "from sklearn.model_selection import train_test_split\n",
        "\n",
        "array = dados.values\n",
        "\n",
        "# Separando o array em componentes de input e output\n",
        "X = array[:, 0:22]\n",
        "# X = rescaledX\n",
        "# X = normalizedX\n",
        "# X = standardX\n",
        "Y = array[:, 22]\n",
        "\n",
        "# Definindo o tamanho do conjunto de dados\n",
        "teste_size = 0.33\n",
        "seed = 7\n",
        "\n",
        "# Dividindo os dados em treino e teste\n",
        "X_treino, X_teste, Y_treino, Y_teste = train_test_split(X, Y, \n",
        "                                                        test_size = teste_size, \n",
        "                                                        random_state = seed)\n",
        "\n",
        "# Import dos módulos\n",
        "from sklearn.linear_model import LogisticRegression\n",
        "from sklearn.metrics import classification_report\n",
        "\n",
        "# Criando o modelo\n",
        "modelo = LogisticRegression()\n",
        "modelo.fit(X_treino, Y_treino)\n",
        "\n",
        "# Fazendo as previsões e construindo o relatório\n",
        "previsoes = model.predict(X_teste)\n",
        "report = classification_report(Y_teste, previsoes)\n",
        "\n",
        "# Imprimindo o relatório\n",
        "print(report)"
      ],
      "execution_count": 0,
      "outputs": [
        {
          "output_type": "stream",
          "text": [
            "              precision    recall  f1-score   support\n",
            "\n",
            "           0       0.77      0.58      0.66       768\n",
            "           1       0.67      0.83      0.74       796\n",
            "\n",
            "   micro avg       0.71      0.71      0.71      1564\n",
            "   macro avg       0.72      0.71      0.70      1564\n",
            "weighted avg       0.72      0.71      0.70      1564\n",
            "\n"
          ],
          "name": "stdout"
        }
      ]
    },
    {
      "cell_type": "markdown",
      "metadata": {
        "id": "e_OZ2u3c2pqb",
        "colab_type": "text"
      },
      "source": [
        "## Algoritmos de Classificação"
      ]
    },
    {
      "cell_type": "markdown",
      "metadata": {
        "id": "DmV2IJE72pqb",
        "colab_type": "text"
      },
      "source": [
        "Não há como como saber qual algoritmo vai funcionar melhor na construção de um modelo antes de o testarmos com um Dataset. O ideal é testar alguns algoritmos e então escolher o que fornece melhor nível de precisão (nesse caso, já que estamos com nossas classes balanceadas e estamos definindo essa estratégia). Vamos testar um conjunto de algoritmos de classificação nas mesmas condições e validarmos nossas conclusões."
      ]
    },
    {
      "cell_type": "markdown",
      "metadata": {
        "id": "5BEOs9A-2pqc",
        "colab_type": "text"
      },
      "source": [
        "### Regressão Logística"
      ]
    },
    {
      "cell_type": "markdown",
      "metadata": {
        "id": "MR97_uJs2pqc",
        "colab_type": "text"
      },
      "source": [
        "Algoritmo Linear. O algoritmo de Regressão Logística assume que seus dados estão em uma Distribuição Normal para valores numéricos que podem ser modelados com classificação binária."
      ]
    },
    {
      "cell_type": "code",
      "metadata": {
        "id": "V0l_KW5V2pqc",
        "colab_type": "code",
        "colab": {},
        "outputId": "7bac14e4-a3d9-4b08-902f-4a12c44353f0"
      },
      "source": [
        "# Import dos módulos\n",
        "from sklearn.model_selection import KFold\n",
        "from sklearn.model_selection import cross_val_score\n",
        "from sklearn.linear_model import LogisticRegression\n",
        "\n",
        "array = dados.values\n",
        "\n",
        "# Separando o array em componentes de input e output\n",
        "X = array[:, 0:22]\n",
        "# X = rescaledX\n",
        "# X = normalizedX\n",
        "# X = standardX\n",
        "Y = array[:, 22]\n",
        "\n",
        "# Definindo os valores para o número de folds\n",
        "num_folds = 10\n",
        "seed = 7\n",
        "\n",
        "# Separando os dados em folds\n",
        "kfold = KFold(num_folds, shuffle = True, random_state = seed)\n",
        "\n",
        "# Criando o modelo\n",
        "modelo = LogisticRegression()\n",
        "\n",
        "# Cross Validation\n",
        "resultado = cross_val_score(modelo, X, Y, cv = kfold)\n",
        "\n",
        "# Print do resultado\n",
        "print(\"Acurácia: %.3f\" % (resultado.mean() * 100))"
      ],
      "execution_count": 0,
      "outputs": [
        {
          "output_type": "stream",
          "text": [
            "Acurácia: 70.536\n"
          ],
          "name": "stdout"
        }
      ]
    },
    {
      "cell_type": "markdown",
      "metadata": {
        "id": "dP3IIUae2pqe",
        "colab_type": "text"
      },
      "source": [
        "### Linear Discriminant Analysis (LDA)"
      ]
    },
    {
      "cell_type": "markdown",
      "metadata": {
        "id": "c8seYLoQ2pqf",
        "colab_type": "text"
      },
      "source": [
        "Algoritmo Linear. Técnica estatística para classificação binária. Também assume que os dados estão em Distribuição Normal."
      ]
    },
    {
      "cell_type": "code",
      "metadata": {
        "id": "iRdPTZTS2pqf",
        "colab_type": "code",
        "colab": {},
        "outputId": "103b8e4a-feb8-48e7-aa13-4628ae8fd580"
      },
      "source": [
        "# Import dos módulos\n",
        "from sklearn.model_selection import KFold\n",
        "from sklearn.model_selection import cross_val_score\n",
        "from sklearn.discriminant_analysis import LinearDiscriminantAnalysis\n",
        "\n",
        "array = dados.values\n",
        "\n",
        "# Separando o array em componentes de input e output\n",
        "X = array[:, 0:22]\n",
        "# X = rescaledX\n",
        "# X = normalizedX\n",
        "# X = standardX\n",
        "Y = array[:, 22]\n",
        "\n",
        "# Definindo os valores para o número de folds\n",
        "num_folds = 10\n",
        "seed = 7\n",
        "\n",
        "# Separando os dados em folds\n",
        "kfold = KFold(num_folds, shuffle = True, random_state = seed)\n",
        "\n",
        "# Criando o modelo\n",
        "modelo = LinearDiscriminantAnalysis()\n",
        "\n",
        "# Cross Validation\n",
        "resultado = cross_val_score(modelo, X, Y, cv = kfold)\n",
        "\n",
        "# Print do resultado\n",
        "print(\"Acurácia: %.3f\" % (resultado.mean() * 100))"
      ],
      "execution_count": 0,
      "outputs": [
        {
          "output_type": "stream",
          "text": [
            "Acurácia: 70.979\n"
          ],
          "name": "stdout"
        }
      ]
    },
    {
      "cell_type": "markdown",
      "metadata": {
        "id": "v-pSLiil2pqh",
        "colab_type": "text"
      },
      "source": [
        "### KNN (K-Nearest Neighbors)"
      ]
    },
    {
      "cell_type": "markdown",
      "metadata": {
        "id": "CnT6LsFU2pqh",
        "colab_type": "text"
      },
      "source": [
        "Algoritmo Não-Linear que utiliza uma métrica de distância para encontrar o valor de K mais adequado as instâncias do Dataset de treino."
      ]
    },
    {
      "cell_type": "code",
      "metadata": {
        "id": "GMXczJAi2pqi",
        "colab_type": "code",
        "colab": {},
        "outputId": "2aca2348-08d6-40ed-aaaf-d38d616c9d2b"
      },
      "source": [
        "# Import dos módulos\n",
        "from sklearn.model_selection import KFold\n",
        "from sklearn.model_selection import cross_val_score\n",
        "from sklearn.neighbors import KNeighborsClassifier\n",
        "\n",
        "array = dados.values\n",
        "\n",
        "# Separando o array em componentes de input e output\n",
        "X = array[:, 0:22]\n",
        "# X = rescaledX\n",
        "# X = normalizedX\n",
        "# X = standardX\n",
        "Y = array[:, 22]\n",
        "\n",
        "# Definindo os valores para o número de folds\n",
        "num_folds = 10\n",
        "random_state = 7\n",
        "\n",
        "# Separando os dados em folds\n",
        "kfold = KFold(num_folds, shuffle = True, random_state = random_state)\n",
        "\n",
        "# Criando o modelo\n",
        "modelo = KNeighborsClassifier()\n",
        "\n",
        "# Cross Validation\n",
        "results = cross_val_score(modelo, X, Y, cv = kfold)\n",
        "\n",
        "# Print do resultado\n",
        "print(\"Acurácia: %.3f\" % (resultado.mean() * 100))"
      ],
      "execution_count": 0,
      "outputs": [
        {
          "output_type": "stream",
          "text": [
            "Acurácia: 70.979\n"
          ],
          "name": "stdout"
        }
      ]
    },
    {
      "cell_type": "markdown",
      "metadata": {
        "id": "nIMW5EkR2pqm",
        "colab_type": "text"
      },
      "source": [
        "### Naive Bayes"
      ]
    },
    {
      "cell_type": "markdown",
      "metadata": {
        "id": "w6FxtZMr2pqm",
        "colab_type": "text"
      },
      "source": [
        "Algoritmo Não-Linear. Calcula a probabilidade de cada classe e a probabilidade condicional de cada classe dado uma variável de entrada. As probabilidades são então estimadas para os novos dados e multiplicadas, assumindo que são independentes (suposição simples ou Naive). Assume dados em distirbuição Gaussiana (Normal)"
      ]
    },
    {
      "cell_type": "code",
      "metadata": {
        "id": "E2kaEEO72pqm",
        "colab_type": "code",
        "colab": {},
        "outputId": "46f350e1-cfe3-4be8-8eec-dda2861ea98f"
      },
      "source": [
        "# Import dos módulos\n",
        "from sklearn.model_selection import KFold\n",
        "from sklearn.model_selection import cross_val_score\n",
        "from sklearn.naive_bayes import GaussianNB\n",
        "\n",
        "array = dados.values\n",
        "\n",
        "# Separando o array em componentes de input e output\n",
        "X = array[:, 0:22]\n",
        "# X = rescaledX\n",
        "# X = normalizedX\n",
        "# X = standardX\n",
        "Y = array[:, 22]\n",
        "\n",
        "# Definindo os valores para o número de folds\n",
        "num_folds = 10\n",
        "seed = 7\n",
        "\n",
        "# Separando os dados em folds\n",
        "kfold = KFold(num_folds, shuffle = True, random_state = seed)\n",
        "\n",
        "# Criando o modelo\n",
        "modelo = GaussianNB()\n",
        "\n",
        "# Cross Validation\n",
        "resultado = cross_val_score(modelo, X, Y, cv = kfold)\n",
        "\n",
        "# Print do resultado\n",
        "print(\"Acurácia: %.3f\" % (resultado.mean() * 100))"
      ],
      "execution_count": 0,
      "outputs": [
        {
          "output_type": "stream",
          "text": [
            "Acurácia: 59.772\n"
          ],
          "name": "stdout"
        }
      ]
    },
    {
      "cell_type": "markdown",
      "metadata": {
        "id": "_b1gypBw2pqo",
        "colab_type": "text"
      },
      "source": [
        "### CART (Classification and Regression Trees)"
      ]
    },
    {
      "cell_type": "markdown",
      "metadata": {
        "id": "hZ9gFV7q2pqp",
        "colab_type": "text"
      },
      "source": [
        "Algoritmo Não-Linear. O algoritmo CART constrói uma árvore binária a partir do Dataset de treino. Cada atributo e cada valor de cada atributo são avaliados com o objetivo de reduzir a função de custo (Cost Function)."
      ]
    },
    {
      "cell_type": "code",
      "metadata": {
        "id": "sMuF6nyX2pqp",
        "colab_type": "code",
        "colab": {},
        "outputId": "87ebe4dd-9bb1-4cc2-9e07-900ea3eca0d2"
      },
      "source": [
        "# Import dos módulos\n",
        "from sklearn.model_selection import KFold\n",
        "from sklearn.model_selection import cross_val_score\n",
        "from sklearn.tree import DecisionTreeClassifier\n",
        "\n",
        "array = dados.values\n",
        "\n",
        "# Separando o array em componentes de input e output\n",
        "X = array[:, 0:22]\n",
        "# X = rescaledX\n",
        "# X = normalizedX\n",
        "# X = standardX\n",
        "Y = array[:, 22]\n",
        "\n",
        "# Definindo os valores para o número de folds\n",
        "num_folds = 10\n",
        "seed = 7\n",
        "\n",
        "# Separando os dados em folds\n",
        "kfold = KFold(num_folds, shuffle = True, random_state = seed)\n",
        "\n",
        "# Criando o modelo\n",
        "modelo = DecisionTreeClassifier()\n",
        "\n",
        "# Cross Validation\n",
        "resultado = cross_val_score(modelo, X, Y, cv = kfold)\n",
        "\n",
        "# Print do resultado\n",
        "print(\"Acurácia: %.3f\" % (resultado.mean() * 100))"
      ],
      "execution_count": 0,
      "outputs": [
        {
          "output_type": "stream",
          "text": [
            "Acurácia: 67.053\n"
          ],
          "name": "stdout"
        }
      ]
    },
    {
      "cell_type": "markdown",
      "metadata": {
        "id": "_t6PQaX02pqs",
        "colab_type": "text"
      },
      "source": [
        "## Seleção do Modelo Preditivo"
      ]
    },
    {
      "cell_type": "code",
      "metadata": {
        "id": "5NqgaYtB2pqs",
        "colab_type": "code",
        "colab": {},
        "outputId": "932b867a-e627-45cd-95dc-89d869a9d446"
      },
      "source": [
        "# Import dos módulos\n",
        "import matplotlib.pyplot as plt\n",
        "from sklearn.model_selection import KFold\n",
        "from sklearn.model_selection import cross_val_score\n",
        "from sklearn.linear_model import LogisticRegression\n",
        "from sklearn.discriminant_analysis import LinearDiscriminantAnalysis\n",
        "from sklearn.naive_bayes import GaussianNB\n",
        "from sklearn.neighbors import KNeighborsClassifier\n",
        "from sklearn.tree import DecisionTreeClassifier\n",
        "\n",
        "array = dados.values\n",
        "\n",
        "# Separando o array em componentes de input e output\n",
        "X = array[:, 0:22]\n",
        "# X = rescaledX\n",
        "# X = normalizedX\n",
        "# X = standardX\n",
        "Y = array[:, 22]\n",
        "\n",
        "# Definindo os valores para o número de folds\n",
        "num_folds = 10\n",
        "seed = 7\n",
        "\n",
        "# Preparando a lista de modelos\n",
        "modelos = []\n",
        "modelos.append(('LR', LogisticRegression()))\n",
        "modelos.append(('LDA', LinearDiscriminantAnalysis()))\n",
        "modelos.append(('NB', GaussianNB()))\n",
        "modelos.append(('KNN', KNeighborsClassifier()))\n",
        "modelos.append(('CART', DecisionTreeClassifier()))\n",
        "\n",
        "# Avaliando cada modelo em um loop\n",
        "resultados = []\n",
        "nomes = []\n",
        "\n",
        "for nome, modelo in modelos:\n",
        "    kfold = KFold(n_splits = num_folds, shuffle = True, random_state = seed)\n",
        "    cv_results = cross_val_score(modelo, X, Y, cv = kfold, scoring = 'accuracy')\n",
        "    resultados.append(cv_results)\n",
        "    nomes.append(nome)\n",
        "    msg = \"%s: %f (%f)\" % (nome, cv_results.mean(), cv_results.std())\n",
        "    print(msg)\n",
        "\n",
        "# Boxplot para comparar os algoritmos\n",
        "fig = plt.figure()\n",
        "fig.suptitle('Comparação de Algoritmos de Classificação')\n",
        "ax = fig.add_subplot(111)\n",
        "plt.boxplot(resultados)\n",
        "ax.set_xticklabels(nomes)\n",
        "plt.show()"
      ],
      "execution_count": 0,
      "outputs": [
        {
          "output_type": "stream",
          "text": [
            "LR: 0.705355 (0.015672)\n",
            "LDA: 0.709786 (0.018710)\n",
            "NB: 0.597716 (0.020173)\n",
            "KNN: 0.624523 (0.025826)\n",
            "CART: 0.670949 (0.018657)\n"
          ],
          "name": "stdout"
        },
        {
          "output_type": "display_data",
          "data": {
            "image/png": "[encoded data removed]",
            "text/plain": [
              "<Figure size 432x288 with 1 Axes>"
            ]
          },
          "metadata": {
            "tags": [],
            "needs_background": "light"
          }
        }
      ]
    },
    {
      "cell_type": "markdown",
      "metadata": {
        "id": "1i4WuaxN2pqy",
        "colab_type": "text"
      },
      "source": [
        "Quanto menor o coeficiente de variação (CV), também conhecido como desvio padrão relativo (DPR), maior a precisão dos dados.\n",
        "\n",
        "CV ou DPR = Desvio Padrão / Média\n",
        "\n",
        "Avalie qual algoritmo oferecerá maior confiabilidade: \n",
        "\n",
        "LR  : 0.022218599145111328\n",
        "\n",
        "LDA : 0.026360057820244413\n",
        "\n",
        "NB  : 0.03375014220800514\n",
        "\n",
        "KNN : 0.04135316073227087\n",
        "\n",
        "CART: 0.025940868829076428"
      ]
    },
    {
      "cell_type": "code",
      "metadata": {
        "id": "u4B_4XR72pqy",
        "colab_type": "code",
        "colab": {},
        "outputId": "308df9a5-8b04-44e1-f9e8-959f7297caf6"
      },
      "source": [
        "# Desvio Padrão / Média \n",
        "# Cálculo do LR: 0.705355 (0.015672)\n",
        "0.015672 / 0.705355"
      ],
      "execution_count": 0,
      "outputs": [
        {
          "output_type": "execute_result",
          "data": {
            "text/plain": [
              "0.022218599145111328"
            ]
          },
          "metadata": {
            "tags": []
          },
          "execution_count": 64
        }
      ]
    },
    {
      "cell_type": "code",
      "metadata": {
        "id": "F7eSs1eY2pq0",
        "colab_type": "code",
        "colab": {},
        "outputId": "3aa2c51b-6302-4003-c64d-c8f98a2926de"
      },
      "source": [
        "# Desvio Padrão / Média \n",
        "# Cálculo do LDA: 0.709786 (0.018710)\n",
        "0.018710 / 0.709786"
      ],
      "execution_count": 0,
      "outputs": [
        {
          "output_type": "execute_result",
          "data": {
            "text/plain": [
              "0.026360057820244413"
            ]
          },
          "metadata": {
            "tags": []
          },
          "execution_count": 65
        }
      ]
    },
    {
      "cell_type": "code",
      "metadata": {
        "id": "lAY3GarN2pq2",
        "colab_type": "code",
        "colab": {},
        "outputId": "52b63a47-64b4-4439-8873-e1a06e5ce268"
      },
      "source": [
        "# Desvio Padrão / Média \n",
        "# Cálculo do NB: 0.597716 (0.020173)\n",
        "0.020173 / 0.597716"
      ],
      "execution_count": 0,
      "outputs": [
        {
          "output_type": "execute_result",
          "data": {
            "text/plain": [
              "0.03375014220800514"
            ]
          },
          "metadata": {
            "tags": []
          },
          "execution_count": 66
        }
      ]
    },
    {
      "cell_type": "code",
      "metadata": {
        "id": "oUaE1Qim2pq4",
        "colab_type": "code",
        "colab": {},
        "outputId": "2a23c68a-e018-4471-da92-d958614f911c"
      },
      "source": [
        "# Desvio Padrão / Média \n",
        "# Cálculo do KNN: 0.624523 (0.025826)\n",
        "0.025826 / 0.624523"
      ],
      "execution_count": 0,
      "outputs": [
        {
          "output_type": "execute_result",
          "data": {
            "text/plain": [
              "0.04135316073227087"
            ]
          },
          "metadata": {
            "tags": []
          },
          "execution_count": 67
        }
      ]
    },
    {
      "cell_type": "code",
      "metadata": {
        "id": "mJgfUvfZ2pq6",
        "colab_type": "code",
        "colab": {},
        "outputId": "c8ef348a-c560-432b-95b2-bffb9c227ca5"
      },
      "source": [
        "# Desvio Padrão / Média \n",
        "# Cálculo do CART: 0.670949 (0.017405)\n",
        "0.017405 / 0.670949"
      ],
      "execution_count": 0,
      "outputs": [
        {
          "output_type": "execute_result",
          "data": {
            "text/plain": [
              "0.025940868829076428"
            ]
          },
          "metadata": {
            "tags": []
          },
          "execution_count": 68
        }
      ]
    },
    {
      "cell_type": "markdown",
      "metadata": {
        "id": "zNoQ0nut2pq8",
        "colab_type": "text"
      },
      "source": [
        "Conclusão o LR é mais confiável mesmo com o LDA tendo uma média melhor "
      ]
    },
    {
      "cell_type": "markdown",
      "metadata": {
        "id": "ORywCjns2pq-",
        "colab_type": "text"
      },
      "source": [
        "### Otimização do Modelo - Ajuste de Hyperparâmetros"
      ]
    },
    {
      "cell_type": "markdown",
      "metadata": {
        "id": "dWsmRJvS2pq_",
        "colab_type": "text"
      },
      "source": [
        "Todos os algoritmos de Machine Learning são parametrizados, o que significa que você pode ajustar a performance do seu modelo preditivo através do \"tuning\" (ajuste fino) dos parâmetros. \n",
        "\n",
        "(!!!) É importantíssimo encontrar a melhor combinação entre os parâmetros em cada algoritmo de Machine Learning, e esse processo também é chamado de Otimização de Hyperparâmetros.\n",
        "\n",
        "O scikit-learn oferece dois métodos para otimização automática dos parâmetros: Grid Search Parameter Tuning e Random Search Parameter Tuning. "
      ]
    },
    {
      "cell_type": "markdown",
      "metadata": {
        "id": "DsLlw6DD2pq_",
        "colab_type": "text"
      },
      "source": [
        "#### Grid Search Parameter Tuning"
      ]
    },
    {
      "cell_type": "markdown",
      "metadata": {
        "id": "Aw23Lcuh2pq_",
        "colab_type": "text"
      },
      "source": [
        "Este método realiza combinações entre todos os parâmetros do algoritmo, criando um grid. Vamos experimentar este método utilizando o algoritmo de Regressão Logística. "
      ]
    },
    {
      "cell_type": "code",
      "metadata": {
        "id": "79205Eb52prA",
        "colab_type": "code",
        "colab": {},
        "outputId": "e06e58fb-9976-494e-b2ca-c9836439be80"
      },
      "source": [
        "# Import dos módulos\n",
        "from sklearn.model_selection import GridSearchCV\n",
        "from sklearn.linear_model import LogisticRegression\n",
        "\n",
        "array = dados.values\n",
        "\n",
        "# Separando o array em componentes de input e output\n",
        "X = array[:, 0:22]\n",
        "# X = rescaledX\n",
        "# X = normalizedX\n",
        "# X = standardX\n",
        "Y = array[:, 22]\n",
        "\n",
        "# Definindo os valores que serão testados\n",
        "valores_grid = {'penalty': ['l1','l2'], 'C': [0.001, 0.01, 0.1, 1, 10, 100, 1000]}\n",
        "\n",
        "# Criando o modelo\n",
        "modelo = LogisticRegression()\n",
        "\n",
        "# Criando o grid\n",
        "grid = GridSearchCV(estimator = modelo, param_grid = valores_grid)\n",
        "grid.fit(X, Y)\n",
        "\n",
        "# Print do resultado\n",
        "print(\"Acurácia: %.3f\" % (grid.best_score_ * 100))\n",
        "print(\"Melhores Parâmetros do Modelo:\\n\", grid.best_estimator_)"
      ],
      "execution_count": 0,
      "outputs": [
        {
          "output_type": "stream",
          "text": [
            "C:\\Users\\Sandro\\Anaconda3\\lib\\site-packages\\sklearn\\svm\\base.py:931: ConvergenceWarning: Liblinear failed to converge, increase the number of iterations.\n",
            "  \"the number of iterations.\", ConvergenceWarning)\n",
            "C:\\Users\\Sandro\\Anaconda3\\lib\\site-packages\\sklearn\\svm\\base.py:931: ConvergenceWarning: Liblinear failed to converge, increase the number of iterations.\n",
            "  \"the number of iterations.\", ConvergenceWarning)\n",
            "C:\\Users\\Sandro\\Anaconda3\\lib\\site-packages\\sklearn\\svm\\base.py:931: ConvergenceWarning: Liblinear failed to converge, increase the number of iterations.\n",
            "  \"the number of iterations.\", ConvergenceWarning)\n",
            "C:\\Users\\Sandro\\Anaconda3\\lib\\site-packages\\sklearn\\svm\\base.py:931: ConvergenceWarning: Liblinear failed to converge, increase the number of iterations.\n",
            "  \"the number of iterations.\", ConvergenceWarning)\n",
            "C:\\Users\\Sandro\\Anaconda3\\lib\\site-packages\\sklearn\\svm\\base.py:931: ConvergenceWarning: Liblinear failed to converge, increase the number of iterations.\n",
            "  \"the number of iterations.\", ConvergenceWarning)\n",
            "C:\\Users\\Sandro\\Anaconda3\\lib\\site-packages\\sklearn\\svm\\base.py:931: ConvergenceWarning: Liblinear failed to converge, increase the number of iterations.\n",
            "  \"the number of iterations.\", ConvergenceWarning)\n",
            "C:\\Users\\Sandro\\Anaconda3\\lib\\site-packages\\sklearn\\svm\\base.py:931: ConvergenceWarning: Liblinear failed to converge, increase the number of iterations.\n",
            "  \"the number of iterations.\", ConvergenceWarning)\n"
          ],
          "name": "stderr"
        },
        {
          "output_type": "stream",
          "text": [
            "Acurácia: 71.064\n",
            "Melhores Parâmetros do Modelo:\n",
            " LogisticRegression(C=0.1, class_weight=None, dual=False, fit_intercept=True,\n",
            "          intercept_scaling=1, max_iter=100, multi_class='warn',\n",
            "          n_jobs=None, penalty='l2', random_state=None, solver='warn',\n",
            "          tol=0.0001, verbose=0, warm_start=False)\n"
          ],
          "name": "stdout"
        },
        {
          "output_type": "stream",
          "text": [
            "C:\\Users\\Sandro\\Anaconda3\\lib\\site-packages\\sklearn\\svm\\base.py:931: ConvergenceWarning: Liblinear failed to converge, increase the number of iterations.\n",
            "  \"the number of iterations.\", ConvergenceWarning)\n"
          ],
          "name": "stderr"
        }
      ]
    },
    {
      "cell_type": "markdown",
      "metadata": {
        "id": "7zeaYCfp2prC",
        "colab_type": "text"
      },
      "source": [
        "#### Random Search Parameter Tuning"
      ]
    },
    {
      "cell_type": "markdown",
      "metadata": {
        "id": "iUJohpca2prC",
        "colab_type": "text"
      },
      "source": [
        "Este método gera amostras dos parâmetros dos algoritmos a partir de uma distribuição randômica uniforme para um número fixo de iterações. Um modelo é construído e testado para cada combinação de parâmetros."
      ]
    },
    {
      "cell_type": "code",
      "metadata": {
        "id": "OTgV0RGY2prD",
        "colab_type": "code",
        "colab": {},
        "outputId": "e091aaf0-a22f-43f1-fa2d-6c46cf4bf04e"
      },
      "source": [
        "# Import dos módulos\n",
        "from sklearn.model_selection import RandomizedSearchCV\n",
        "from sklearn.linear_model import LogisticRegression\n",
        "\n",
        "array = dados.values\n",
        "\n",
        "# Separando o array em componentes de input e output\n",
        "X = array[:, 0:22]\n",
        "# X = rescaledX\n",
        "# X = normalizedX\n",
        "# X = standardX\n",
        "Y = array[:, 22]\n",
        "\n",
        "# Definindo os valores que serão testados\n",
        "seed = 7\n",
        "iterations = 14\n",
        "\n",
        "# Definindo os valores que serão testados\n",
        "valores_grid = {'penalty': ['l1','l2'], 'C': [0.001, 0.01, 0.1, 1, 10, 100, 1000]}\n",
        "\n",
        "# Criando o modelo\n",
        "modelo = LogisticRegression()\n",
        "\n",
        "# Criando o grid\n",
        "rsearch = RandomizedSearchCV(estimator = modelo, \n",
        "                             param_distributions = valores_grid, \n",
        "                             n_iter = iterations, \n",
        "                             random_state = seed)\n",
        "rsearch.fit(X, Y)\n",
        "\n",
        "# Print dos resultados\n",
        "print(\"Acurácia: %.3f\" % (rsearch.best_score_ * 100))\n",
        "print(\"Melhores Parâmetros do Modelo:\\n\", rsearch.best_estimator_)"
      ],
      "execution_count": 0,
      "outputs": [
        {
          "output_type": "stream",
          "text": [
            "C:\\Users\\Sandro\\Anaconda3\\lib\\site-packages\\sklearn\\svm\\base.py:931: ConvergenceWarning: Liblinear failed to converge, increase the number of iterations.\n",
            "  \"the number of iterations.\", ConvergenceWarning)\n",
            "C:\\Users\\Sandro\\Anaconda3\\lib\\site-packages\\sklearn\\svm\\base.py:931: ConvergenceWarning: Liblinear failed to converge, increase the number of iterations.\n",
            "  \"the number of iterations.\", ConvergenceWarning)\n",
            "C:\\Users\\Sandro\\Anaconda3\\lib\\site-packages\\sklearn\\svm\\base.py:931: ConvergenceWarning: Liblinear failed to converge, increase the number of iterations.\n",
            "  \"the number of iterations.\", ConvergenceWarning)\n",
            "C:\\Users\\Sandro\\Anaconda3\\lib\\site-packages\\sklearn\\svm\\base.py:931: ConvergenceWarning: Liblinear failed to converge, increase the number of iterations.\n",
            "  \"the number of iterations.\", ConvergenceWarning)\n",
            "C:\\Users\\Sandro\\Anaconda3\\lib\\site-packages\\sklearn\\svm\\base.py:931: ConvergenceWarning: Liblinear failed to converge, increase the number of iterations.\n",
            "  \"the number of iterations.\", ConvergenceWarning)\n",
            "C:\\Users\\Sandro\\Anaconda3\\lib\\site-packages\\sklearn\\svm\\base.py:931: ConvergenceWarning: Liblinear failed to converge, increase the number of iterations.\n",
            "  \"the number of iterations.\", ConvergenceWarning)\n"
          ],
          "name": "stderr"
        },
        {
          "output_type": "stream",
          "text": [
            "Acurácia: 71.064\n",
            "Melhores Parâmetros do Modelo:\n",
            " LogisticRegression(C=0.1, class_weight=None, dual=False, fit_intercept=True,\n",
            "          intercept_scaling=1, max_iter=100, multi_class='warn',\n",
            "          n_jobs=None, penalty='l2', random_state=None, solver='warn',\n",
            "          tol=0.0001, verbose=0, warm_start=False)\n"
          ],
          "name": "stdout"
        },
        {
          "output_type": "stream",
          "text": [
            "C:\\Users\\Sandro\\Anaconda3\\lib\\site-packages\\sklearn\\svm\\base.py:931: ConvergenceWarning: Liblinear failed to converge, increase the number of iterations.\n",
            "  \"the number of iterations.\", ConvergenceWarning)\n"
          ],
          "name": "stderr"
        }
      ]
    },
    {
      "cell_type": "markdown",
      "metadata": {
        "id": "_B7cfoob2prE",
        "colab_type": "text"
      },
      "source": [
        "## Otimizando Performance com Métodos Ensemble"
      ]
    },
    {
      "cell_type": "markdown",
      "metadata": {
        "id": "hAt3YAEW2prF",
        "colab_type": "text"
      },
      "source": [
        "Métodos Ensemble permitem aumentar consideravelmente o nível de precisão nas suas previsões. Vamos criar alguns dos Métodos Ensemble mais poderosos em Python, dos quais 3 principais para combinar previsões a partir de diferentes modelos:"
      ]
    },
    {
      "cell_type": "markdown",
      "metadata": {
        "id": "5jmZVQl22prG",
        "colab_type": "text"
      },
      "source": [
        "Bagging - Para construção de múltiplos modelos (normalmente do mesmo tipo) a partir de diferentes subsets no dataset de treino."
      ]
    },
    {
      "cell_type": "markdown",
      "metadata": {
        "id": "UIdWEli42prG",
        "colab_type": "text"
      },
      "source": [
        "Boosting - Para construção de múltiplos modelos (normalmente do mesmo tipo), onde cada modelo aprende a corrigir os erros gerados pelo modelo anterior, dentro da sequência de modelos criados."
      ]
    },
    {
      "cell_type": "markdown",
      "metadata": {
        "id": "qgHfrr_w2prG",
        "colab_type": "text"
      },
      "source": [
        "Voting - Para construção de múltiplos modelos (normalmente de tipos diferentes) e estatísticas simples (como a média) são usadas para combinar as previsões."
      ]
    },
    {
      "cell_type": "markdown",
      "metadata": {
        "id": "YUSGT50r2prH",
        "colab_type": "text"
      },
      "source": [
        "### Bagged Decision Trees"
      ]
    },
    {
      "cell_type": "markdown",
      "metadata": {
        "id": "9P6wO9jj2prH",
        "colab_type": "text"
      },
      "source": [
        "Funciona bem quando existe alta variância nos dados"
      ]
    },
    {
      "cell_type": "code",
      "metadata": {
        "id": "fLYgUvUl2prH",
        "colab_type": "code",
        "colab": {},
        "outputId": "66921744-245e-4d64-8aa5-62af4a909983"
      },
      "source": [
        "# Import dos módulos\n",
        "from sklearn.model_selection import KFold\n",
        "from sklearn.model_selection import cross_val_score\n",
        "from sklearn.ensemble import BaggingClassifier\n",
        "from sklearn.tree import DecisionTreeClassifier\n",
        "\n",
        "array = dados.values\n",
        "\n",
        "# Separando o array em componentes de input e output\n",
        "X = array[:, 0:22]\n",
        "# X = rescaledX\n",
        "# X = normalizedX\n",
        "# X = standardX\n",
        "Y = array[:, 22]\n",
        "\n",
        "# Definindo os valores para o número de folds\n",
        "num_folds = 10\n",
        "seed = 7\n",
        "\n",
        "# Separando os dados em folds\n",
        "kfold = KFold(num_folds, shuffle = True, random_state = seed)\n",
        "\n",
        "# Cria o modelo unitário (classificador fraco)\n",
        "cart = DecisionTreeClassifier()\n",
        "\n",
        "# Definindo o número de trees\n",
        "num_trees = 100\n",
        "\n",
        "# Criando o modelo bagging\n",
        "modelo = BaggingClassifier(base_estimator = cart, \n",
        "                           n_estimators = num_trees, \n",
        "                           random_state = seed)\n",
        "\n",
        "# Cross Validation\n",
        "resultado = cross_val_score(modelo, X, Y, cv = kfold)\n",
        "\n",
        "# Print do resultado\n",
        "print(\"Acurácia: %.3f\" % (resultado.mean() * 100))"
      ],
      "execution_count": 0,
      "outputs": [
        {
          "output_type": "stream",
          "text": [
            "Acurácia: 68.108\n"
          ],
          "name": "stdout"
        }
      ]
    },
    {
      "cell_type": "markdown",
      "metadata": {
        "id": "BOaK1Gwk2prJ",
        "colab_type": "text"
      },
      "source": [
        "### Random Forest"
      ]
    },
    {
      "cell_type": "markdown",
      "metadata": {
        "id": "g6GUkyqK2prJ",
        "colab_type": "text"
      },
      "source": [
        "Random Forest é uma extensão do Baggig Decision Tree. Amostras do Dataset de treino são usadas com reposição, mas as árvores são criadas de uma forma que reduz a correlação entre classificadores individuais (Random Forest é um conjunto de árvores de decisão)."
      ]
    },
    {
      "cell_type": "code",
      "metadata": {
        "id": "c85KwbBd2prK",
        "colab_type": "code",
        "colab": {},
        "outputId": "e4f9d1af-aaa1-4d48-f38a-7dbfd7b3bbf2"
      },
      "source": [
        "# Import dos módulos\n",
        "from sklearn.model_selection import KFold\n",
        "from sklearn.model_selection import cross_val_score\n",
        "from sklearn.ensemble import RandomForestClassifier\n",
        "\n",
        "array = dados.values\n",
        "\n",
        "# Separando o array em componentes de input e output\n",
        "X = array[:, 0:22]\n",
        "# X = rescaledX\n",
        "# X = normalizedX\n",
        "# X = standardX\n",
        "Y = array[:, 22]\n",
        "\n",
        "# Definindo os valores para o número de folds\n",
        "num_folds = 10\n",
        "seed = 7\n",
        "\n",
        "# Definindo o número de trees\n",
        "num_trees = 100\n",
        "max_features = 5\n",
        "\n",
        "# Separando os dados em folds\n",
        "kfold = KFold(num_folds, shuffle = True, random_state = seed)\n",
        "\n",
        "# Criando o modelo\n",
        "modelo = RandomForestClassifier(n_estimators = num_trees, \n",
        "                                max_features = max_features, \n",
        "                                random_state = seed)\n",
        "\n",
        "# Cross Validation\n",
        "resultado = cross_val_score(modelo, X, Y, cv = kfold)\n",
        "\n",
        "# Print do resultado\n",
        "print(\"Acurácia: %.3f\" % (resultado.mean() * 100))"
      ],
      "execution_count": 0,
      "outputs": [
        {
          "output_type": "stream",
          "text": [
            "Acurácia: 68.551\n"
          ],
          "name": "stdout"
        }
      ]
    },
    {
      "cell_type": "markdown",
      "metadata": {
        "id": "861FKqo12prL",
        "colab_type": "text"
      },
      "source": [
        "### AdaBoost"
      ]
    },
    {
      "cell_type": "markdown",
      "metadata": {
        "id": "QZi7RLh52prL",
        "colab_type": "text"
      },
      "source": [
        "Algoritmos baseados em Boosting Ensemble criam uma sequência de modelos que tentam corrigir os erros dos modelos anteriores dentro da sequência. Uma vez criados, os modelos fazem previsões que podem receber um peso de acordo com sua acurácia e os resultados são combinados para criar uma previsão única final. "
      ]
    },
    {
      "cell_type": "markdown",
      "metadata": {
        "id": "NsbaYGSk2prM",
        "colab_type": "text"
      },
      "source": [
        "O AdaBoost atribui pesos às instâncias no Dataset, definindo quão fácil ou difícil elas são para o processo de classificação, permitindo que o algoritmo tenha mais ou menos atenção às instâncias durante o processo de construção dos modelos."
      ]
    },
    {
      "cell_type": "code",
      "metadata": {
        "id": "lJ7RfZrI2prM",
        "colab_type": "code",
        "colab": {},
        "outputId": "9c768992-32cc-4884-986b-112c37a9b30f"
      },
      "source": [
        "# Import dos módulos\n",
        "from sklearn.model_selection import KFold\n",
        "from sklearn.model_selection import cross_val_score\n",
        "from sklearn.ensemble import AdaBoostClassifier\n",
        "\n",
        "array = dados.values\n",
        "\n",
        "# Separando o array em componentes de input e output\n",
        "X = array[:, 0:22]\n",
        "# X = rescaledX\n",
        "# X = normalizedX\n",
        "# X = standardX\n",
        "Y = array[:, 22]\n",
        "\n",
        "# Definindo os valores para o número de folds\n",
        "num_folds = 10\n",
        "seed = 7\n",
        "\n",
        "# Definindo o número de trees\n",
        "num_trees = 30\n",
        "\n",
        "# Separando os dados em folds\n",
        "kfold = KFold(num_folds, shuffle = True, random_state = seed)\n",
        "\n",
        "# Criando o modelo\n",
        "modelo = AdaBoostClassifier(n_estimators = num_trees, random_state = seed)\n",
        "\n",
        "# Cross Validation\n",
        "resultado = cross_val_score(modelo, X, Y, cv = kfold)\n",
        "\n",
        "# Print do resultado\n",
        "print(\"Acurácia: %.3f\" % (resultado.mean() * 100))"
      ],
      "execution_count": 0,
      "outputs": [
        {
          "output_type": "stream",
          "text": [
            "Acurácia: 70.662\n"
          ],
          "name": "stdout"
        }
      ]
    },
    {
      "cell_type": "markdown",
      "metadata": {
        "id": "FId9Mr9_2prO",
        "colab_type": "text"
      },
      "source": [
        "### Gradient Boosting"
      ]
    },
    {
      "cell_type": "markdown",
      "metadata": {
        "id": "pyFKj-Wo2prO",
        "colab_type": "text"
      },
      "source": [
        "Também chamado Stochastic Gradient Boosting, é um dos métodos Ensemble mais sofisticados."
      ]
    },
    {
      "cell_type": "code",
      "metadata": {
        "id": "YLBxoQ5P2prP",
        "colab_type": "code",
        "colab": {},
        "outputId": "30b59e80-29da-4a39-c47f-dbf54dd4c94e"
      },
      "source": [
        "# Import dos módulos\n",
        "from sklearn.model_selection import KFold\n",
        "from sklearn.model_selection import cross_val_score\n",
        "from sklearn.ensemble import GradientBoostingClassifier\n",
        "\n",
        "array = dados.values\n",
        "\n",
        "# Separando o array em componentes de input e output\n",
        "X = array[:, 0:22]\n",
        "# X = rescaledX\n",
        "# X = normalizedX\n",
        "# X = standardX\n",
        "Y = array[:, 22]\n",
        "\n",
        "# Definindo os valores para o número de folds\n",
        "num_folds = 10\n",
        "seed = 7\n",
        "\n",
        "# Definindo o número de trees\n",
        "num_trees = 100\n",
        "\n",
        "# Separando os dados em folds\n",
        "kfold = KFold(num_folds, shuffle = True, random_state = seed)\n",
        "\n",
        "# Criando o modelo\n",
        "modelo = GradientBoostingClassifier(n_estimators = num_trees, random_state = seed)\n",
        "\n",
        "# Cross Validation\n",
        "resultado = cross_val_score(modelo, X, Y, cv = kfold)\n",
        "\n",
        "# Print do resultado\n",
        "print(\"Acurácia: %.3f\" % (resultado.mean() * 100))"
      ],
      "execution_count": 0,
      "outputs": [
        {
          "output_type": "stream",
          "text": [
            "Acurácia: 71.274\n"
          ],
          "name": "stdout"
        }
      ]
    },
    {
      "cell_type": "markdown",
      "metadata": {
        "id": "nwtniXNs2prR",
        "colab_type": "text"
      },
      "source": [
        "### Voting Ensemble"
      ]
    },
    {
      "cell_type": "markdown",
      "metadata": {
        "id": "vPP1IUCV2prR",
        "colab_type": "text"
      },
      "source": [
        "Este é um dos métodos Ensemble mais simples. Este método cria dois ou mais modelos separados a partir do Dataset de treino. O Classificador Voting então utiliza a média das previsões de cada sub-modelo para fazer as previsões em novos conjuntos de dados. As previsões de cada sub-modelo podem receber pesos, através de parâmetros definidos manualmente ou através de heurística."
      ]
    },
    {
      "cell_type": "code",
      "metadata": {
        "id": "dNlqgec52prR",
        "colab_type": "code",
        "colab": {},
        "outputId": "111c6ba7-ad02-4fc0-f939-af1506bdc79e"
      },
      "source": [
        "# Import dos módulos\n",
        "from sklearn.model_selection import KFold\n",
        "from sklearn.model_selection import cross_val_score\n",
        "from sklearn.linear_model import LogisticRegression\n",
        "from sklearn.tree import DecisionTreeClassifier\n",
        "from sklearn.svm import SVC\n",
        "from sklearn.ensemble import VotingClassifier\n",
        "\n",
        "array = dados.values\n",
        "\n",
        "# Separando o array em componentes de input e output\n",
        "X = array[:, 0:22]\n",
        "# X = rescaledX\n",
        "# X = normalizedX\n",
        "# X = standardX\n",
        "Y = array[:, 22]\n",
        "\n",
        "# Definindo os valores para o número de folds\n",
        "num_folds = 10\n",
        "seed = 7\n",
        "\n",
        "# Separando os dados em folds\n",
        "kfold = KFold(num_folds, shuffle = True, random_state = seed)\n",
        "\n",
        "# Criando os modelos\n",
        "estimators = []\n",
        "\n",
        "modelo1 = LogisticRegression()\n",
        "estimators.append(('logistic', modelo1))\n",
        "\n",
        "modelo2 = DecisionTreeClassifier()\n",
        "estimators.append(('cart', modelo2))\n",
        "\n",
        "modelo3 = SVC()\n",
        "estimators.append(('svm', modelo3))\n",
        "\n",
        "# Criando o modelo ensemble\n",
        "ensemble = VotingClassifier(estimators)\n",
        "\n",
        "# Cross Validation\n",
        "resultado = cross_val_score(ensemble, X, Y, cv = kfold)\n",
        "\n",
        "# Resultado\n",
        "print(\"Acurácia: %.3f\" % (resultado.mean() * 100))"
      ],
      "execution_count": 0,
      "outputs": [
        {
          "output_type": "stream",
          "text": [
            "Acurácia: 70.641\n"
          ],
          "name": "stdout"
        }
      ]
    },
    {
      "cell_type": "markdown",
      "metadata": {
        "id": "uShmSXGV2prU",
        "colab_type": "text"
      },
      "source": [
        "##### Desenvolva abaixo uma nova abordagem utilizando as variáveis selecionadas pela Eliminação Recursiva de Atributos (Recursive Feature Elimination - RFE)"
      ]
    },
    {
      "cell_type": "code",
      "metadata": {
        "id": "WnS0NF7f2prU",
        "colab_type": "code",
        "colab": {}
      },
      "source": [
        "# your code here...\n",
        "# Atividade realizada em 28/09/2019\n",
        "#dados.shape\n",
        "#dados.describe()\n",
        "#dados.columns"
      ],
      "execution_count": 0,
      "outputs": []
    },
    {
      "cell_type": "code",
      "metadata": {
        "id": "1N8is8mF2prV",
        "colab_type": "code",
        "colab": {}
      },
      "source": [
        "# criando dados exercicio\n",
        "dados_exerc = dados"
      ],
      "execution_count": 0,
      "outputs": []
    },
    {
      "cell_type": "code",
      "metadata": {
        "id": "sKqw02Qr2prX",
        "colab_type": "code",
        "colab": {},
        "outputId": "12866f1f-314d-4a84-93b4-e0f355593072"
      },
      "source": [
        "dados_exerc.columns"
      ],
      "execution_count": 0,
      "outputs": [
        {
          "output_type": "execute_result",
          "data": {
            "text/plain": [
              "Index(['T_num', 'PA_num', 'FR_num', 'P_num', 'SpO2_num', 'insulina_dependente',\n",
              "       'pac_oncologico', 'int_p_queda', 'prec_tipo_UPA', 'prot_UPA_AVC',\n",
              "       'prot_UPA_IAM', 'prot_UPA_SEPSE', 'recursos_ESI', 'upa_avaliacao_dor',\n",
              "       'avaliacao_dor_PAINAD', 'cardiologia_UPA', 'escala_verbal_numerica',\n",
              "       'esi_level_2', 'hematologia_UPA', 'medico_externo_UPA',\n",
              "       'nivel_recomendado_ESI', 'oncologia_UPA', 'Interna_num'],\n",
              "      dtype='object')"
            ]
          },
          "metadata": {
            "tags": []
          },
          "execution_count": 78
        }
      ]
    },
    {
      "cell_type": "code",
      "metadata": {
        "id": "KAg0g2lv2prc",
        "colab_type": "code",
        "colab": {}
      },
      "source": [
        "rescaledX_exerc = rescaledX"
      ],
      "execution_count": 0,
      "outputs": []
    },
    {
      "cell_type": "code",
      "metadata": {
        "id": "NfPBeKJJ2prd",
        "colab_type": "code",
        "colab": {}
      },
      "source": [
        "normalizedX_exerc = normalizedX"
      ],
      "execution_count": 0,
      "outputs": []
    },
    {
      "cell_type": "code",
      "metadata": {
        "id": "9ag9noyt2prf",
        "colab_type": "code",
        "colab": {}
      },
      "source": [
        "standardX_exerc = standardX"
      ],
      "execution_count": 0,
      "outputs": []
    },
    {
      "cell_type": "code",
      "metadata": {
        "id": "SRzXP3ns2prg",
        "colab_type": "code",
        "colab": {},
        "outputId": "22a25257-4cf7-4d05-cf3b-0df52f4828b7"
      },
      "source": [
        "dados_exerc.shape"
      ],
      "execution_count": 0,
      "outputs": [
        {
          "output_type": "execute_result",
          "data": {
            "text/plain": [
              "(4738, 23)"
            ]
          },
          "metadata": {
            "tags": []
          },
          "execution_count": 82
        }
      ]
    },
    {
      "cell_type": "code",
      "metadata": {
        "id": "7Rg6ZGv92pri",
        "colab_type": "code",
        "colab": {},
        "outputId": "38b8ce2d-f395-45d2-9e72-9d4a44abbc79"
      },
      "source": [
        "rescaledX_exerc.shape"
      ],
      "execution_count": 0,
      "outputs": [
        {
          "output_type": "execute_result",
          "data": {
            "text/plain": [
              "(4738, 22)"
            ]
          },
          "metadata": {
            "tags": []
          },
          "execution_count": 83
        }
      ]
    },
    {
      "cell_type": "code",
      "metadata": {
        "id": "jWh2Yji12prj",
        "colab_type": "code",
        "colab": {},
        "outputId": "21ec5ca7-d36d-4481-d74a-b7419598dff1"
      },
      "source": [
        "normalizedX_exerc.shape"
      ],
      "execution_count": 0,
      "outputs": [
        {
          "output_type": "execute_result",
          "data": {
            "text/plain": [
              "(4738, 22)"
            ]
          },
          "metadata": {
            "tags": []
          },
          "execution_count": 84
        }
      ]
    },
    {
      "cell_type": "code",
      "metadata": {
        "id": "X8EkkoC-2prl",
        "colab_type": "code",
        "colab": {},
        "outputId": "e2560534-458c-4073-f72f-b7573f848e74"
      },
      "source": [
        "standardX_exerc.shape"
      ],
      "execution_count": 0,
      "outputs": [
        {
          "output_type": "execute_result",
          "data": {
            "text/plain": [
              "(4738, 22)"
            ]
          },
          "metadata": {
            "tags": []
          },
          "execution_count": 85
        }
      ]
    },
    {
      "cell_type": "code",
      "metadata": {
        "id": "yAZ4PGp82prm",
        "colab_type": "code",
        "colab": {}
      },
      "source": [
        "# Remover a coluna recursos_ESI"
      ],
      "execution_count": 0,
      "outputs": []
    },
    {
      "cell_type": "code",
      "metadata": {
        "id": "Q1J-DccP2pro",
        "colab_type": "code",
        "colab": {}
      },
      "source": [
        "# Colunas para deletar\n",
        "# col2del = ['T_num', 'P_num']\n",
        "\n",
        "# Deleta as colunas\n",
        "# dados.drop(col2del, axis = 1, inplace = True) # 'axis' = 0 (row) | axis = 1 (column)\n",
        "\n",
        "# print(dados.shape)\n",
        "\n",
        "# dados.head()"
      ],
      "execution_count": 0,
      "outputs": []
    },
    {
      "cell_type": "code",
      "metadata": {
        "id": "fwzYsM-F2prq",
        "colab_type": "code",
        "colab": {}
      },
      "source": [
        "# rescaledX = np.delete(rescaledX, obj = [0, 3], axis = 1) # 'axis' = 0 (row) | axis = 1 (column)\n",
        "\n",
        "# print(rescaledX.shape)\n",
        "# print(rescaledX)"
      ],
      "execution_count": 0,
      "outputs": []
    },
    {
      "cell_type": "code",
      "metadata": {
        "id": "PvKM_5xK2prs",
        "colab_type": "code",
        "colab": {}
      },
      "source": [
        "# normalizedX = np.delete(normalizedX, [0, 3], axis = 1) # 'axis' = 0 (row) | axis = 1 (column)\n",
        "\n",
        "# print(normalizedX.shape)\n",
        "# print(normalizedX)"
      ],
      "execution_count": 0,
      "outputs": []
    },
    {
      "cell_type": "code",
      "metadata": {
        "id": "lIRhfgJp2prt",
        "colab_type": "code",
        "colab": {}
      },
      "source": [
        "# standardX = np.delete(standardX, [0, 3], 1) # 'axis' = 0 (row) | axis = 1 (column)\n",
        "\n",
        "# print(standardX.shape)\n",
        "# print(standardX)"
      ],
      "execution_count": 0,
      "outputs": []
    },
    {
      "cell_type": "code",
      "metadata": {
        "id": "VrF1n-x12prv",
        "colab_type": "code",
        "colab": {}
      },
      "source": [
        "# Remoção recursos_ESI\n",
        "dados_exerc.drop('recursos_ESI', axis = 1, inplace = True) # 'axis' = 0 (row) | axis = 1 (column)"
      ],
      "execution_count": 0,
      "outputs": []
    },
    {
      "cell_type": "code",
      "metadata": {
        "id": "KPSSkO0w2prw",
        "colab_type": "code",
        "colab": {},
        "outputId": "c3772f64-aa4f-4715-eb8f-622af458318b"
      },
      "source": [
        "dados_exerc.shape"
      ],
      "execution_count": 0,
      "outputs": [
        {
          "output_type": "execute_result",
          "data": {
            "text/plain": [
              "(4738, 22)"
            ]
          },
          "metadata": {
            "tags": []
          },
          "execution_count": 92
        }
      ]
    },
    {
      "cell_type": "code",
      "metadata": {
        "id": "TulrLK282pry",
        "colab_type": "code",
        "colab": {},
        "outputId": "82f8c2c4-2ec0-48b2-8f14-c2a8f5f648e0"
      },
      "source": [
        "dados_exerc.columns"
      ],
      "execution_count": 0,
      "outputs": [
        {
          "output_type": "execute_result",
          "data": {
            "text/plain": [
              "Index(['T_num', 'PA_num', 'FR_num', 'P_num', 'SpO2_num', 'insulina_dependente',\n",
              "       'pac_oncologico', 'int_p_queda', 'prec_tipo_UPA', 'prot_UPA_AVC',\n",
              "       'prot_UPA_IAM', 'prot_UPA_SEPSE', 'upa_avaliacao_dor',\n",
              "       'avaliacao_dor_PAINAD', 'cardiologia_UPA', 'escala_verbal_numerica',\n",
              "       'esi_level_2', 'hematologia_UPA', 'medico_externo_UPA',\n",
              "       'nivel_recomendado_ESI', 'oncologia_UPA', 'Interna_num'],\n",
              "      dtype='object')"
            ]
          },
          "metadata": {
            "tags": []
          },
          "execution_count": 93
        }
      ]
    },
    {
      "cell_type": "code",
      "metadata": {
        "scrolled": true,
        "id": "1FyBspkT2pr1",
        "colab_type": "code",
        "colab": {},
        "outputId": "27410336-84cd-4e65-bc42-aefe1a193b0e"
      },
      "source": [
        "# Excluindo rescaledX_exerc\n",
        "rescaledX_exerc = np.delete(rescaledX_exerc, obj = [12], axis = 1) # 'axis' = 0 (row) | axis = 1 (column)\n",
        "\n",
        "print(rescaledX_exerc.shape)\n",
        "print(rescaledX_exerc)"
      ],
      "execution_count": 0,
      "outputs": [
        {
          "output_type": "stream",
          "text": [
            "(4738, 21)\n",
            "[[0.25       0.25       0.5        ... 0.         0.66666667 0.        ]\n",
            " [0.25       0.25       0.5        ... 0.         0.66666667 0.        ]\n",
            " [0.25       0.25       0.5        ... 0.         0.66666667 0.        ]\n",
            " ...\n",
            " [0.25       0.5        0.5        ... 0.         0.33333333 1.        ]\n",
            " [0.25       0.25       0.5        ... 0.         0.33333333 0.        ]\n",
            " [0.25       0.5        0.5        ... 0.         0.33333333 0.        ]]\n"
          ],
          "name": "stdout"
        }
      ]
    },
    {
      "cell_type": "code",
      "metadata": {
        "id": "Cd-6KXta2pr5",
        "colab_type": "code",
        "colab": {},
        "outputId": "6606f41b-7e90-4cce-b1db-1da8c2cf9b8e"
      },
      "source": [
        "# Excluindo normalizedX_exerc\n",
        "normalizedX_exerc = np.delete(normalizedX_exerc, [12], axis = 1) # 'axis' = 0 (row) | axis = 1 (column)\n",
        "\n",
        "print(normalizedX_exerc.shape)\n",
        "print(normalizedX_exerc)"
      ],
      "execution_count": 0,
      "outputs": [
        {
          "output_type": "stream",
          "text": [
            "(4738, 21)\n",
            "[[0.23408229 0.23408229 0.23408229 ... 0.         0.46816459 0.        ]\n",
            " [0.29488391 0.29488391 0.29488391 ... 0.         0.58976782 0.        ]\n",
            " [0.20519567 0.20519567 0.20519567 ... 0.         0.41039134 0.        ]\n",
            " ...\n",
            " [0.16903085 0.25354628 0.16903085 ... 0.         0.25354628 0.08451543]\n",
            " [0.3086067  0.3086067  0.3086067  ... 0.         0.46291005 0.        ]\n",
            " [0.1898316  0.2847474  0.1898316  ... 0.         0.2847474  0.        ]]\n"
          ],
          "name": "stdout"
        }
      ]
    },
    {
      "cell_type": "code",
      "metadata": {
        "id": "aXOT_16U2pr7",
        "colab_type": "code",
        "colab": {},
        "outputId": "44fdf436-52ce-45d5-95d8-28a164ddb1e8"
      },
      "source": [
        "# standardX_exerc\n",
        "standardX_exerc = np.delete(standardX_exerc, [12], 1) # 'axis' = 0 (row) | axis = 1 (column)\n",
        "\n",
        "print(standardX_exerc.shape)\n",
        "print(standardX_exerc)"
      ],
      "execution_count": 0,
      "outputs": [
        {
          "output_type": "stream",
          "text": [
            "(4738, 21)\n",
            "[[-0.17172313 -0.44800623 -0.10591633 ... -0.16994602  1.34147465\n",
            "  -0.14532959]\n",
            " [-0.17172313 -0.44800623 -0.10591633 ... -0.16994602  1.34147465\n",
            "  -0.14532959]\n",
            " [-0.17172313 -0.44800623 -0.10591633 ... -0.16994602  1.34147465\n",
            "  -0.14532959]\n",
            " ...\n",
            " [-0.17172313  0.55703805 -0.10591633 ... -0.16994602 -0.58339116\n",
            "   6.88091119]\n",
            " [-0.17172313 -0.44800623 -0.10591633 ... -0.16994602 -0.58339116\n",
            "  -0.14532959]\n",
            " [-0.17172313  0.55703805 -0.10591633 ... -0.16994602 -0.58339116\n",
            "  -0.14532959]]\n"
          ],
          "name": "stdout"
        }
      ]
    },
    {
      "cell_type": "code",
      "metadata": {
        "scrolled": true,
        "id": "Uj_B57qq2pr9",
        "colab_type": "code",
        "colab": {},
        "outputId": "72b04a96-ad8e-4de0-8a35-45bf43f22fb3"
      },
      "source": [
        "# Seleção do Modelo Preditivo\n",
        "# Import dos módulos\n",
        "import matplotlib.pyplot as plt\n",
        "from sklearn.model_selection import KFold\n",
        "from sklearn.model_selection import cross_val_score\n",
        "from sklearn.linear_model import LogisticRegression\n",
        "from sklearn.discriminant_analysis import LinearDiscriminantAnalysis\n",
        "from sklearn.naive_bayes import GaussianNB\n",
        "from sklearn.neighbors import KNeighborsClassifier\n",
        "from sklearn.tree import DecisionTreeClassifier\n",
        "\n",
        "array = dados_exerc.values\n",
        "\n",
        "# Separando o array em componentes de input e output\n",
        "# X = array[:, 0:21]\n",
        "# X = rescaledX_exerc\n",
        "X = normalizedX_exerc\n",
        "# X = standardX_exerc\n",
        "# Y = array[:, 21]\n",
        "\n",
        "# Definindo os valores para o número de folds\n",
        "num_folds = 10\n",
        "seed = 7\n",
        "\n",
        "# Preparando a lista de modelos\n",
        "modelos = []\n",
        "modelos.append(('LR', LogisticRegression()))\n",
        "modelos.append(('LDA', LinearDiscriminantAnalysis()))\n",
        "modelos.append(('NB', GaussianNB()))\n",
        "modelos.append(('KNN', KNeighborsClassifier()))\n",
        "modelos.append(('CART', DecisionTreeClassifier()))\n",
        "\n",
        "# Avaliando cada modelo em um loop\n",
        "resultados = []\n",
        "nomes = []\n",
        "\n",
        "for nome, modelo in modelos:\n",
        "    kfold = KFold(n_splits = num_folds, shuffle = True, random_state = seed)\n",
        "    cv_results = cross_val_score(modelo, X, Y, cv = kfold, scoring = 'accuracy')\n",
        "    resultados.append(cv_results)\n",
        "    nomes.append(nome)\n",
        "    msg = \"%s: %f (%f)\" % (nome, cv_results.mean(), cv_results.std())\n",
        "    print(msg)\n",
        "\n",
        "# Boxplot para comparar os algoritmos\n",
        "fig = plt.figure()\n",
        "fig.suptitle('Comparação de Algoritmos de Classificação')\n",
        "ax = fig.add_subplot(111)\n",
        "plt.boxplot(resultados)\n",
        "ax.set_xticklabels(nomes)\n",
        "plt.show()"
      ],
      "execution_count": 0,
      "outputs": [
        {
          "output_type": "stream",
          "text": [
            "LR: 0.700502 (0.021797)\n",
            "LDA: 0.702194 (0.018692)\n",
            "NB: 0.591176 (0.022895)\n",
            "KNN: 0.641823 (0.022804)\n",
            "CART: 0.668837 (0.018086)\n"
          ],
          "name": "stdout"
        },
        {
          "output_type": "display_data",
          "data": {
            "image/png": "[encoded data removed]",
            "text/plain": [
              "<Figure size 432x288 with 1 Axes>"
            ]
          },
          "metadata": {
            "tags": [],
            "needs_background": "light"
          }
        }
      ]
    },
    {
      "cell_type": "code",
      "metadata": {
        "id": "27h5FIpz2pr-",
        "colab_type": "code",
        "colab": {}
      },
      "source": [
        "# Dados Normais\n",
        "# LR: 0.704299 (0.016346)\n",
        "# LDA: 0.706198 (0.017770)\n",
        "# NB: 0.597716 (0.020173)\n",
        "# KNN: 0.622624 (0.024292)\n",
        "# CART: 0.670526 (0.020073)\n",
        "\n",
        "# Dados rescaledX_exerc\n",
        "# LR: 0.704932 (0.016251)\n",
        "# LDA: 0.706198 (0.017770)\n",
        "# NB: 0.597716 (0.020173)\n",
        "# KNN: 0.626207 (0.022096)\n",
        "# CART: 0.670526 (0.019549)\n",
        "\n",
        "# Dados normalizedX_exerc\n",
        "# LR: 0.700502 (0.021797)\n",
        "# LDA: 0.702194 (0.018692)\n",
        "# NB: 0.591176 (0.022895)\n",
        "# KNN: 0.641823 (0.022804)\n",
        "# CART: 0.668837 (0.018086)\n",
        "\n",
        "# Dados standardX_exerc\n",
        "# LR: 0.702822 (0.016755)\n",
        "# LDA: 0.706198 (0.017770)\n",
        "# NB: 0.597505 (0.020133)\n",
        "# KNN: 0.623044 (0.018262)\n",
        "# CART: 0.672002 (0.020211)"
      ],
      "execution_count": 0,
      "outputs": []
    },
    {
      "cell_type": "markdown",
      "metadata": {
        "id": "2iVjpu6r2psA",
        "colab_type": "text"
      },
      "source": [
        "Quanto menor o coeficiente de variação (CV), também conhecido como desvio padrão relativo (DPR), maior a precisão dos dados.\n",
        "\n",
        "CV ou DPR = Desvio Padrão / Média\n",
        "\n",
        "Avalie qual algoritmo oferecerá maior confiabilidade:\n",
        "\n",
        "LR : 0.022218599145111328\n",
        "\n",
        "LDA : 0.026360057820244413\n",
        "\n",
        "NB : 0.03375014220800514\n",
        "\n",
        "KNN : 0.04135316073227087\n",
        "\n",
        "CART: 0.025940868829076428"
      ]
    },
    {
      "cell_type": "code",
      "metadata": {
        "id": "hkGp_piW2psA",
        "colab_type": "code",
        "colab": {},
        "outputId": "fe26ea53-c2df-4bb6-cd6e-a0e77db93a8b"
      },
      "source": [
        "# Dados Normais\n",
        "print('Dados Normais')\n",
        "print('LR:  ' + str(0.016346 / 0.704299))\n",
        "print('LDA: ' + str(0.017770 / 0.706198))\n",
        "print('NB:  ' + str(0.020173 / 0.597716))\n",
        "print('KNN: ' + str(0.024292 / 0.622624))\n",
        "print('CART:' + str(0.020073 / 0.670526))\n",
        "print()\n",
        "print('Dados rescaledX_exerc')\n",
        "print('LR:  ' + str(0.016251 / 0.704932))\n",
        "print('LDA: ' + str(0.017770 / 0.706198))\n",
        "print('NB:  ' + str(0.020173 / 0.597716))\n",
        "print('KNN: ' + str(0.022096 / 0.626207))\n",
        "print('CART:' + str(0.019549 / 0.670526))\n",
        "print()\n",
        "print('Dados normalizedX_exerc')\n",
        "print('LR:  ' + str(0.021797 / 0.700502))\n",
        "print('LDA: ' + str(0.018692 / 0.702194))\n",
        "print('NB:  ' + str(0.022895 / 0.591176))\n",
        "print('KNN: ' + str(0.022804 / 0.641823))\n",
        "print('CART:' + str(0.018086 / 0.668837))\n",
        "print()\n",
        "print('Dados standardX_exerc')\n",
        "print('LR:  ' + str(0.016755 / 0.702822))\n",
        "print('LDA: ' + str(0.017770 / 0.706198))\n",
        "print('NB:  ' + str(0.020133 / 0.597505))\n",
        "print('KNN: ' + str(0.018262 / 0.623044))\n",
        "print('CART:' + str(0.020211 / 0.672002))"
      ],
      "execution_count": 0,
      "outputs": [
        {
          "output_type": "stream",
          "text": [
            "Dados Normais\n",
            "LR:  0.023208892813989513\n",
            "LDA: 0.02516291464999901\n",
            "NB:  0.03375014220800514\n",
            "KNN: 0.03901552140617773\n",
            "CART:0.029936199342009112\n",
            "\n",
            "Dados rescaledX_exerc\n",
            "LR:  0.02305328740928203\n",
            "LDA: 0.02516291464999901\n",
            "NB:  0.03375014220800514\n",
            "KNN: 0.03528545672597081\n",
            "CART:0.02915472330677707\n",
            "\n",
            "Dados normalizedX_exerc\n",
            "LR:  0.031116256627390076\n",
            "LDA: 0.026619424261671278\n",
            "NB:  0.038727891524689764\n",
            "KNN: 0.035530044887765004\n",
            "CART:0.027040968128258455\n",
            "\n",
            "Dados standardX_exerc\n",
            "LR:  0.023839606614477066\n",
            "LDA: 0.02516291464999901\n",
            "NB:  0.03369511552204585\n",
            "KNN: 0.029310931491194844\n",
            "CART:0.030075803345823375\n"
          ],
          "name": "stdout"
        }
      ]
    },
    {
      "cell_type": "code",
      "metadata": {
        "id": "Q7qYq5B12psB",
        "colab_type": "code",
        "colab": {},
        "outputId": "548864fa-6ba8-40a5-8a26-a5173ba0be85"
      },
      "source": [
        "dados_exerc.shape"
      ],
      "execution_count": 0,
      "outputs": [
        {
          "output_type": "execute_result",
          "data": {
            "text/plain": [
              "(4738, 22)"
            ]
          },
          "metadata": {
            "tags": []
          },
          "execution_count": 108
        }
      ]
    },
    {
      "cell_type": "code",
      "metadata": {
        "id": "c3Dp3ru92psD",
        "colab_type": "code",
        "colab": {},
        "outputId": "a763e494-efcd-4ba8-c706-93a63cb9c837"
      },
      "source": [
        "# Feature Selection\n",
        "# Eliminação Recursiva de Variáveis\n",
        "\n",
        "# Import dos módulos\n",
        "from sklearn.feature_selection import RFE\n",
        "from sklearn.linear_model import LogisticRegression\n",
        "\n",
        "array = dados_exerc.values\n",
        "\n",
        "# Separando o array em componentes de input e output\n",
        "X = array[:, 0:21]\n",
        "Y = array[:, 21]\n",
        "\n",
        "# Criação do modelo\n",
        "modelo = LogisticRegression()\n",
        "\n",
        "# RFE\n",
        "rfe = RFE(modelo, 10)\n",
        "fit = rfe.fit(X, Y)\n",
        "\n",
        "# Print dos resultados\n",
        "print(\"Variáveis Preditoras:\", dados_exerc.columns[0:22])\n",
        "print(\"Variáveis Selecionadas: %s\" % fit.support_)\n",
        "print(\"Ranking dos Atributos: %s\" % fit.ranking_)\n",
        "print(\"Número de Melhores Atributos: %d\" % fit.n_features_)"
      ],
      "execution_count": 0,
      "outputs": [
        {
          "output_type": "stream",
          "text": [
            "Variáveis Preditoras: Index(['T_num', 'PA_num', 'FR_num', 'P_num', 'SpO2_num', 'insulina_dependente',\n",
            "       'pac_oncologico', 'int_p_queda', 'prec_tipo_UPA', 'prot_UPA_AVC',\n",
            "       'prot_UPA_IAM', 'prot_UPA_SEPSE', 'upa_avaliacao_dor',\n",
            "       'avaliacao_dor_PAINAD', 'cardiologia_UPA', 'escala_verbal_numerica',\n",
            "       'esi_level_2', 'hematologia_UPA', 'medico_externo_UPA',\n",
            "       'nivel_recomendado_ESI', 'oncologia_UPA', 'Interna_num'],\n",
            "      dtype='object')\n",
            "Variáveis Selecionadas: [False False  True False False False  True  True False False False  True\n",
            " False False  True False  True  True  True  True  True]\n",
            "Ranking dos Atributos: [ 7  6  1  8  4 10  1  1 12  2  5  1  9  3  1 11  1  1  1  1  1]\n",
            "Número de Melhores Atributos: 10\n"
          ],
          "name": "stdout"
        }
      ]
    },
    {
      "cell_type": "markdown",
      "metadata": {
        "id": "_ZMdkRH_2psG",
        "colab_type": "text"
      },
      "source": [
        "# Verificando sem efetuar as exclusões \n",
        "\n"
      ]
    },
    {
      "cell_type": "code",
      "metadata": {
        "id": "LE1scPQO2psG",
        "colab_type": "code",
        "colab": {},
        "outputId": "9f0ec7ea-b927-49bc-83d4-f88af6a1def1"
      },
      "source": [
        "# Importância do Atributo com o Extra Trees Classifier\n",
        "\n",
        "# Import dos Módulos\n",
        "from sklearn.ensemble import ExtraTreesClassifier\n",
        "\n",
        "array = dados_exerc.values\n",
        "\n",
        "# Separando o array em componentes de input e output\n",
        "X = array[:, 0:21]\n",
        "Y = array[:, 21]\n",
        "\n",
        "# Criação do Modelo - Feature Selection\n",
        "modelo = ExtraTreesClassifier()\n",
        "modelo.fit(X, Y)\n",
        "\n",
        "# Print dos Resultados\n",
        "print(dados_exerc.columns[0:22])\n",
        "print(modelo.feature_importances_)"
      ],
      "execution_count": 0,
      "outputs": [
        {
          "output_type": "stream",
          "text": [
            "Index(['T_num', 'PA_num', 'FR_num', 'P_num', 'SpO2_num', 'insulina_dependente',\n",
            "       'pac_oncologico', 'int_p_queda', 'prec_tipo_UPA', 'prot_UPA_AVC',\n",
            "       'prot_UPA_IAM', 'prot_UPA_SEPSE', 'upa_avaliacao_dor',\n",
            "       'avaliacao_dor_PAINAD', 'cardiologia_UPA', 'escala_verbal_numerica',\n",
            "       'esi_level_2', 'hematologia_UPA', 'medico_externo_UPA',\n",
            "       'nivel_recomendado_ESI', 'oncologia_UPA', 'Interna_num'],\n",
            "      dtype='object')\n",
            "[6.13720018e-02 4.54508888e-02 6.34782452e-03 2.34756945e-02\n",
            " 1.10347205e-02 6.37974076e-03 2.00592453e-02 1.30535053e-01\n",
            " 2.38840173e-02 3.59228723e-03 5.63280819e-03 3.40767825e-02\n",
            " 3.49073573e-02 5.92015644e-05 2.35829587e-03 1.52469559e-01\n",
            " 5.03444162e-03 4.71830880e-03 4.01051592e-02 3.77196034e-01\n",
            " 1.13105784e-02]\n"
          ],
          "name": "stdout"
        }
      ]
    },
    {
      "cell_type": "code",
      "metadata": {
        "id": "TbPWSYyZ2psJ",
        "colab_type": "code",
        "colab": {},
        "outputId": "e48a4bd8-9f6c-4079-9782-98c15fe3b00a"
      },
      "source": [
        "# Avaliação usando dados de treino e de teste\n",
        "\n",
        "# Import dos módulos\n",
        "from sklearn.model_selection import train_test_split\n",
        "\n",
        "array = dados_exerc.values\n",
        "\n",
        "# Separando o array em componentes de input e output\n",
        "X = array[:, 0:21] # **\n",
        "# X = rescaledX      # *\n",
        "# X = normalizedX    # ****\n",
        "# X = standardX      # ***\n",
        "Y = array[:, 21]\n",
        "\n",
        "# Definindo o tamanho das amostras\n",
        "teste_size = 0.33\n",
        "\n",
        "# Garante que os resultados podem ser reproduzidos\n",
        "# Isso é importante para comparar a acurácia com outros algoritmos de Machine Learning.\n",
        "seed = 7\n",
        "\n",
        "# Criando os conjuntos de dados de treino e de teste\n",
        "X_treino, X_teste, Y_treino, Y_teste = train_test_split(X, Y, \n",
        "                                                        test_size = teste_size, \n",
        "                                                        random_state = seed)\n",
        "\n",
        "# Import dos módulos\n",
        "from sklearn.linear_model import LogisticRegression\n",
        "\n",
        "# Criação do modelo\n",
        "modelo = LogisticRegression()\n",
        "\n",
        "# Treinamento do modelo\n",
        "modelo.fit(X_treino, Y_treino)\n",
        "\n",
        "# Score do modelo nos dados de teste\n",
        "result = modelo.score(X_teste, Y_teste)\n",
        "print(\"Acurácia nos Dados de Teste: %.3f%%\" % (result * 100.0))"
      ],
      "execution_count": 0,
      "outputs": [
        {
          "output_type": "stream",
          "text": [
            "Acurácia nos Dados de Teste: 70.588%\n"
          ],
          "name": "stdout"
        }
      ]
    },
    {
      "cell_type": "code",
      "metadata": {
        "id": "yCNOQOH42psK",
        "colab_type": "code",
        "colab": {},
        "outputId": "cc283387-69b9-41ce-dea6-2f0083edc123"
      },
      "source": [
        "# Import dos módulos\n",
        "from sklearn.model_selection import GridSearchCV\n",
        "from sklearn.linear_model import LogisticRegression\n",
        "\n",
        "array = dados_exerc.values\n",
        "\n",
        "# Separando o array em componentes de input e output\n",
        "# X = array[:, 0:21]\n",
        "# X = rescaledX_exerc\n",
        "# X = normalizedX_exerc\n",
        "X = standardX_exerc\n",
        "Y = array[:, 21]\n",
        "\n",
        "# Definindo os valores que serão testados\n",
        "valores_grid = {'penalty': ['l1','l2'], 'C': [0.001, 0.01, 0.1, 1, 10, 100, 1000]}\n",
        "\n",
        "# Criando o modelo\n",
        "modelo = LogisticRegression()\n",
        "\n",
        "# Criando o grid\n",
        "grid = GridSearchCV(estimator = modelo, param_grid = valores_grid)\n",
        "grid.fit(X, Y)\n",
        "\n",
        "# Print do resultado\n",
        "print(\"Acurácia: %.3f\" % (grid.best_score_ * 100))\n",
        "print(\"Melhores Parâmetros do Modelo:\\n\", grid.best_estimator_)"
      ],
      "execution_count": 0,
      "outputs": [
        {
          "output_type": "stream",
          "text": [
            "Acurácia: 70.958\n",
            "Melhores Parâmetros do Modelo:\n",
            " LogisticRegression(C=0.1, class_weight=None, dual=False, fit_intercept=True,\n",
            "          intercept_scaling=1, max_iter=100, multi_class='warn',\n",
            "          n_jobs=None, penalty='l1', random_state=None, solver='warn',\n",
            "          tol=0.0001, verbose=0, warm_start=False)\n"
          ],
          "name": "stdout"
        }
      ]
    },
    {
      "cell_type": "markdown",
      "metadata": {
        "id": "4jXC-Asz2psM",
        "colab_type": "text"
      },
      "source": [
        "Dados Normais\n",
        "\n",
        "Acurácia: 70.937\n",
        "Melhores Parâmetros do Modelo:\n",
        " LogisticRegression(C=0.1, class_weight=None, dual=False, fit_intercept=True,\n",
        "          intercept_scaling=1, max_iter=100, multi_class='warn',\n",
        "          n_jobs=None, penalty='l1', random_state=None, solver='warn',\n",
        "          tol=0.0001, verbose=0, warm_start=False)\n"
      ]
    },
    {
      "cell_type": "markdown",
      "metadata": {
        "id": "mSEWuoOa2psM",
        "colab_type": "text"
      },
      "source": [
        "Dados rescaledX_exerc\n",
        "\n",
        "Acurácia: 71.000\n",
        "Melhores Parâmetros do Modelo:\n",
        " LogisticRegression(C=1, class_weight=None, dual=False, fit_intercept=True,\n",
        "          intercept_scaling=1, max_iter=100, multi_class='warn',\n",
        "          n_jobs=None, penalty='l1', random_state=None, solver='warn',\n",
        "          tol=0.0001, verbose=0, warm_start=False)"
      ]
    },
    {
      "cell_type": "markdown",
      "metadata": {
        "id": "xTKwpmDJ2psM",
        "colab_type": "text"
      },
      "source": [
        "Dados normalizedX_exerc\n",
        "\n",
        "Acurácia: 70.346\n",
        "Melhores Parâmetros do Modelo:\n",
        " LogisticRegression(C=10, class_weight=None, dual=False, fit_intercept=True,\n",
        "          intercept_scaling=1, max_iter=100, multi_class='warn',\n",
        "          n_jobs=None, penalty='l2', random_state=None, solver='warn',\n",
        "          tol=0.0001, verbose=0, warm_start=False)"
      ]
    },
    {
      "cell_type": "markdown",
      "metadata": {
        "id": "OWnhbjU-2psN",
        "colab_type": "text"
      },
      "source": [
        "Dados standardX_exerc\n",
        "\n",
        "Acurácia: 70.958\n",
        "Melhores Parâmetros do Modelo:\n",
        " LogisticRegression(C=0.1, class_weight=None, dual=False, fit_intercept=True,\n",
        "          intercept_scaling=1, max_iter=100, multi_class='warn',\n",
        "          n_jobs=None, penalty='l1', random_state=None, solver='warn',\n",
        "          tol=0.0001, verbose=0, warm_start=False)"
      ]
    },
    {
      "cell_type": "markdown",
      "metadata": {
        "id": "op7OPOm72psN",
        "colab_type": "text"
      },
      "source": [
        "Matriz de Confusão\n",
        "---------------------------\n",
        "\n",
        "-           Interna     N Interna\n",
        "- Interna      TP    |     FP\n",
        "- ---------------------------------------\n",
        "- N Interna    FN    |     TN \n"
      ]
    },
    {
      "cell_type": "code",
      "metadata": {
        "id": "OhgouXVp2psN",
        "colab_type": "code",
        "colab": {},
        "outputId": "7136960e-2405-4cb2-f54d-9ebb2c295b7f"
      },
      "source": [
        "# Confusion Matrix\n",
        "# Permite verificar a acurácia em um formato de tabela\n",
        "\n",
        "# Import dos módulos\n",
        "from sklearn.model_selection import train_test_split\n",
        "\n",
        "array = dados_exerc.values\n",
        "\n",
        "# Separando o array em componentes de input e output\n",
        "X = array[:, 0:21]\n",
        "# X = rescaledX_exerc\n",
        "# X = normalizedX_exerc\n",
        "# X = standardX_exerc\n",
        "Y = array[:, 21]\n",
        "\n",
        "# Definindo o tamanho do conjunto de dados\n",
        "teste_size = 0.33\n",
        "seed = 7\n",
        "\n",
        "# Dividindo os dados em treino e teste\n",
        "X_treino, X_teste, Y_treino, Y_teste = train_test_split(X, Y, \n",
        "                                                        test_size = teste_size, \n",
        "                                                        random_state = seed)\n",
        "\n",
        "# Import dos módulos\n",
        "from sklearn.linear_model import LogisticRegression\n",
        "from sklearn.metrics import confusion_matrix\n",
        "\n",
        "# Criando o modelo\n",
        "model = LogisticRegression()\n",
        "model.fit(X_treino, Y_treino)\n",
        "\n",
        "# Fazendo as previsões e construindo a Confusion Matrix\n",
        "previsoes = model.predict(X_teste)\n",
        "matrix = confusion_matrix(Y_teste, previsoes)\n",
        "\n",
        "# Imprimindo a Confusion Matrix\n",
        "print(matrix)"
      ],
      "execution_count": 0,
      "outputs": [
        {
          "output_type": "stream",
          "text": [
            "[[451 317]\n",
            " [143 653]]\n"
          ],
          "name": "stdout"
        }
      ]
    },
    {
      "cell_type": "markdown",
      "metadata": {
        "id": "LbW9fVTe2psP",
        "colab_type": "text"
      },
      "source": [
        "Dados Normais dados_exerc\n",
        "[[451 317]\n",
        " [143 653]]\n",
        " \n",
        " \n",
        " \n"
      ]
    },
    {
      "cell_type": "code",
      "metadata": {
        "id": "5V6B7G3_2psR",
        "colab_type": "code",
        "colab": {}
      },
      "source": [
        ""
      ],
      "execution_count": 0,
      "outputs": []
    },
    {
      "cell_type": "code",
      "metadata": {
        "id": "9RouTYWA2psS",
        "colab_type": "code",
        "colab": {}
      },
      "source": [
        ""
      ],
      "execution_count": 0,
      "outputs": []
    },
    {
      "cell_type": "code",
      "metadata": {
        "id": "Xo9RbiCf2psU",
        "colab_type": "code",
        "colab": {}
      },
      "source": [
        ""
      ],
      "execution_count": 0,
      "outputs": []
    },
    {
      "cell_type": "code",
      "metadata": {
        "id": "FDy-i-fA2psW",
        "colab_type": "code",
        "colab": {},
        "outputId": "31cd6f54-31be-4340-80fc-44fe785b9a05"
      },
      "source": [
        "# Acurácia\n",
        "# Número de previsões corretas. É útil apenas quando existe um balanceamento entre as classes.\n",
        "\n",
        "# Import dos módulos\n",
        "from sklearn.model_selection import KFold\n",
        "from sklearn.model_selection import cross_val_score\n",
        "\n",
        "array = dados_exerc.values\n",
        "\n",
        "# Separando o array em componentes de input e output\n",
        "X = array[:, 0:21]\n",
        "# X = rescaledX\n",
        "# X = normalizedX\n",
        "# X = standardX\n",
        "Y = array[:, 21]\n",
        "\n",
        "# Definindo os valores para o número de folds\n",
        "num_folds = 10\n",
        "seed = 7\n",
        "\n",
        "# Separando os dados em folds\n",
        "kfold = KFold(num_folds, shuffle = True, random_state = seed)\n",
        "\n",
        "# Import dos módulos\n",
        "from sklearn.linear_model import LogisticRegression\n",
        "\n",
        "# Criando o modelo\n",
        "modelo = LogisticRegression()\n",
        "\n",
        "# Cross Validation\n",
        "resultado = cross_val_score(modelo, X, Y, cv = kfold, scoring = 'accuracy')\n",
        "\n",
        "# Print dos resultados\n",
        "print(\"Acurácia: %.3f\" % (resultado.mean() * 100))"
      ],
      "execution_count": 0,
      "outputs": [
        {
          "output_type": "stream",
          "text": [
            "Acurácia: 70.430\n"
          ],
          "name": "stdout"
        }
      ]
    },
    {
      "cell_type": "markdown",
      "metadata": {
        "id": "4GhVk_K52psY",
        "colab_type": "text"
      },
      "source": [
        "# Efetuando as Exclusões das Piores Variáveis"
      ]
    },
    {
      "cell_type": "markdown",
      "metadata": {
        "id": "MwUrIEL92psY",
        "colab_type": "text"
      },
      "source": [
        "Variáveis Preditoras: Index(['T_num', 'PA_num', 'FR_num', 'P_num', 'SpO2_num', 'insulina_dependente',\n",
        "       'pac_oncologico', 'int_p_queda', 'prec_tipo_UPA', 'prot_UPA_AVC',\n",
        "       'prot_UPA_IAM', 'prot_UPA_SEPSE', 'upa_avaliacao_dor',\n",
        "       'avaliacao_dor_PAINAD', 'cardiologia_UPA', 'escala_verbal_numerica',\n",
        "       'esi_level_2', 'hematologia_UPA', 'medico_externo_UPA',\n",
        "       'nivel_recomendado_ESI', 'oncologia_UPA', 'Interna_num'],\n",
        "      dtype='object')\n",
        "Variáveis Selecionadas: [False False  True False False False  True  True False False False  True\n",
        " False False  True False  True  True  True  True  True]\n",
        "Ranking dos Atributos: [ 7  6  1  8  4 10  1  1 12  2  5  1  9  3  1 11  1  1  1  1  1]\n",
        "Número de Melhores Atributos: 10\n"
      ]
    },
    {
      "cell_type": "code",
      "metadata": {
        "id": "2wgucDJ22psY",
        "colab_type": "code",
        "colab": {}
      },
      "source": [
        "dados_excluidos = dados_exerc.copy()"
      ],
      "execution_count": 0,
      "outputs": []
    },
    {
      "cell_type": "code",
      "metadata": {
        "id": "4e2VYMaa2psb",
        "colab_type": "code",
        "colab": {},
        "outputId": "bbe0fe5c-06a0-4079-d6d0-ca7e56819242"
      },
      "source": [
        "dados_excluidos.shape"
      ],
      "execution_count": 0,
      "outputs": [
        {
          "output_type": "execute_result",
          "data": {
            "text/plain": [
              "(4738, 22)"
            ]
          },
          "metadata": {
            "tags": []
          },
          "execution_count": 134
        }
      ]
    },
    {
      "cell_type": "code",
      "metadata": {
        "id": "TOT8d9gK2psd",
        "colab_type": "code",
        "colab": {},
        "outputId": "04fab46e-211d-4eda-d176-1a0e6396ffca"
      },
      "source": [
        "dados_excluidos.columns"
      ],
      "execution_count": 0,
      "outputs": [
        {
          "output_type": "execute_result",
          "data": {
            "text/plain": [
              "Index(['T_num', 'PA_num', 'FR_num', 'P_num', 'SpO2_num', 'insulina_dependente',\n",
              "       'pac_oncologico', 'int_p_queda', 'prec_tipo_UPA', 'prot_UPA_AVC',\n",
              "       'prot_UPA_IAM', 'prot_UPA_SEPSE', 'upa_avaliacao_dor',\n",
              "       'avaliacao_dor_PAINAD', 'cardiologia_UPA', 'escala_verbal_numerica',\n",
              "       'esi_level_2', 'hematologia_UPA', 'medico_externo_UPA',\n",
              "       'nivel_recomendado_ESI', 'oncologia_UPA', 'Interna_num'],\n",
              "      dtype='object')"
            ]
          },
          "metadata": {
            "tags": []
          },
          "execution_count": 135
        }
      ]
    },
    {
      "cell_type": "code",
      "metadata": {
        "id": "dCxg0A9L2psg",
        "colab_type": "code",
        "colab": {}
      },
      "source": [
        "# Remoção das colunas T_num, PA_num, P_num, \n",
        "del_cols = ['T_num', 'PA_num', 'P_num', 'SpO2_num', 'insulina_dependente', 'prec_tipo_UPA', 'prot_UPA_AVC', 'prot_UPA_IAM', 'upa_avaliacao_dor', 'avaliacao_dor_PAINAD', 'escala_verbal_numerica']\n",
        "\n",
        "# Deleta as colunas\n",
        "dados_excluidos.drop(del_cols, axis = 1, inplace = True) # 'axis' = 0 (row) | axis = 1 (column)"
      ],
      "execution_count": 0,
      "outputs": []
    },
    {
      "cell_type": "code",
      "metadata": {
        "id": "avP89Dlq2psk",
        "colab_type": "code",
        "colab": {},
        "outputId": "84827b54-e0cc-44c5-d8ce-5195f2044b2d"
      },
      "source": [
        "dados_excluidos.columns"
      ],
      "execution_count": 0,
      "outputs": [
        {
          "output_type": "execute_result",
          "data": {
            "text/plain": [
              "Index(['FR_num', 'pac_oncologico', 'int_p_queda', 'prot_UPA_SEPSE',\n",
              "       'cardiologia_UPA', 'esi_level_2', 'hematologia_UPA',\n",
              "       'medico_externo_UPA', 'nivel_recomendado_ESI', 'oncologia_UPA',\n",
              "       'Interna_num'],\n",
              "      dtype='object')"
            ]
          },
          "metadata": {
            "tags": []
          },
          "execution_count": 137
        }
      ]
    },
    {
      "cell_type": "markdown",
      "metadata": {
        "id": "9nrPRKlv2psl",
        "colab_type": "text"
      },
      "source": [
        "Correlação Positiva e Correlação Negativa \n",
        "\n",
        "Quando o numero está atuando e a targuet for positiva = interna\n",
        "Quando o número está atuando e a targuet for negativa = não interna\n",
        "\n",
        "Matriz de Confusão\n",
        "---------------------------\n",
        "\n",
        "-           Interna     N Interna\n",
        "- Interna      TP    |     FP\n",
        "- ---------------------------------------\n",
        "- N Interna    FN    |     TN \n",
        "\n",
        "- True Positivo TF, False Positivo FP, False Negativa FN, True Negativo TN)\n",
        "\n",
        "Excluir o nivel_recomendado_ESI\n",
        "\n",
        "Excluir o spo2, oncologia_upa, \n",
        "\n",
        "Testar o número de k Cross Validation\n",
        "\n",
        "Todo resultado de um algoritmo é uma função matemática\n",
        "\n",
        "Ela espera receber alguns parametros para funcionar\n",
        "\n",
        "\n",
        "\n",
        "\n",
        "\n",
        "\n",
        "\n",
        "\n",
        "\n"
      ]
    },
    {
      "cell_type": "code",
      "metadata": {
        "id": "kcl9ue0p2psm",
        "colab_type": "code",
        "colab": {}
      },
      "source": [
        ""
      ],
      "execution_count": 0,
      "outputs": []
    },
    {
      "cell_type": "code",
      "metadata": {
        "id": "B-7Bsixd2psp",
        "colab_type": "code",
        "colab": {}
      },
      "source": [
        ""
      ],
      "execution_count": 0,
      "outputs": []
    },
    {
      "cell_type": "code",
      "metadata": {
        "id": "_sBqsarH2pst",
        "colab_type": "code",
        "colab": {}
      },
      "source": [
        ""
      ],
      "execution_count": 0,
      "outputs": []
    }
  ]
}