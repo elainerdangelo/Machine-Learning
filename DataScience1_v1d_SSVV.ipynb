{
  "nbformat": 4,
  "nbformat_minor": 0,
  "metadata": {
    "kernelspec": {
      "display_name": "Python 3",
      "language": "python",
      "name": "python3"
    },
    "language_info": {
      "codemirror_mode": {
        "name": "ipython",
        "version": 3
      },
      "file_extension": ".py",
      "mimetype": "text/x-python",
      "name": "python",
      "nbconvert_exporter": "python",
      "pygments_lexer": "ipython3",
      "version": "3.7.3"
    },
    "colab": {
      "name": "DataScience1_v1d_SSVV.ipynb",
      "provenance": []
    }
  },
  "cells": [
    {
      "cell_type": "markdown",
      "metadata": {
        "id": "0bTecxi-3XL5",
        "colab_type": "text"
      },
      "source": [
        "# <font color='blue'>Ensino Einstein</font>\n",
        "## <font color='black'>Ciência de Dados e Informática para a Área da Saúde</font>\n",
        "### <font color='gray'>Data Science 1 [ Python ]</font>"
      ]
    },
    {
      "cell_type": "code",
      "metadata": {
        "id": "q9egqMN33XL6",
        "colab_type": "code",
        "colab": {}
      },
      "source": [
        "# Carregando arquivo csv usando Pandas\n",
        "import pandas as pd\n",
        "file = 'data/HIAE_SSVV_v01.csv'\n",
        "df_SSVV_filtered = pd.read_csv(file, sep = \";\")"
      ],
      "execution_count": 0,
      "outputs": []
    },
    {
      "cell_type": "code",
      "metadata": {
        "scrolled": false,
        "id": "NLe-Tgt_3XL_",
        "colab_type": "code",
        "colab": {},
        "outputId": "b75c4919-2aae-44dd-f7c7-237e6a40bb00"
      },
      "source": [
        "df_SSVV_filtered.head(5)"
      ],
      "execution_count": 0,
      "outputs": [
        {
          "output_type": "execute_result",
          "data": {
            "text/html": [
              "<div>\n",
              "<style scoped>\n",
              "    .dataframe tbody tr th:only-of-type {\n",
              "        vertical-align: middle;\n",
              "    }\n",
              "\n",
              "    .dataframe tbody tr th {\n",
              "        vertical-align: top;\n",
              "    }\n",
              "\n",
              "    .dataframe thead th {\n",
              "        text-align: right;\n",
              "    }\n",
              "</style>\n",
              "<table border=\"1\" class=\"dataframe\">\n",
              "  <thead>\n",
              "    <tr style=\"text-align: right;\">\n",
              "      <th></th>\n",
              "      <th>T</th>\n",
              "      <th>PAd</th>\n",
              "      <th>PAs</th>\n",
              "      <th>FR</th>\n",
              "      <th>P</th>\n",
              "      <th>SpO2</th>\n",
              "      <th>T_str</th>\n",
              "      <th>T_num</th>\n",
              "      <th>PA_str</th>\n",
              "      <th>PA_num</th>\n",
              "      <th>FR_str</th>\n",
              "      <th>FR_num</th>\n",
              "      <th>P_str</th>\n",
              "      <th>P_num</th>\n",
              "      <th>SpO2_str</th>\n",
              "      <th>SpO2_num</th>\n",
              "      <th>Interna_num</th>\n",
              "    </tr>\n",
              "  </thead>\n",
              "  <tbody>\n",
              "    <tr>\n",
              "      <th>0</th>\n",
              "      <td>36.4</td>\n",
              "      <td>76</td>\n",
              "      <td>113</td>\n",
              "      <td>18</td>\n",
              "      <td>79</td>\n",
              "      <td>96</td>\n",
              "      <td>Normotermia</td>\n",
              "      <td>2</td>\n",
              "      <td>Normotenso</td>\n",
              "      <td>2</td>\n",
              "      <td>Eupneico</td>\n",
              "      <td>2</td>\n",
              "      <td>Normocardico</td>\n",
              "      <td>2</td>\n",
              "      <td>Normal</td>\n",
              "      <td>2</td>\n",
              "      <td>0</td>\n",
              "    </tr>\n",
              "    <tr>\n",
              "      <th>1</th>\n",
              "      <td>36.7</td>\n",
              "      <td>74</td>\n",
              "      <td>118</td>\n",
              "      <td>16</td>\n",
              "      <td>75</td>\n",
              "      <td>98</td>\n",
              "      <td>Normotermia</td>\n",
              "      <td>2</td>\n",
              "      <td>Normotenso</td>\n",
              "      <td>2</td>\n",
              "      <td>Eupneico</td>\n",
              "      <td>2</td>\n",
              "      <td>Normocardico</td>\n",
              "      <td>2</td>\n",
              "      <td>Normal</td>\n",
              "      <td>2</td>\n",
              "      <td>0</td>\n",
              "    </tr>\n",
              "    <tr>\n",
              "      <th>2</th>\n",
              "      <td>36.2</td>\n",
              "      <td>82</td>\n",
              "      <td>114</td>\n",
              "      <td>17</td>\n",
              "      <td>86</td>\n",
              "      <td>97</td>\n",
              "      <td>Normotermia</td>\n",
              "      <td>2</td>\n",
              "      <td>Normotenso</td>\n",
              "      <td>2</td>\n",
              "      <td>Eupneico</td>\n",
              "      <td>2</td>\n",
              "      <td>Normocardico</td>\n",
              "      <td>2</td>\n",
              "      <td>Normal</td>\n",
              "      <td>2</td>\n",
              "      <td>0</td>\n",
              "    </tr>\n",
              "    <tr>\n",
              "      <th>3</th>\n",
              "      <td>36.6</td>\n",
              "      <td>77</td>\n",
              "      <td>133</td>\n",
              "      <td>16</td>\n",
              "      <td>115</td>\n",
              "      <td>94</td>\n",
              "      <td>Normotermia</td>\n",
              "      <td>2</td>\n",
              "      <td>Normotenso</td>\n",
              "      <td>2</td>\n",
              "      <td>Eupneico</td>\n",
              "      <td>2</td>\n",
              "      <td>Taquicardico</td>\n",
              "      <td>3</td>\n",
              "      <td>Baixo</td>\n",
              "      <td>1</td>\n",
              "      <td>0</td>\n",
              "    </tr>\n",
              "    <tr>\n",
              "      <th>4</th>\n",
              "      <td>35.9</td>\n",
              "      <td>89</td>\n",
              "      <td>122</td>\n",
              "      <td>18</td>\n",
              "      <td>80</td>\n",
              "      <td>95</td>\n",
              "      <td>Normotermia</td>\n",
              "      <td>2</td>\n",
              "      <td>Normotenso</td>\n",
              "      <td>2</td>\n",
              "      <td>Eupneico</td>\n",
              "      <td>2</td>\n",
              "      <td>Normocardico</td>\n",
              "      <td>2</td>\n",
              "      <td>Normal</td>\n",
              "      <td>2</td>\n",
              "      <td>0</td>\n",
              "    </tr>\n",
              "  </tbody>\n",
              "</table>\n",
              "</div>"
            ],
            "text/plain": [
              "      T  PAd  PAs  FR    P  SpO2        T_str  T_num      PA_str  PA_num  \\\n",
              "0  36.4   76  113  18   79    96  Normotermia      2  Normotenso       2   \n",
              "1  36.7   74  118  16   75    98  Normotermia      2  Normotenso       2   \n",
              "2  36.2   82  114  17   86    97  Normotermia      2  Normotenso       2   \n",
              "3  36.6   77  133  16  115    94  Normotermia      2  Normotenso       2   \n",
              "4  35.9   89  122  18   80    95  Normotermia      2  Normotenso       2   \n",
              "\n",
              "     FR_str  FR_num         P_str  P_num SpO2_str  SpO2_num  Interna_num  \n",
              "0  Eupneico       2  Normocardico      2   Normal         2            0  \n",
              "1  Eupneico       2  Normocardico      2   Normal         2            0  \n",
              "2  Eupneico       2  Normocardico      2   Normal         2            0  \n",
              "3  Eupneico       2  Taquicardico      3    Baixo         1            0  \n",
              "4  Eupneico       2  Normocardico      2   Normal         2            0  "
            ]
          },
          "metadata": {
            "tags": []
          },
          "execution_count": 2
        }
      ]
    },
    {
      "cell_type": "code",
      "metadata": {
        "id": "HUeWgZDa3XMF",
        "colab_type": "code",
        "colab": {}
      },
      "source": [
        "df_SSVV_NaNfiltered = []\n",
        "#df_SSVV_filtered.shape"
      ],
      "execution_count": 0,
      "outputs": []
    },
    {
      "cell_type": "code",
      "metadata": {
        "id": "m3tqPC-i3XMI",
        "colab_type": "code",
        "colab": {}
      },
      "source": [
        "# Filering NaN / 'Failed'\n",
        "df_SSVV_NaNfiltered = df_SSVV_filtered[(df_SSVV_filtered['T_str'] != 'Failed') & (df_SSVV_filtered['PA_str'] != 'Failed') & (df_SSVV_filtered['FR_str'] != 'Failed') & (df_SSVV_filtered['P_str'] != 'Failed') & (df_SSVV_filtered['SpO2_str'] != 'Failed')]"
      ],
      "execution_count": 0,
      "outputs": []
    },
    {
      "cell_type": "code",
      "metadata": {
        "id": "Hn02thiN3XMM",
        "colab_type": "code",
        "colab": {},
        "outputId": "67356a0b-84e9-4dcf-e1c6-5b85565e7251"
      },
      "source": [
        "# View\n",
        "df_SSVV_NaNfiltered.head(5)\n"
      ],
      "execution_count": 0,
      "outputs": [
        {
          "output_type": "execute_result",
          "data": {
            "text/html": [
              "<div>\n",
              "<style scoped>\n",
              "    .dataframe tbody tr th:only-of-type {\n",
              "        vertical-align: middle;\n",
              "    }\n",
              "\n",
              "    .dataframe tbody tr th {\n",
              "        vertical-align: top;\n",
              "    }\n",
              "\n",
              "    .dataframe thead th {\n",
              "        text-align: right;\n",
              "    }\n",
              "</style>\n",
              "<table border=\"1\" class=\"dataframe\">\n",
              "  <thead>\n",
              "    <tr style=\"text-align: right;\">\n",
              "      <th></th>\n",
              "      <th>T</th>\n",
              "      <th>PAd</th>\n",
              "      <th>PAs</th>\n",
              "      <th>FR</th>\n",
              "      <th>P</th>\n",
              "      <th>SpO2</th>\n",
              "      <th>T_str</th>\n",
              "      <th>T_num</th>\n",
              "      <th>PA_str</th>\n",
              "      <th>PA_num</th>\n",
              "      <th>FR_str</th>\n",
              "      <th>FR_num</th>\n",
              "      <th>P_str</th>\n",
              "      <th>P_num</th>\n",
              "      <th>SpO2_str</th>\n",
              "      <th>SpO2_num</th>\n",
              "      <th>Interna_num</th>\n",
              "    </tr>\n",
              "  </thead>\n",
              "  <tbody>\n",
              "    <tr>\n",
              "      <th>0</th>\n",
              "      <td>36.4</td>\n",
              "      <td>76</td>\n",
              "      <td>113</td>\n",
              "      <td>18</td>\n",
              "      <td>79</td>\n",
              "      <td>96</td>\n",
              "      <td>Normotermia</td>\n",
              "      <td>2</td>\n",
              "      <td>Normotenso</td>\n",
              "      <td>2</td>\n",
              "      <td>Eupneico</td>\n",
              "      <td>2</td>\n",
              "      <td>Normocardico</td>\n",
              "      <td>2</td>\n",
              "      <td>Normal</td>\n",
              "      <td>2</td>\n",
              "      <td>0</td>\n",
              "    </tr>\n",
              "    <tr>\n",
              "      <th>1</th>\n",
              "      <td>36.7</td>\n",
              "      <td>74</td>\n",
              "      <td>118</td>\n",
              "      <td>16</td>\n",
              "      <td>75</td>\n",
              "      <td>98</td>\n",
              "      <td>Normotermia</td>\n",
              "      <td>2</td>\n",
              "      <td>Normotenso</td>\n",
              "      <td>2</td>\n",
              "      <td>Eupneico</td>\n",
              "      <td>2</td>\n",
              "      <td>Normocardico</td>\n",
              "      <td>2</td>\n",
              "      <td>Normal</td>\n",
              "      <td>2</td>\n",
              "      <td>0</td>\n",
              "    </tr>\n",
              "    <tr>\n",
              "      <th>2</th>\n",
              "      <td>36.2</td>\n",
              "      <td>82</td>\n",
              "      <td>114</td>\n",
              "      <td>17</td>\n",
              "      <td>86</td>\n",
              "      <td>97</td>\n",
              "      <td>Normotermia</td>\n",
              "      <td>2</td>\n",
              "      <td>Normotenso</td>\n",
              "      <td>2</td>\n",
              "      <td>Eupneico</td>\n",
              "      <td>2</td>\n",
              "      <td>Normocardico</td>\n",
              "      <td>2</td>\n",
              "      <td>Normal</td>\n",
              "      <td>2</td>\n",
              "      <td>0</td>\n",
              "    </tr>\n",
              "    <tr>\n",
              "      <th>3</th>\n",
              "      <td>36.6</td>\n",
              "      <td>77</td>\n",
              "      <td>133</td>\n",
              "      <td>16</td>\n",
              "      <td>115</td>\n",
              "      <td>94</td>\n",
              "      <td>Normotermia</td>\n",
              "      <td>2</td>\n",
              "      <td>Normotenso</td>\n",
              "      <td>2</td>\n",
              "      <td>Eupneico</td>\n",
              "      <td>2</td>\n",
              "      <td>Taquicardico</td>\n",
              "      <td>3</td>\n",
              "      <td>Baixo</td>\n",
              "      <td>1</td>\n",
              "      <td>0</td>\n",
              "    </tr>\n",
              "    <tr>\n",
              "      <th>4</th>\n",
              "      <td>35.9</td>\n",
              "      <td>89</td>\n",
              "      <td>122</td>\n",
              "      <td>18</td>\n",
              "      <td>80</td>\n",
              "      <td>95</td>\n",
              "      <td>Normotermia</td>\n",
              "      <td>2</td>\n",
              "      <td>Normotenso</td>\n",
              "      <td>2</td>\n",
              "      <td>Eupneico</td>\n",
              "      <td>2</td>\n",
              "      <td>Normocardico</td>\n",
              "      <td>2</td>\n",
              "      <td>Normal</td>\n",
              "      <td>2</td>\n",
              "      <td>0</td>\n",
              "    </tr>\n",
              "  </tbody>\n",
              "</table>\n",
              "</div>"
            ],
            "text/plain": [
              "      T  PAd  PAs  FR    P  SpO2        T_str  T_num      PA_str  PA_num  \\\n",
              "0  36.4   76  113  18   79    96  Normotermia      2  Normotenso       2   \n",
              "1  36.7   74  118  16   75    98  Normotermia      2  Normotenso       2   \n",
              "2  36.2   82  114  17   86    97  Normotermia      2  Normotenso       2   \n",
              "3  36.6   77  133  16  115    94  Normotermia      2  Normotenso       2   \n",
              "4  35.9   89  122  18   80    95  Normotermia      2  Normotenso       2   \n",
              "\n",
              "     FR_str  FR_num         P_str  P_num SpO2_str  SpO2_num  Interna_num  \n",
              "0  Eupneico       2  Normocardico      2   Normal         2            0  \n",
              "1  Eupneico       2  Normocardico      2   Normal         2            0  \n",
              "2  Eupneico       2  Normocardico      2   Normal         2            0  \n",
              "3  Eupneico       2  Taquicardico      3    Baixo         1            0  \n",
              "4  Eupneico       2  Normocardico      2   Normal         2            0  "
            ]
          },
          "metadata": {
            "tags": []
          },
          "execution_count": 5
        }
      ]
    },
    {
      "cell_type": "markdown",
      "metadata": {
        "id": "MYZkE-tr3XMQ",
        "colab_type": "text"
      },
      "source": [
        "# <> True <>"
      ]
    },
    {
      "cell_type": "code",
      "metadata": {
        "id": "caIi0Pdh3XMR",
        "colab_type": "code",
        "colab": {},
        "outputId": "2b8b7ee9-347f-416e-d375-4682b7c0dafe"
      },
      "source": [
        "df_SSVV_NaNfiltered.shape"
      ],
      "execution_count": 0,
      "outputs": [
        {
          "output_type": "execute_result",
          "data": {
            "text/plain": [
              "(78792, 17)"
            ]
          },
          "metadata": {
            "tags": []
          },
          "execution_count": 6
        }
      ]
    },
    {
      "cell_type": "code",
      "metadata": {
        "id": "5OlzKoHl3XMU",
        "colab_type": "code",
        "colab": {},
        "outputId": "fa23bd93-cd66-4dda-b757-cfc9a98ae566"
      },
      "source": [
        "# View only 'Interna_str' = True\n",
        "df_Interna_True = df_SSVV_NaNfiltered[(df_SSVV_NaNfiltered['Interna_num'] == 1)]\n",
        "df_Interna_True.count()"
      ],
      "execution_count": 0,
      "outputs": [
        {
          "output_type": "execute_result",
          "data": {
            "text/plain": [
              "T              2373\n",
              "PAd            2373\n",
              "PAs            2373\n",
              "FR             2373\n",
              "P              2373\n",
              "SpO2           2373\n",
              "T_str          2373\n",
              "T_num          2373\n",
              "PA_str         2373\n",
              "PA_num         2373\n",
              "FR_str         2373\n",
              "FR_num         2373\n",
              "P_str          2373\n",
              "P_num          2373\n",
              "SpO2_str       2373\n",
              "SpO2_num       2373\n",
              "Interna_num    2373\n",
              "dtype: int64"
            ]
          },
          "metadata": {
            "tags": []
          },
          "execution_count": 7
        }
      ]
    },
    {
      "cell_type": "code",
      "metadata": {
        "id": "75iF430g3XMZ",
        "colab_type": "code",
        "colab": {},
        "outputId": "43c59962-8035-4b21-85db-ef3f38213932"
      },
      "source": [
        "df_Interna_True.groupby('T_str').size()"
      ],
      "execution_count": 0,
      "outputs": [
        {
          "output_type": "execute_result",
          "data": {
            "text/plain": [
              "T_str\n",
              "Febre           107\n",
              "Febricula       123\n",
              "Hipotermia      133\n",
              "Normotermia    1996\n",
              "Pirexia          14\n",
              "dtype: int64"
            ]
          },
          "metadata": {
            "tags": []
          },
          "execution_count": 8
        }
      ]
    },
    {
      "cell_type": "code",
      "metadata": {
        "id": "fUUKNQGM3XMc",
        "colab_type": "code",
        "colab": {},
        "outputId": "2bd27aaf-7342-4b02-b4bc-3a05d7ded225"
      },
      "source": [
        "df_Interna_True.groupby('PA_str').size()"
      ],
      "execution_count": 0,
      "outputs": [
        {
          "output_type": "execute_result",
          "data": {
            "text/plain": [
              "PA_str\n",
              "Hipertenso_Grave                  14\n",
              "Hipertenso_Leve/Mod              233\n",
              "Hipertenso_Sistolica_Isolada     383\n",
              "Hipotenso                         29\n",
              "Normotenso                      1714\n",
              "dtype: int64"
            ]
          },
          "metadata": {
            "tags": []
          },
          "execution_count": 9
        }
      ]
    },
    {
      "cell_type": "code",
      "metadata": {
        "id": "OrNPhpil3XMg",
        "colab_type": "code",
        "colab": {},
        "outputId": "24a1ae3b-9c87-45ea-b1eb-8b19fd230752"
      },
      "source": [
        "df_Interna_True.groupby('FR_str').size()"
      ],
      "execution_count": 0,
      "outputs": [
        {
          "output_type": "execute_result",
          "data": {
            "text/plain": [
              "FR_str\n",
              "Bradipneico      10\n",
              "Eupneico       2219\n",
              "Taquipneico     144\n",
              "dtype: int64"
            ]
          },
          "metadata": {
            "tags": []
          },
          "execution_count": 10
        }
      ]
    },
    {
      "cell_type": "code",
      "metadata": {
        "id": "ue9ECQko3XMj",
        "colab_type": "code",
        "colab": {},
        "outputId": "824e415e-fe38-4b15-9769-d99194b1dd69"
      },
      "source": [
        "df_Interna_True.groupby('P_str').size()"
      ],
      "execution_count": 0,
      "outputs": [
        {
          "output_type": "execute_result",
          "data": {
            "text/plain": [
              "P_str\n",
              "Bradicardico     130\n",
              "Normocardico    1890\n",
              "Taquicardico     353\n",
              "dtype: int64"
            ]
          },
          "metadata": {
            "tags": []
          },
          "execution_count": 11
        }
      ]
    },
    {
      "cell_type": "code",
      "metadata": {
        "id": "rOR-nD-j3XMo",
        "colab_type": "code",
        "colab": {},
        "outputId": "41151ad7-8705-40d1-e3c4-8f4847b9745a"
      },
      "source": [
        "df_Interna_True.groupby('SpO2_str').size()"
      ],
      "execution_count": 0,
      "outputs": [
        {
          "output_type": "execute_result",
          "data": {
            "text/plain": [
              "SpO2_str\n",
              "Baixo      300\n",
              "Normal    2073\n",
              "dtype: int64"
            ]
          },
          "metadata": {
            "tags": []
          },
          "execution_count": 12
        }
      ]
    },
    {
      "cell_type": "markdown",
      "metadata": {
        "id": "koBlqNQx3XMr",
        "colab_type": "text"
      },
      "source": [
        "# <>"
      ]
    },
    {
      "cell_type": "code",
      "metadata": {
        "id": "E0PBM6Mn3XMs",
        "colab_type": "code",
        "colab": {}
      },
      "source": [
        "# View only 'Interna_str' = True & Normal\n",
        "df_Interna_TrueNormal = df_Interna_True[(df_Interna_True['T_str'] == 'Normotermia') & (df_Interna_True['PA_str'] == 'Normotenso') & (df_Interna_True['FR_str'] == 'Eupneico') & (df_Interna_True['P_str'] == 'Normocardico') & (df_Interna_True['SpO2_str'] == 'Normal')]"
      ],
      "execution_count": 0,
      "outputs": []
    },
    {
      "cell_type": "code",
      "metadata": {
        "id": "5aGg1S903XMv",
        "colab_type": "code",
        "colab": {},
        "outputId": "2664e807-9d3f-4d65-ba50-477a1f4f4357"
      },
      "source": [
        "# View\n",
        "df_Interna_TrueNormal.head(5)"
      ],
      "execution_count": 0,
      "outputs": [
        {
          "output_type": "execute_result",
          "data": {
            "text/html": [
              "<div>\n",
              "<style scoped>\n",
              "    .dataframe tbody tr th:only-of-type {\n",
              "        vertical-align: middle;\n",
              "    }\n",
              "\n",
              "    .dataframe tbody tr th {\n",
              "        vertical-align: top;\n",
              "    }\n",
              "\n",
              "    .dataframe thead th {\n",
              "        text-align: right;\n",
              "    }\n",
              "</style>\n",
              "<table border=\"1\" class=\"dataframe\">\n",
              "  <thead>\n",
              "    <tr style=\"text-align: right;\">\n",
              "      <th></th>\n",
              "      <th>T</th>\n",
              "      <th>PAd</th>\n",
              "      <th>PAs</th>\n",
              "      <th>FR</th>\n",
              "      <th>P</th>\n",
              "      <th>SpO2</th>\n",
              "      <th>T_str</th>\n",
              "      <th>T_num</th>\n",
              "      <th>PA_str</th>\n",
              "      <th>PA_num</th>\n",
              "      <th>FR_str</th>\n",
              "      <th>FR_num</th>\n",
              "      <th>P_str</th>\n",
              "      <th>P_num</th>\n",
              "      <th>SpO2_str</th>\n",
              "      <th>SpO2_num</th>\n",
              "      <th>Interna_num</th>\n",
              "    </tr>\n",
              "  </thead>\n",
              "  <tbody>\n",
              "    <tr>\n",
              "      <th>84</th>\n",
              "      <td>36.2</td>\n",
              "      <td>85</td>\n",
              "      <td>127</td>\n",
              "      <td>18</td>\n",
              "      <td>86</td>\n",
              "      <td>96</td>\n",
              "      <td>Normotermia</td>\n",
              "      <td>2</td>\n",
              "      <td>Normotenso</td>\n",
              "      <td>2</td>\n",
              "      <td>Eupneico</td>\n",
              "      <td>2</td>\n",
              "      <td>Normocardico</td>\n",
              "      <td>2</td>\n",
              "      <td>Normal</td>\n",
              "      <td>2</td>\n",
              "      <td>1</td>\n",
              "    </tr>\n",
              "    <tr>\n",
              "      <th>246</th>\n",
              "      <td>35.9</td>\n",
              "      <td>70</td>\n",
              "      <td>112</td>\n",
              "      <td>17</td>\n",
              "      <td>83</td>\n",
              "      <td>96</td>\n",
              "      <td>Normotermia</td>\n",
              "      <td>2</td>\n",
              "      <td>Normotenso</td>\n",
              "      <td>2</td>\n",
              "      <td>Eupneico</td>\n",
              "      <td>2</td>\n",
              "      <td>Normocardico</td>\n",
              "      <td>2</td>\n",
              "      <td>Normal</td>\n",
              "      <td>2</td>\n",
              "      <td>1</td>\n",
              "    </tr>\n",
              "    <tr>\n",
              "      <th>250</th>\n",
              "      <td>36.4</td>\n",
              "      <td>84</td>\n",
              "      <td>124</td>\n",
              "      <td>16</td>\n",
              "      <td>93</td>\n",
              "      <td>99</td>\n",
              "      <td>Normotermia</td>\n",
              "      <td>2</td>\n",
              "      <td>Normotenso</td>\n",
              "      <td>2</td>\n",
              "      <td>Eupneico</td>\n",
              "      <td>2</td>\n",
              "      <td>Normocardico</td>\n",
              "      <td>2</td>\n",
              "      <td>Normal</td>\n",
              "      <td>2</td>\n",
              "      <td>1</td>\n",
              "    </tr>\n",
              "    <tr>\n",
              "      <th>274</th>\n",
              "      <td>35.5</td>\n",
              "      <td>79</td>\n",
              "      <td>120</td>\n",
              "      <td>20</td>\n",
              "      <td>82</td>\n",
              "      <td>95</td>\n",
              "      <td>Normotermia</td>\n",
              "      <td>2</td>\n",
              "      <td>Normotenso</td>\n",
              "      <td>2</td>\n",
              "      <td>Eupneico</td>\n",
              "      <td>2</td>\n",
              "      <td>Normocardico</td>\n",
              "      <td>2</td>\n",
              "      <td>Normal</td>\n",
              "      <td>2</td>\n",
              "      <td>1</td>\n",
              "    </tr>\n",
              "    <tr>\n",
              "      <th>395</th>\n",
              "      <td>36.1</td>\n",
              "      <td>70</td>\n",
              "      <td>111</td>\n",
              "      <td>16</td>\n",
              "      <td>84</td>\n",
              "      <td>98</td>\n",
              "      <td>Normotermia</td>\n",
              "      <td>2</td>\n",
              "      <td>Normotenso</td>\n",
              "      <td>2</td>\n",
              "      <td>Eupneico</td>\n",
              "      <td>2</td>\n",
              "      <td>Normocardico</td>\n",
              "      <td>2</td>\n",
              "      <td>Normal</td>\n",
              "      <td>2</td>\n",
              "      <td>1</td>\n",
              "    </tr>\n",
              "  </tbody>\n",
              "</table>\n",
              "</div>"
            ],
            "text/plain": [
              "        T  PAd  PAs  FR   P  SpO2        T_str  T_num      PA_str  PA_num  \\\n",
              "84   36.2   85  127  18  86    96  Normotermia      2  Normotenso       2   \n",
              "246  35.9   70  112  17  83    96  Normotermia      2  Normotenso       2   \n",
              "250  36.4   84  124  16  93    99  Normotermia      2  Normotenso       2   \n",
              "274  35.5   79  120  20  82    95  Normotermia      2  Normotenso       2   \n",
              "395  36.1   70  111  16  84    98  Normotermia      2  Normotenso       2   \n",
              "\n",
              "       FR_str  FR_num         P_str  P_num SpO2_str  SpO2_num  Interna_num  \n",
              "84   Eupneico       2  Normocardico      2   Normal         2            1  \n",
              "246  Eupneico       2  Normocardico      2   Normal         2            1  \n",
              "250  Eupneico       2  Normocardico      2   Normal         2            1  \n",
              "274  Eupneico       2  Normocardico      2   Normal         2            1  \n",
              "395  Eupneico       2  Normocardico      2   Normal         2            1  "
            ]
          },
          "metadata": {
            "tags": []
          },
          "execution_count": 14
        }
      ]
    },
    {
      "cell_type": "code",
      "metadata": {
        "id": "RJ1rvq4z3XMz",
        "colab_type": "code",
        "colab": {},
        "outputId": "0b01fe5f-3e6a-4b30-9df1-5ebb77c8bd2c"
      },
      "source": [
        "df_Interna_TrueNormal.count()"
      ],
      "execution_count": 0,
      "outputs": [
        {
          "output_type": "execute_result",
          "data": {
            "text/plain": [
              "T              1064\n",
              "PAd            1064\n",
              "PAs            1064\n",
              "FR             1064\n",
              "P              1064\n",
              "SpO2           1064\n",
              "T_str          1064\n",
              "T_num          1064\n",
              "PA_str         1064\n",
              "PA_num         1064\n",
              "FR_str         1064\n",
              "FR_num         1064\n",
              "P_str          1064\n",
              "P_num          1064\n",
              "SpO2_str       1064\n",
              "SpO2_num       1064\n",
              "Interna_num    1064\n",
              "dtype: int64"
            ]
          },
          "metadata": {
            "tags": []
          },
          "execution_count": 15
        }
      ]
    },
    {
      "cell_type": "markdown",
      "metadata": {
        "id": "Djxru1Jg3XM2",
        "colab_type": "text"
      },
      "source": [
        "##### Das 2004 internações, 853 (42,6%) ocorreram com todos os sinais vitais considerados normais."
      ]
    },
    {
      "cell_type": "code",
      "metadata": {
        "id": "5mg3A4s-3XM3",
        "colab_type": "code",
        "colab": {}
      },
      "source": [
        "# View only 'Interna_str' = True & Normal2\n",
        "df_Interna_TrueNormal2 = df_Interna_True[((df_Interna_True['T_str'] == 'Normotermia') | (df_Interna_True['T_str'] == 'Febricula')) & ((df_Interna_True['PA_str'] == 'Normotenso') | (df_Interna_True['PA_str'] == 'Normotenso_Limitrofe') | (df_Interna_True['PA_str'] == 'Hypertenso_Leve')) & (df_Interna_True['FR_str'] == 'Eupneico') & (df_Interna_True['P_str'] == 'Normocardico') & (df_Interna_True['SpO2_str'] == 'Normal')]\n",
        "\n",
        "# 35,5°C - 37,2°C Normotermia ou Afebril\n",
        "# 37,3°C - 37,7°C Estado febril/subfebril ou febrícula\n",
        "\n",
        "# Normotenso..........:     90 - 130     60 -  85\n",
        "# Normotenso Limítrofe:    130 - 139     85 -  89\n",
        "# Hipertenso Leve.....:    140 - 159     90 -  99"
      ],
      "execution_count": 0,
      "outputs": []
    },
    {
      "cell_type": "code",
      "metadata": {
        "id": "nbxJGzpU3XM6",
        "colab_type": "code",
        "colab": {},
        "outputId": "76b7886a-af91-4b36-ead1-6ed58020d65d"
      },
      "source": [
        "# View\n",
        "df_Interna_TrueNormal2.head(5)"
      ],
      "execution_count": 0,
      "outputs": [
        {
          "output_type": "execute_result",
          "data": {
            "text/html": [
              "<div>\n",
              "<style scoped>\n",
              "    .dataframe tbody tr th:only-of-type {\n",
              "        vertical-align: middle;\n",
              "    }\n",
              "\n",
              "    .dataframe tbody tr th {\n",
              "        vertical-align: top;\n",
              "    }\n",
              "\n",
              "    .dataframe thead th {\n",
              "        text-align: right;\n",
              "    }\n",
              "</style>\n",
              "<table border=\"1\" class=\"dataframe\">\n",
              "  <thead>\n",
              "    <tr style=\"text-align: right;\">\n",
              "      <th></th>\n",
              "      <th>T</th>\n",
              "      <th>PAd</th>\n",
              "      <th>PAs</th>\n",
              "      <th>FR</th>\n",
              "      <th>P</th>\n",
              "      <th>SpO2</th>\n",
              "      <th>T_str</th>\n",
              "      <th>T_num</th>\n",
              "      <th>PA_str</th>\n",
              "      <th>PA_num</th>\n",
              "      <th>FR_str</th>\n",
              "      <th>FR_num</th>\n",
              "      <th>P_str</th>\n",
              "      <th>P_num</th>\n",
              "      <th>SpO2_str</th>\n",
              "      <th>SpO2_num</th>\n",
              "      <th>Interna_num</th>\n",
              "    </tr>\n",
              "  </thead>\n",
              "  <tbody>\n",
              "    <tr>\n",
              "      <th>84</th>\n",
              "      <td>36.2</td>\n",
              "      <td>85</td>\n",
              "      <td>127</td>\n",
              "      <td>18</td>\n",
              "      <td>86</td>\n",
              "      <td>96</td>\n",
              "      <td>Normotermia</td>\n",
              "      <td>2</td>\n",
              "      <td>Normotenso</td>\n",
              "      <td>2</td>\n",
              "      <td>Eupneico</td>\n",
              "      <td>2</td>\n",
              "      <td>Normocardico</td>\n",
              "      <td>2</td>\n",
              "      <td>Normal</td>\n",
              "      <td>2</td>\n",
              "      <td>1</td>\n",
              "    </tr>\n",
              "    <tr>\n",
              "      <th>246</th>\n",
              "      <td>35.9</td>\n",
              "      <td>70</td>\n",
              "      <td>112</td>\n",
              "      <td>17</td>\n",
              "      <td>83</td>\n",
              "      <td>96</td>\n",
              "      <td>Normotermia</td>\n",
              "      <td>2</td>\n",
              "      <td>Normotenso</td>\n",
              "      <td>2</td>\n",
              "      <td>Eupneico</td>\n",
              "      <td>2</td>\n",
              "      <td>Normocardico</td>\n",
              "      <td>2</td>\n",
              "      <td>Normal</td>\n",
              "      <td>2</td>\n",
              "      <td>1</td>\n",
              "    </tr>\n",
              "    <tr>\n",
              "      <th>250</th>\n",
              "      <td>36.4</td>\n",
              "      <td>84</td>\n",
              "      <td>124</td>\n",
              "      <td>16</td>\n",
              "      <td>93</td>\n",
              "      <td>99</td>\n",
              "      <td>Normotermia</td>\n",
              "      <td>2</td>\n",
              "      <td>Normotenso</td>\n",
              "      <td>2</td>\n",
              "      <td>Eupneico</td>\n",
              "      <td>2</td>\n",
              "      <td>Normocardico</td>\n",
              "      <td>2</td>\n",
              "      <td>Normal</td>\n",
              "      <td>2</td>\n",
              "      <td>1</td>\n",
              "    </tr>\n",
              "    <tr>\n",
              "      <th>274</th>\n",
              "      <td>35.5</td>\n",
              "      <td>79</td>\n",
              "      <td>120</td>\n",
              "      <td>20</td>\n",
              "      <td>82</td>\n",
              "      <td>95</td>\n",
              "      <td>Normotermia</td>\n",
              "      <td>2</td>\n",
              "      <td>Normotenso</td>\n",
              "      <td>2</td>\n",
              "      <td>Eupneico</td>\n",
              "      <td>2</td>\n",
              "      <td>Normocardico</td>\n",
              "      <td>2</td>\n",
              "      <td>Normal</td>\n",
              "      <td>2</td>\n",
              "      <td>1</td>\n",
              "    </tr>\n",
              "    <tr>\n",
              "      <th>395</th>\n",
              "      <td>36.1</td>\n",
              "      <td>70</td>\n",
              "      <td>111</td>\n",
              "      <td>16</td>\n",
              "      <td>84</td>\n",
              "      <td>98</td>\n",
              "      <td>Normotermia</td>\n",
              "      <td>2</td>\n",
              "      <td>Normotenso</td>\n",
              "      <td>2</td>\n",
              "      <td>Eupneico</td>\n",
              "      <td>2</td>\n",
              "      <td>Normocardico</td>\n",
              "      <td>2</td>\n",
              "      <td>Normal</td>\n",
              "      <td>2</td>\n",
              "      <td>1</td>\n",
              "    </tr>\n",
              "  </tbody>\n",
              "</table>\n",
              "</div>"
            ],
            "text/plain": [
              "        T  PAd  PAs  FR   P  SpO2        T_str  T_num      PA_str  PA_num  \\\n",
              "84   36.2   85  127  18  86    96  Normotermia      2  Normotenso       2   \n",
              "246  35.9   70  112  17  83    96  Normotermia      2  Normotenso       2   \n",
              "250  36.4   84  124  16  93    99  Normotermia      2  Normotenso       2   \n",
              "274  35.5   79  120  20  82    95  Normotermia      2  Normotenso       2   \n",
              "395  36.1   70  111  16  84    98  Normotermia      2  Normotenso       2   \n",
              "\n",
              "       FR_str  FR_num         P_str  P_num SpO2_str  SpO2_num  Interna_num  \n",
              "84   Eupneico       2  Normocardico      2   Normal         2            1  \n",
              "246  Eupneico       2  Normocardico      2   Normal         2            1  \n",
              "250  Eupneico       2  Normocardico      2   Normal         2            1  \n",
              "274  Eupneico       2  Normocardico      2   Normal         2            1  \n",
              "395  Eupneico       2  Normocardico      2   Normal         2            1  "
            ]
          },
          "metadata": {
            "tags": []
          },
          "execution_count": 17
        }
      ]
    },
    {
      "cell_type": "code",
      "metadata": {
        "id": "4TIE2m7C3XM-",
        "colab_type": "code",
        "colab": {},
        "outputId": "72ee6b51-3126-4048-a419-8a5f0ca7c280"
      },
      "source": [
        "df_Interna_TrueNormal2.count()"
      ],
      "execution_count": 0,
      "outputs": [
        {
          "output_type": "execute_result",
          "data": {
            "text/plain": [
              "T              1118\n",
              "PAd            1118\n",
              "PAs            1118\n",
              "FR             1118\n",
              "P              1118\n",
              "SpO2           1118\n",
              "T_str          1118\n",
              "T_num          1118\n",
              "PA_str         1118\n",
              "PA_num         1118\n",
              "FR_str         1118\n",
              "FR_num         1118\n",
              "P_str          1118\n",
              "P_num          1118\n",
              "SpO2_str       1118\n",
              "SpO2_num       1118\n",
              "Interna_num    1118\n",
              "dtype: int64"
            ]
          },
          "metadata": {
            "tags": []
          },
          "execution_count": 18
        }
      ]
    },
    {
      "cell_type": "markdown",
      "metadata": {
        "id": "G8SOZNys3XNB",
        "colab_type": "text"
      },
      "source": [
        "##### Das 2004 internações, 891 (44,5%) ocorreram com todos os sinais vitais considerados normais."
      ]
    },
    {
      "cell_type": "code",
      "metadata": {
        "id": "71Tfc8Wm3XNC",
        "colab_type": "code",
        "colab": {}
      },
      "source": [
        "# View only 'Interna_str' = True & Not Normal\n",
        "df_Interna_TrueNotNormal = df_Interna_True[(df_Interna_True['T_str'] != 'Normotermia') & (df_Interna_True['PA_str'] != 'Normotenso') & (df_Interna_True['FR_str'] != 'Eupneico') & (df_Interna_True['P_str'] != 'Normocardico') & (df_Interna_True['SpO2_str'] != 'Normal')]"
      ],
      "execution_count": 0,
      "outputs": []
    },
    {
      "cell_type": "code",
      "metadata": {
        "id": "SdOelZ1R3XNF",
        "colab_type": "code",
        "colab": {}
      },
      "source": [
        "df_Interna_True.columns\n",
        "df_Interna_True.head"
      ],
      "execution_count": 0,
      "outputs": []
    },
    {
      "cell_type": "code",
      "metadata": {
        "id": "oH8EwEYz3XNH",
        "colab_type": "code",
        "colab": {}
      },
      "source": [
        "# View\n",
        "df_Interna_TrueNotNormal.head(5)"
      ],
      "execution_count": 0,
      "outputs": []
    },
    {
      "cell_type": "code",
      "metadata": {
        "id": "dSRFw8mx3XNN",
        "colab_type": "code",
        "colab": {}
      },
      "source": [
        "df_Interna_TrueNotNormal.count()"
      ],
      "execution_count": 0,
      "outputs": []
    },
    {
      "cell_type": "markdown",
      "metadata": {
        "id": "cRfzv4463XNQ",
        "colab_type": "text"
      },
      "source": [
        "##### Das 2004 internações, 2 (0,001%) ocorreram com TODOS os sinais vitais considerados NÃO NORMAIS."
      ]
    },
    {
      "cell_type": "markdown",
      "metadata": {
        "id": "dJ5duKio3XNQ",
        "colab_type": "text"
      },
      "source": [
        "# <> False <>"
      ]
    },
    {
      "cell_type": "code",
      "metadata": {
        "id": "IOiO50tn3XNR",
        "colab_type": "code",
        "colab": {}
      },
      "source": [
        "# View only 'Interna_str' = False\n",
        "df_Interna_False = df_SSVV_NaNfiltered[(df_SSVV_NaNfiltered['Interna_num'] == 0)]\n",
        "df_Interna_False.count()"
      ],
      "execution_count": 0,
      "outputs": []
    },
    {
      "cell_type": "code",
      "metadata": {
        "id": "ZgeOhBZg3XNT",
        "colab_type": "code",
        "colab": {}
      },
      "source": [
        "df_Interna_False.groupby('T_str').size()"
      ],
      "execution_count": 0,
      "outputs": []
    },
    {
      "cell_type": "code",
      "metadata": {
        "id": "AzjDtp3v3XNX",
        "colab_type": "code",
        "colab": {}
      },
      "source": [
        "df_Interna_False.groupby('PA_str').size()"
      ],
      "execution_count": 0,
      "outputs": []
    },
    {
      "cell_type": "code",
      "metadata": {
        "id": "txdCIeG33XNa",
        "colab_type": "code",
        "colab": {}
      },
      "source": [
        "df_Interna_False.groupby('FR_str').size()"
      ],
      "execution_count": 0,
      "outputs": []
    },
    {
      "cell_type": "code",
      "metadata": {
        "id": "8yvA7Q3h3XNd",
        "colab_type": "code",
        "colab": {}
      },
      "source": [
        "df_Interna_False.groupby('P_str').size()"
      ],
      "execution_count": 0,
      "outputs": []
    },
    {
      "cell_type": "code",
      "metadata": {
        "id": "WVEpP64n3XNf",
        "colab_type": "code",
        "colab": {}
      },
      "source": [
        "df_Interna_False.groupby('SpO2_str').size()"
      ],
      "execution_count": 0,
      "outputs": []
    },
    {
      "cell_type": "markdown",
      "metadata": {
        "id": "3RqeTEsn3XNi",
        "colab_type": "text"
      },
      "source": [
        "# <>"
      ]
    },
    {
      "cell_type": "code",
      "metadata": {
        "id": "MBqTwz8j3XNj",
        "colab_type": "code",
        "colab": {}
      },
      "source": [
        "# View only 'Interna_str' = False & Not Normal\n",
        "df_Interna_FalseNotNormal = df_Interna_False[(df_Interna_False['T_str'] != 'Normotermia') & (df_Interna_False['PA_str'] != 'Normotenso') & (df_Interna_False['FR_str'] != 'Eupneico') & (df_Interna_False['P_str'] != 'Normocardico') & (df_Interna_False['SpO2_str'] != 'Normal')]"
      ],
      "execution_count": 0,
      "outputs": []
    },
    {
      "cell_type": "code",
      "metadata": {
        "id": "kPqaF84A3XNm",
        "colab_type": "code",
        "colab": {}
      },
      "source": [
        "# View\n",
        "df_Interna_FalseNotNormal.head(5)"
      ],
      "execution_count": 0,
      "outputs": []
    },
    {
      "cell_type": "code",
      "metadata": {
        "id": "O8a5nx-I3XNo",
        "colab_type": "code",
        "colab": {}
      },
      "source": [
        "df_Interna_FalseNotNormal.count()"
      ],
      "execution_count": 0,
      "outputs": []
    },
    {
      "cell_type": "markdown",
      "metadata": {
        "id": "wkcGFpxO3XNr",
        "colab_type": "text"
      },
      "source": [
        "##### Das 65861 NÃO internações, 6 (0,01%) apresentam TODOS os sinais vitais considerados NÃO NORMAIS."
      ]
    },
    {
      "cell_type": "code",
      "metadata": {
        "id": "jceYyLzb3XNr",
        "colab_type": "code",
        "colab": {}
      },
      "source": [
        "# Mais análises? Algum cenário não abordado?"
      ],
      "execution_count": 0,
      "outputs": []
    },
    {
      "cell_type": "code",
      "metadata": {
        "id": "0pF2Pe5Y3XNu",
        "colab_type": "code",
        "colab": {}
      },
      "source": [
        "# Desenvolva o código..."
      ],
      "execution_count": 0,
      "outputs": []
    },
    {
      "cell_type": "code",
      "metadata": {
        "id": "11LNPZSR3XNw",
        "colab_type": "code",
        "colab": {}
      },
      "source": [
        ""
      ],
      "execution_count": 0,
      "outputs": []
    }
  ]
}