{
  "nbformat": 4,
  "nbformat_minor": 0,
  "metadata": {
    "kernelspec": {
      "display_name": "Python 3",
      "language": "python",
      "name": "python3"
    },
    "language_info": {
      "codemirror_mode": {
        "name": "ipython",
        "version": 3
      },
      "file_extension": ".py",
      "mimetype": "text/x-python",
      "name": "python",
      "nbconvert_exporter": "python",
      "pygments_lexer": "ipython3",
      "version": "3.6.7"
    },
    "colab": {
      "name": "Copy of atividade_dt.ipynb",
      "provenance": []
    }
  },
  "cells": [
    {
      "cell_type": "markdown",
      "metadata": {
        "id": "sOTuiDLjPi-m",
        "colab_type": "text"
      },
      "source": [
        "# Datathon\n",
        "\n",
        "Arquivo base para Colab"
      ]
    },
    {
      "cell_type": "code",
      "metadata": {
        "id": "q7TKlGAdPvsV",
        "colab_type": "code",
        "colab": {}
      },
      "source": [
        "for coluna in colunas:\n",
        "  if df[coluna].dtype == 'object':\n",
        "    print(coluna)\n"
      ],
      "execution_count": 0,
      "outputs": []
    },
    {
      "cell_type": "code",
      "metadata": {
        "id": "iV0hTA7yQF-w",
        "colab_type": "code",
        "colab": {}
      },
      "source": [
        "dicionario = dict()\n",
        "iterator = 1\n",
        "\n",
        "variaveis = df['sexo'].unique()\n",
        "\n",
        "for variaveis in vatriaveis:\n",
        "  dicionario[variavel] = iterator\n",
        "  iterator += 1 "
      ],
      "execution_count": 0,
      "outputs": []
    },
    {
      "cell_type": "code",
      "metadata": {
        "id": "IcN7LTsvQ4E8",
        "colab_type": "code",
        "colab": {}
      },
      "source": [
        "dicionario\n"
      ],
      "execution_count": 0,
      "outputs": []
    },
    {
      "cell_type": "code",
      "metadata": {
        "id": "HA7F0q-yQ9VE",
        "colab_type": "code",
        "colab": {}
      },
      "source": [
        "dicionario.get('Desconhecidos', 0)"
      ],
      "execution_count": 0,
      "outputs": []
    },
    {
      "cell_type": "code",
      "metadata": {
        "id": "hKtmCqveRJrT",
        "colab_type": "code",
        "colab": {}
      },
      "source": [
        "dicionario_tradutor = dict()\n",
        "\n",
        "for chave, valor in dicionario.items():\n",
        "  dicionario_tradutor[valor] = chave\n",
        "\n"
      ],
      "execution_count": 0,
      "outputs": []
    },
    {
      "cell_type": "code",
      "metadata": {
        "id": "kvDBOBImRqJ7",
        "colab_type": "code",
        "colab": {}
      },
      "source": [
        "dicionario_tradutor\n"
      ],
      "execution_count": 0,
      "outputs": []
    }
  ]
}